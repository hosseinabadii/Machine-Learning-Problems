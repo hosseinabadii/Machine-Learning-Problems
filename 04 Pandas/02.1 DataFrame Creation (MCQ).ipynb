{
 "cells": [
  {
   "attachments": {},
   "cell_type": "markdown",
   "id": "dfab000f-5ee8-4554-9620-79f1cb8ef758",
   "metadata": {},
   "source": [
    "# DataFrame Creation (MCQ)"
   ]
  },
  {
   "cell_type": "markdown",
   "id": "f9f5ef99-5fda-40c0-b1c1-475ef3e30ab7",
   "metadata": {},
   "source": [
    "---"
   ]
  },
  {
   "attachments": {},
   "cell_type": "markdown",
   "id": "91f2b957",
   "metadata": {},
   "source": [
    "**Question:**\n",
    "\n",
    "Which of the following data structures can be used to create a Pandas DataFrame? (select all that apply)\n",
    "\n",
    "1. Dictionary of 1D ndarrays, lists, dicts, or Series\n",
    "2. 2-D numpy.ndarray\n",
    "3. Structured or record ndarray\n",
    "4. A Series\n",
    "5. Another DataFrame\n",
    "\n",
    "**Answer:**  All the options are true\n",
    "\n",
    "All the above options can be used to create a Pandas DataFrame."
   ]
  },
  {
   "cell_type": "markdown",
   "id": "b3b0a5af",
   "metadata": {},
   "source": [
    "---"
   ]
  },
  {
   "cell_type": "markdown",
   "id": "bfe6d3b2",
   "metadata": {},
   "source": [
    "**Question:**\n",
    "\n",
    "Which of the following Python dictionaries can be used to create a pandas DataFrame?\n",
    "```python\n",
    "d1 = {\"one\": [1, 2], \"two\": [1, 2, 3]}\n",
    "d2 = {\"one\": np.array([1, 2]), \"two\": np.array([1, 2, 3])}\n",
    "d3 = {\"one\": pd.Series([1, 2]), \"two\": pd.Series([1, 2, 3])}\n",
    "```\n",
    "\n",
    "1. --> d1\n",
    "2. --> d2\n",
    "3. --> d3\n",
    "4. --> All of the above\n",
    "\n",
    "**Answer:** 3\n",
    "\n",
    "Both `pd.DataFrame(d1)` and `pd.DataFrame(d2)` will raise a **ValueError: All arrays must be of the same length** and cannot create a pandas DataFrame.\n",
    "\n",
    "But `pd.DataFrame(d3)` creates a pandas DataFrame with two columns. Since the first series has fewer elements than the other one, pandas automatically fills the missing values with `NaN` (Not a Number) to align the data."
   ]
  },
  {
   "cell_type": "markdown",
   "id": "d91d74f1",
   "metadata": {},
   "source": [
    "---"
   ]
  },
  {
   "cell_type": "markdown",
   "id": "80074b47",
   "metadata": {},
   "source": [
    "**Question:**\n",
    "\n",
    "When creating a DataFrame from a dictionary of **ndarray/list**, what is the condition for all the ndarray/list to have?\n",
    "\n",
    "1. They must have the same sum.\n",
    "2. They must have the same length.\n",
    "3. They must have the same mean.\n",
    "4. They must have the same maximum value.\n",
    "\n",
    "**Answer:** 2\n",
    "\n",
    "When creating a DataFrame from a dictionary of ndarray/list, all the ndarray/list must have the **same length**. This means that the number of elements in each narray/list should be equal."
   ]
  },
  {
   "cell_type": "markdown",
   "id": "20f036db",
   "metadata": {},
   "source": [
    "---"
   ]
  },
  {
   "cell_type": "markdown",
   "id": "0eaacafd",
   "metadata": {},
   "source": [
    "**Question:**\n",
    "\n",
    "If no index is passed when creating a DataFrame from a dictionary of ndarray/list, what will be the **default index**?\n",
    "\n",
    "1. The index will be a sequence of random integers.\n",
    "2. The index will be a sequence of prime numbers.\n",
    "3. The index will be a sequence of negative integers.\n",
    "4. The index will be a sequence of consecutive integers starting from zero.\n",
    "\n",
    "**Answer:** 4\n",
    "\n",
    "If no index is passed, the default index will be `range(n),` where `n` is the array length. In other words, the index will be a sequence of consecutive integers starting from zero."
   ]
  },
  {
   "cell_type": "markdown",
   "id": "41838ee7",
   "metadata": {},
   "source": [
    "---"
   ]
  },
  {
   "cell_type": "markdown",
   "id": "ee08cf00",
   "metadata": {},
   "source": [
    "**Question:**\n",
    "\n",
    "When converting a dictionary to a DataFrame, how can we select only specific columns to be included in the resulting DataFrame?\n",
    "\n",
    "1. By specifying the row labels in the constructor.\n",
    "2. By passing a list of column labels to the \"columns\" parameter in the constructor.\n",
    "3. By providing column names as keyword arguments in the constructor.\n",
    "4. By using the \"subset\" parameter in the constructor.\n",
    "\n",
    "**Answer:** 2\n",
    "\n",
    "When converting a dictionary to a DataFrame, we can select only specific columns to be included in the resulting DataFrame by passing a list of column labels to the `\"columns\"` parameter in the constructor. By doing so, we can filter and include only the required columns from the original dictionary in the DataFrame."
   ]
  },
  {
   "cell_type": "markdown",
   "id": "325092fd",
   "metadata": {},
   "source": [
    "---"
   ]
  },
  {
   "cell_type": "markdown",
   "id": "327777a3",
   "metadata": {},
   "source": [
    "**Question:**\n",
    "\n",
    "How can we provide a **customized index** for each row when creating a pandas DataFrame from a dictionary of ndarray/list?\n",
    "\n",
    "1. By using the \"custom_index\" parameter in the constructor.\n",
    "2. By passing a list of row indexes to the \"indexes\" parameter in the constructor.\n",
    "3. By specifying the row index labels as a separate dictionary in the constructor.\n",
    "4. By passing a list of row indexes to the \"index\" parameter in the constructor.\n",
    "\n",
    "**Answer:** 4\n",
    "\n",
    "When creating a pandas DataFrame from a dictionary of ndarray/list, if we want to assign specific index labels to each row, we can pass a list of row indexes to the `\"index\"` parameter."
   ]
  },
  {
   "cell_type": "markdown",
   "id": "7935838c",
   "metadata": {},
   "source": [
    "---"
   ]
  },
  {
   "cell_type": "markdown",
   "id": "2d0742e9",
   "metadata": {},
   "source": [
    "**Question:**\n",
    "\n",
    "What will be the result of the following code?\n",
    "\n",
    "```python\n",
    "d = {\"one\": pd.Series([1, 2, 3]), \"two\": pd.Series([4, 5, 6])}\n",
    "df = pd.DataFrame(d, index=list(\"abc\"))\n",
    "print(df)\n",
    "```\n",
    "\n",
    "1.\n",
    "```python\n",
    "   one  two\n",
    "a  1    4\n",
    "b  2    5\n",
    "c  3    6\n",
    "```\n",
    "\n",
    "1.\n",
    "```python\n",
    "   one  two\n",
    "0  1    4\n",
    "1  2    5\n",
    "2  3    6\n",
    "```\n",
    "\n",
    "1.\n",
    "```python\n",
    "   one  two\n",
    "a  NaN  NaN\n",
    "b  NaN  NaN\n",
    "c  NaN  NaN\n",
    "```\n",
    "\n",
    "1.\n",
    "```python\n",
    "   one  two\n",
    "0  NaN  NaN\n",
    "1  NaN  NaN\n",
    "2  NaN  NaN\n",
    "```\n",
    "\n",
    "**Answer:** 3\n",
    "\n",
    "Both `pd.Series([1, 2, 3])` and `pd.Series([4, 5, 6])` create a Series with default numerical indices `[0, 1, 2]`. However, when creating the DataFrame, the index labels are explicitly set as `[\"a\", \"b\", \"c\"]`. Since there is no correspondence between the numerical indices of the Series and the specified index labels, the resulting DataFrame will have missing values, represented as `NaN`."
   ]
  },
  {
   "cell_type": "markdown",
   "id": "bd058e9a",
   "metadata": {},
   "source": [
    "---"
   ]
  },
  {
   "cell_type": "markdown",
   "id": "c88abef2",
   "metadata": {},
   "source": [
    "**Question:**\n",
    "\n",
    "When creating a DataFrame from a **list of dictionaries**, what happens to the keys of the different dictionary objects by default?\n",
    "\n",
    "1. The keys are converted into separate columns of the DataFrame.\n",
    "2. The keys are merged and consolidated into a single column.\n",
    "3. The keys are discarded and not included in the resulting DataFrame.\n",
    "4. The code raises an error.\n",
    "\n",
    "**Answer:** 1\n",
    "\n",
    "When creating a DataFrame from a **list of dictionaries**, each dictionary in the list represents a row in the DataFrame. By default, the keys of the dictionaries are used as column names, and their corresponding values become the values in the respective columns."
   ]
  },
  {
   "cell_type": "markdown",
   "id": "d1661155",
   "metadata": {},
   "source": [
    "---"
   ]
  },
  {
   "cell_type": "markdown",
   "id": "0a33b5cf",
   "metadata": {},
   "source": [
    "**Question:**\n",
    "\n",
    "When creating a DataFrame from a **list of dictionaries**, what happens if a dictionary is missing a key compared to the other dictionaries in the list?\n",
    "\n",
    "1. The missing key is filled with the value 0.\n",
    "2. The missing key is ignored and not included in the resulting DataFrame.\n",
    "3. The missing key is replaced with NaN in the corresponding column of the DataFrame.\n",
    "4. The code raises an error.\n",
    "\n",
    "**Answer:** 3\n",
    "\n",
    "When creating a DataFrame from a **list of dictionaries**, if a dictionary is missing a key compared to the other dictionaries in the list, the missing key is replaced with `NaN` (Not a Number) in the corresponding column of the DataFrame."
   ]
  },
  {
   "cell_type": "markdown",
   "id": "bdbf1947",
   "metadata": {},
   "source": [
    "---"
   ]
  },
  {
   "cell_type": "markdown",
   "id": "194f4c29",
   "metadata": {},
   "source": [
    "**Question:**\n",
    "\n",
    "Which method can be used to access or modify the index of an existing DataFrame in pandas?\n",
    "\n",
    "1. Utilizing the `df.loc[]` accessor.\n",
    "2. Applying the `df.set()` method.\n",
    "3. Using the `df.indexes` notation.\n",
    "4. Using the `df.index` notation.\n",
    "\n",
    "**Answer:** 4\n",
    "\n",
    "Using the `df.index` notation allows you to directly access or modify the index of an existing DataFrame. For example, you can use `df.index` to retrieve the current index or assign a new index to the DataFrame."
   ]
  },
  {
   "cell_type": "markdown",
   "id": "370ed245",
   "metadata": {},
   "source": [
    "---"
   ]
  }
 ],
 "metadata": {
  "kernelspec": {
   "display_name": "Python 3 (ipykernel)",
   "language": "python",
   "name": "python3"
  },
  "language_info": {
   "codemirror_mode": {
    "name": "ipython",
    "version": 3
   },
   "file_extension": ".py",
   "mimetype": "text/x-python",
   "name": "python",
   "nbconvert_exporter": "python",
   "pygments_lexer": "ipython3",
   "version": "3.10.12"
  }
 },
 "nbformat": 4,
 "nbformat_minor": 5
}
