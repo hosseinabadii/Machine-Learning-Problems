{
 "cells": [
  {
   "attachments": {},
   "cell_type": "markdown",
   "id": "81104f97-2c7b-4228-9416-22306f126a99",
   "metadata": {
    "tags": []
   },
   "source": [
    "# NumPy Basics (MCQ)"
   ]
  },
  {
   "cell_type": "markdown",
   "id": "66a78f95-536f-4d1d-a17f-b64eb5446fab",
   "metadata": {},
   "source": [
    "---"
   ]
  },
  {
   "attachments": {},
   "cell_type": "markdown",
   "id": "d17ca5eb",
   "metadata": {},
   "source": [
    "**Question:**  \n",
    "What is one of the **top benefits** of using NumPy?\n",
    "1. More speed\n",
    "2. More loops\n",
    "3. More complex code\n",
    "4. More bugs\n",
    "\n",
    "**Answer:**  1\n",
    "\n",
    "NumPy uses fast `C` algorithms, resulting in improved performance and speed compared to traditional Python loops."
   ]
  },
  {
   "cell_type": "markdown",
   "id": "5b9d2967",
   "metadata": {},
   "source": [
    "---"
   ]
  },
  {
   "attachments": {},
   "cell_type": "markdown",
   "id": "7cede5b6",
   "metadata": {},
   "source": [
    "**Question:**  \n",
    "Which of the following is **NOT** a benefit of Numpy?\n",
    "1. Clearer code\n",
    "2. Fewer loops\n",
    "3. More memory consumption\n",
    "4. More speed\n",
    "\n",
    "**Answer:**  3\n",
    "\n",
    "More memory consumption is not a benefit of Numpy.\n",
    "\n",
    "Here are four top benefits of NumPy:\n",
    "\n",
    "- **More speed**: NumPy uses algorithms written in C that complete in nanoseconds rather than seconds.\n",
    "- **Fewer loops**: NumPy helps you to reduce loops and keep from getting tangled up in iteration indices.\n",
    "- **Clearer code**: Without loops, your code will look more like the equations you’re trying to calculate.\n",
    "- **Better quality**: There are thousands of contributors working to keep NumPy fast, friendly, and bug free."
   ]
  },
  {
   "cell_type": "markdown",
   "id": "0486be17",
   "metadata": {},
   "source": [
    "---"
   ]
  },
  {
   "attachments": {},
   "cell_type": "markdown",
   "id": "fb7b98ed",
   "metadata": {},
   "source": [
    "**Question:**  \n",
    "What does the term **ndarray** stand for?\n",
    "1. Non-deterministic array\n",
    "2. N-dimensional array\n",
    "3. Numeric data array\n",
    "4. Native data array\n",
    "\n",
    "**Answer:**  2\n",
    "\n",
    "The term **ndarray** stands for **N-dimensional array**. An ndarray is a multidimensional container used to store items of the same type and size."
   ]
  },
  {
   "cell_type": "markdown",
   "id": "fed93f3e",
   "metadata": {},
   "source": [
    "---"
   ]
  },
  {
   "attachments": {},
   "cell_type": "markdown",
   "id": "64585603",
   "metadata": {},
   "source": [
    "**Question:**  \n",
    "What information does the **shape** attribute of a NumPy array provide?\n",
    "1. The number of dimensions and items in the array\n",
    "2. The total memory usage of the array\n",
    "3. The data type of the array elements\n",
    "4. The maximum value in the array\n",
    "\n",
    "**Answer:**  1\n",
    "\n",
    "The **shape** of an array is a tuple specifying the number of dimensions and items in the array."
   ]
  },
  {
   "cell_type": "markdown",
   "id": "4200f605",
   "metadata": {},
   "source": [
    "---"
   ]
  },
  {
   "attachments": {},
   "cell_type": "markdown",
   "id": "4617c777",
   "metadata": {},
   "source": [
    "**Question:**  \n",
    "How can you specify the **type** of items in a NumPy array?\n",
    "\n",
    "1. By using the `type` parameter when creating the array\n",
    "2. By assigning a type to each individual item in the array\n",
    "3. By using the `dtype` parameter to providing a data-type object when creating the array\n",
    "4. You cannot specify the type of items in a NumPy array because NumPy automatically determines the type based on the values in the array.\n",
    "\n",
    "**Answer:**  3\n",
    "\n",
    "You can specify the **type** of items in a NumPy array by using the `dtype` parameter to provide a data-type object when creating the array."
   ]
  },
  {
   "cell_type": "markdown",
   "id": "b530f759",
   "metadata": {},
   "source": [
    "---"
   ]
  },
  {
   "attachments": {},
   "cell_type": "markdown",
   "id": "7b344ca7",
   "metadata": {},
   "source": [
    "**Question:**  \n",
    "Is it possible for one ndarray to be a **view** of another ndarray?\n",
    "\n",
    "1. Yes, ndarrays can be views of each other\n",
    "2. No, ndarrays cannot share the same data\n",
    "3. Only if they have the same shape\n",
    "4. Only if they have different data types\n",
    "\n",
    "**Answer:**  1\n",
    "\n",
    "Different ndarrays can share the same data, so that changes made in one ndarray may be visible in another. So, an ndarray can be a **view** to another ndarray, and the data it is referring to is taken care of by the “base” ndarray.\n"
   ]
  },
  {
   "cell_type": "markdown",
   "id": "954c0ea5",
   "metadata": {},
   "source": [
    "---"
   ]
  },
  {
   "attachments": {},
   "cell_type": "markdown",
   "id": "a84799b7",
   "metadata": {},
   "source": [
    "**Question:**  \n",
    "How does NumPy handle input with different data types when creating an array?\n",
    "\n",
    "1. It raises an error.\n",
    "2. It automatically casts all elements to a common data type.\n",
    "3. It assigns a separate data type to each element.\n",
    "4. It creates multiple arrays, each with a different data type.\n",
    "\n",
    "**Answer:**  2\n",
    "\n",
    "NumPy will cast input elements to the most suitable data type required for the array. For example, if a list contains both floats and integers, the resulting array will be of type float. If it contains an integer and a boolean, the resulting array will consist of integers."
   ]
  },
  {
   "cell_type": "markdown",
   "id": "be55a50c",
   "metadata": {},
   "source": [
    "---"
   ]
  },
  {
   "attachments": {},
   "cell_type": "markdown",
   "id": "15b0703d",
   "metadata": {},
   "source": [
    "**Question:**  \n",
    "What is the meaning of **vectorization** in NumPy?\n",
    "\n",
    "1. The process of making arrays with vectors instead of scalars\n",
    "2. The process of parallel computation using multiple processors\n",
    "3. Performing the same operation on each element of an array without loops\n",
    "4. Converting a NumPy array into a vector format\n",
    "\n",
    "**Answer:**  3\n",
    "\n",
    "**Vectorization** allows performing operations on entire arrays at once, eliminating the need for explicit loops."
   ]
  },
  {
   "cell_type": "markdown",
   "id": "d479330c",
   "metadata": {},
   "source": [
    "---"
   ]
  },
  {
   "attachments": {},
   "cell_type": "markdown",
   "id": "06847799",
   "metadata": {},
   "source": [
    "**Question:**  \n",
    "Which of the following operations are **vectorized** in NumPy? (choose the best answer)\n",
    "\n",
    "1. Arithmetic operations\n",
    "2. Trigonometric operations\n",
    "3. Logical operations\n",
    "4. All NumPy operations\n",
    "\n",
    "**Answer:**  4\n",
    "\n",
    "All NumPy operations are vectorized, where you apply operations to the whole array instead of on each element individually. This is not just neat and handy but also improves the performance of computation compared to using loops."
   ]
  },
  {
   "cell_type": "markdown",
   "id": "300d005d",
   "metadata": {},
   "source": [
    "---"
   ]
  },
  {
   "attachments": {},
   "cell_type": "markdown",
   "id": "1e1b2ea9",
   "metadata": {},
   "source": [
    "**Question:**  \n",
    "What is the benefit of using NumPy in terms of **code clarity**?\n",
    "\n",
    "1. It allows more complex code structures.\n",
    "2. It automatically adds comments to the code.\n",
    "3. It reduces the need for loops, making code look more like equations.\n",
    "4. It obfuscates the code, making it harder to understand.\n",
    "\n",
    "**Answer:**  3\n",
    "\n",
    "NumPy helps to remove loops, resulting in code that closely resembles mathematical equations."
   ]
  },
  {
   "cell_type": "markdown",
   "id": "25ceda13",
   "metadata": {},
   "source": [
    "---"
   ]
  },
  {
   "attachments": {},
   "cell_type": "markdown",
   "id": "774a2bdf",
   "metadata": {},
   "source": [
    "**Question:**  \n",
    "What is the maximum number of dimensions that a NumPy array can have?\n",
    "\n",
    "1. One\n",
    "2. Two\n",
    "3. Three\n",
    "4. There is no hard limit\n",
    "\n",
    "**Answer:**  4\n",
    "\n",
    "NumPy arrays can have any number of dimensions, limited only by available memory."
   ]
  },
  {
   "cell_type": "markdown",
   "id": "c4fcf159",
   "metadata": {},
   "source": [
    "---"
   ]
  },
  {
   "attachments": {},
   "cell_type": "markdown",
   "id": "28a29d88",
   "metadata": {},
   "source": [
    "**Question:**  \n",
    "How can you check the **shape** of a NumPy array?\n",
    "\n",
    "1. By using the `dimensions` attribute\n",
    "2. By accessing the `shape` attribute\n",
    "3. By calling the `check_shape()` function\n",
    "4. By using the `size()` method\n",
    "\n",
    "**Answer:**  2\n",
    "\n",
    "The shape of a NumPy array can be obtained by accessing its `shape` attribute."
   ]
  },
  {
   "cell_type": "markdown",
   "id": "4ce4ea0f",
   "metadata": {},
   "source": [
    "---"
   ]
  },
  {
   "attachments": {},
   "cell_type": "markdown",
   "id": "054dbdd7",
   "metadata": {},
   "source": [
    "**Question:**  \n",
    "Which of the following is a **valid** way to create a NumPy array?\n",
    "\n",
    "1. `np.array([1, 2, 3])`\n",
    "2. `np.array(1, 2, 3)`\n",
    "3. `np.array(1; 2; 3)`\n",
    "4. `np.array(1, [2], 3)`\n",
    "\n",
    "**Answer:**  1\n",
    "\n",
    "The correct syntax to create a NumPy array is `np.array([1, 2, 3])`."
   ]
  },
  {
   "cell_type": "markdown",
   "id": "3a699c85",
   "metadata": {},
   "source": [
    "---"
   ]
  }
 ],
 "metadata": {
  "kernelspec": {
   "display_name": "Python 3 (ipykernel)",
   "language": "python",
   "name": "python3"
  },
  "language_info": {
   "codemirror_mode": {
    "name": "ipython",
    "version": 3
   },
   "file_extension": ".py",
   "mimetype": "text/x-python",
   "name": "python",
   "nbconvert_exporter": "python",
   "pygments_lexer": "ipython3",
   "version": "3.10.12"
  }
 },
 "nbformat": 4,
 "nbformat_minor": 5
}
