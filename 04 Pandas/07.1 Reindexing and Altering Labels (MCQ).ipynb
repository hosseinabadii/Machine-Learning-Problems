{
 "cells": [
  {
   "cell_type": "markdown",
   "id": "cae847da-2411-4ebf-b204-ecf5b495a468",
   "metadata": {},
   "source": [
    "# Reindexing and Altering Labels (MCQ)"
   ]
  },
  {
   "cell_type": "markdown",
   "id": "a8babedf-218e-40a9-ae24-20b722c048cd",
   "metadata": {},
   "source": [
    "---"
   ]
  },
  {
   "cell_type": "markdown",
   "id": "88ebb62b",
   "metadata": {},
   "source": [
    "**Question:**\n",
    "\n",
    "Which method in pandas DataFrame is used creates a new DataFrame with the specified index or columns from an existing DataFrame?\n",
    "\n",
    "1. re_index()\n",
    "2. index_column()\n",
    "3. reindex()\n",
    "4. change_index()\n",
    "\n",
    "**Answer:** 3\n",
    "\n",
    "The `reindex()` method creates a new DataFrame with the specified index or columns from an existing DataFrame, and does not modify the original DataFrame in place. If you want to modify the original DataFrame, you need to assign the result of `reindex()` back to the original DataFrame."
   ]
  },
  {
   "cell_type": "markdown",
   "id": "9afbb97f",
   "metadata": {},
   "source": [
    "---"
   ]
  },
  {
   "cell_type": "markdown",
   "id": "dd8aab54",
   "metadata": {},
   "source": [
    "**Question:**\n",
    "\n",
    "When using the `reindex()` method in pandas DataFrame, what happens to the rows or columns with labels **not** present in the original index or columns?\n",
    "\n",
    "1. They are dropped from the DataFrame.\n",
    "2. They are filled with NaN values.\n",
    "3. They remain unchanged.\n",
    "4. An error is raised.\n",
    "\n",
    "**Answer:** 2\n",
    "\n",
    "When using the `reindex()` method in pandas DataFrame, if the new index (or columns) contains labels that are not present in the original index (or columns), the rows (or columns) with those labels are filled with `NaN` values in the resulting DataFrame."
   ]
  },
  {
   "cell_type": "markdown",
   "id": "3352cfb2",
   "metadata": {},
   "source": [
    "---"
   ]
  },
  {
   "cell_type": "markdown",
   "id": "d7fd5b0c",
   "metadata": {},
   "source": [
    "**Question:**\n",
    "\n",
    "When using the `df.reindex()` method in pandas, which parameters can be used together to specify the desired index or columns? (select all that apply)\n",
    "\n",
    "1. labels and axis\n",
    "2. index and columns\n",
    "3. index and axis\n",
    "4. columns and axis\n",
    "\n",
    "**Answer:** The options 1 and 2 are true.\n",
    "\n",
    "The `df.reindex()` method in pandas allows you to reindex the DataFrame using specific labels for the index and columns. By passing the desired index labels to the **\"index\"** parameter and column labels to the **\"columns\"** parameter.\n",
    "\n",
    "You can also specify the **\"labels\"** and **\"axis\"** parameter together, but you cannot specify both \"axis\" and any of \"index\" or \"columns\" together."
   ]
  },
  {
   "cell_type": "markdown",
   "id": "8a25aeea",
   "metadata": {},
   "source": [
    "---"
   ]
  },
  {
   "cell_type": "markdown",
   "id": "d1b0d976",
   "metadata": {},
   "source": [
    "**Question:**\n",
    "\n",
    "What is the use of the `reindex_like()` method in pandas?\n",
    "\n",
    "1. It returns a new DataFrame with the same index and columns as the input DataFrame.\n",
    "\n",
    "2. It drops the missing labels from the index or columns of the DataFrame.\n",
    "\n",
    "3. It returns a new DataFrame only with the same index as the input DataFrame.\n",
    "\n",
    "4. It returns a new DataFrame only with the same columns as the input DataFrame.\n",
    "\n",
    "**Answer:** 1\n",
    "\n",
    "The `reindex_like()` method in pandas is used to create a new DataFrame with the same index and columns as the input DataFrame. It takes the structure of the input DataFrame and applies it to a new DataFrame, ensuring that the new DataFrame has the identical row and column labels.\n"
   ]
  },
  {
   "cell_type": "markdown",
   "id": "3a625663",
   "metadata": {},
   "source": [
    "---"
   ]
  },
  {
   "cell_type": "markdown",
   "id": "873a79ff",
   "metadata": {},
   "source": [
    "**Question:**\n",
    "\n",
    "Which method in pandas DataFrame is used to align the indexes (and/or columns) of two objects?\n",
    "\n",
    "1. `merge()`\n",
    "2. `join()`\n",
    "3. `combine()`\n",
    "4. `align()`\n",
    "\n",
    "**Answer:** 4\n",
    "\n",
    "The `align()` method in pandas DataFrame is used to align the indexes (and/or columns) of two objects. It returns a tuple of two aligned objects where the indexes (and/or columns) are aligned based on their labels."
   ]
  },
  {
   "cell_type": "markdown",
   "id": "5d0d26b4",
   "metadata": {},
   "source": [
    "---"
   ]
  },
  {
   "cell_type": "markdown",
   "id": "34946b7b",
   "metadata": {},
   "source": [
    "**Question:**\n",
    "\n",
    "What is the output of the `align()` method?\n",
    "\n",
    "1. A new DataFrame with aligned columns and rows\n",
    "\n",
    "2. A tuple of two aligned pandas objects where the indexes (and/or columns) are aligned based on their labels\n",
    "\n",
    "3. A Series containing the aligned data\n",
    "\n",
    "4. An error is raised if alignment is not possible\n",
    "\n",
    "**Answer:** 2\n",
    "\n",
    "The `align()` method in pandas aligns the indexes (and/or columns) of two objects, typically DataFrames, based on their labels. When called on a DataFrame, it returns a tuple of two aligned objects. The first object in the tuple represents the calling DataFrame itself, where its indexes and/or columns are aligned with the other object. The second object in the tuple represents the other object being aligned."
   ]
  },
  {
   "cell_type": "markdown",
   "id": "139f1b17",
   "metadata": {},
   "source": [
    "---"
   ]
  },
  {
   "cell_type": "markdown",
   "id": "b37b1942",
   "metadata": {},
   "source": [
    "**Question:**\n",
    "\n",
    "In the `align()` method of pandas DataFrame, which options are available for the `join` argument when aligning the indexes and/or columns of two objects?\n",
    "\n",
    "1. merge, concat, update, inplace\n",
    "2. add, subtract, multiply, divide\n",
    "3. outer, inner, left, right\n",
    "4. index, column, label, position\n",
    "\n",
    "**Answer:** 3\n",
    "\n",
    "In the `align()` method of pandas DataFrame, the `join` argument specifies the type of join to be performed when aligning the indexes and/or columns of two objects. The available options for the `join` argument are:\n",
    "\n",
    "- outer\n",
    "- inner\n",
    "- left\n",
    "- right\n"
   ]
  },
  {
   "cell_type": "markdown",
   "id": "7415fc39",
   "metadata": {},
   "source": [
    "---"
   ]
  },
  {
   "cell_type": "markdown",
   "id": "620200e5",
   "metadata": {},
   "source": [
    "**Question:**\n",
    "\n",
    "Which option for the `join` argument in the `align()` method of pandas DataFrame includes all indexes and/or columns from both objects and fills missing values with NaN?\n",
    "\n",
    "1. outer\n",
    "2. inner\n",
    "3. left\n",
    "4. right\n",
    "\n",
    "**Answer:** 1\n",
    "\n",
    "In the `align()` method of pandas DataFrame, the `join=\"outer\"` argument performs an outer join, which includes **all** indexes and/or columns from **both** objects. Missing values are filled with NaN. This is the default option."
   ]
  },
  {
   "cell_type": "markdown",
   "id": "bc66d963",
   "metadata": {},
   "source": [
    "---"
   ]
  },
  {
   "cell_type": "markdown",
   "id": "b554e0fa",
   "metadata": {},
   "source": [
    "**Question:**\n",
    "\n",
    "Which option for the `join` argument in the `align()` method of pandas DataFrame includes only the common indexes and/or columns from both objects?\n",
    "\n",
    "1. outer\n",
    "2. left\n",
    "3. right\n",
    "4. inner\n",
    "\n",
    "**Answer:** 4\n",
    "\n",
    "In the `align()` method of pandas DataFrame, the `join=\"inner\"` argument performs an inner join, which includes only the **common** indexes and/or columns from **both** objects. It excludes any indexes or columns that are unique to either object.\n"
   ]
  },
  {
   "cell_type": "markdown",
   "id": "cc3d4a94",
   "metadata": {},
   "source": [
    "---"
   ]
  },
  {
   "cell_type": "markdown",
   "id": "49121798",
   "metadata": {},
   "source": [
    "**Question:**\n",
    "\n",
    "Which option for the `join` argument in the `align()` method of pandas DataFrame includes all indexes and/or columns from the **calling object** and any common indexes and/or columns from the other object?\n",
    "\n",
    "1. outer\n",
    "2. left\n",
    "3. right\n",
    "4. inner\n",
    "\n",
    "**Answer:** 2\n",
    "\n",
    "In the `align()` method of pandas DataFrame, the `join=\"left\"` argument performs a left join, which includes all indexes and/or columns from the **calling object** and any common indexes and/or columns from the other object. It excludes any indexes or columns that are unique to the other object."
   ]
  },
  {
   "cell_type": "markdown",
   "id": "55c7e801",
   "metadata": {},
   "source": [
    "---"
   ]
  },
  {
   "cell_type": "markdown",
   "id": "d255e38f",
   "metadata": {},
   "source": [
    "**Question:**\n",
    "\n",
    "Which option for the `join` argument in the `align()` method of pandas DataFrame includes all indexes and/or columns from the **other object** and any common indexes and/or columns from the calling object?\n",
    "\n",
    "1. outer\n",
    "2. inner\n",
    "3. left\n",
    "4. right\n",
    "\n",
    "**Answer:** 4\n",
    "\n",
    "In the `align()` method of pandas DataFrame, the `join=\"right\"` argument performs a right join, which includes all indexes and/or columns from the **other** object and any common indexes and/or columns from the calling object. It excludes any indexes or columns that are unique to the calling object.\n"
   ]
  },
  {
   "cell_type": "markdown",
   "id": "caa2f0c8",
   "metadata": {},
   "source": [
    "---"
   ]
  },
  {
   "cell_type": "markdown",
   "id": "13749b43",
   "metadata": {},
   "source": [
    "**Question:**\n",
    "\n",
    "What is the use of the **method** argument in the `reindex()` and `align()` methods in pandas?\n",
    "\n",
    "1. It specifies the type of join to be performed when aligning the indexes and/or columns.\n",
    "2. It specifies the method for sorting the indexes and/or columns after reindexing.\n",
    "3. It specifies the method to be used for filling missing values during reindexing.\n",
    "4. It specifies the method for renaming the indexes and/or columns after alignment.\n",
    "\n",
    "**Answer:** 3\n",
    "\n",
    "In pandas, the `method` argument is used in the `reindex()` and `align()` methods to determine the approach for filling missing values after reindexing or aligning operations. When reindexing a pandas object, new indexes may be added that didn't exist in the original object. In such cases, there can be missing values. The `method` argument allows you to control how these missing values are filled.\n"
   ]
  },
  {
   "cell_type": "markdown",
   "id": "51dc4483",
   "metadata": {},
   "source": [
    "---"
   ]
  },
  {
   "cell_type": "markdown",
   "id": "ab8d707b",
   "metadata": {},
   "source": [
    "**Question:**\n",
    "\n",
    "When using the `method=\"ffill\"` with the `reindex()` or `align()` methods in pandas, what happens to missing values?\n",
    "\n",
    "1. Missing values are filled with the last known value.\n",
    "2. Missing values are filled with the next known value.\n",
    "3. Missing values are filled with the mean of the available values.\n",
    "4. Missing values remain as NaN (missing values).\n",
    "\n",
    "**Answer:** 1\n",
    "\n",
    "When the `method=\"ffill\"` is employed during reindexing or aligning, missing values are filled with the **last known** value. This means that the previous valid value is used to fill the missing values. It is a forward-fill approach where the value is carried forward to fill the gaps.\n"
   ]
  },
  {
   "cell_type": "markdown",
   "id": "7f2479e9",
   "metadata": {},
   "source": [
    "---"
   ]
  },
  {
   "cell_type": "markdown",
   "id": "2fdd6f73",
   "metadata": {},
   "source": [
    "**Question:**\n",
    "\n",
    "Using the `method=\"bfill\"` with the `reindex()` or `align()` methods in pandas, what happens to missing values?\n",
    "\n",
    "1. Missing values are filled with the last known value.\n",
    "2. Missing values are filled with the next known value.\n",
    "3. Missing values are filled with the mean of the available values.\n",
    "4. Missing values remain as NaN (missing values).\n",
    "\n",
    "**Answer:** 2\n",
    "\n",
    "When the `method=\"bfill\"` is applied, missing values are filled with the **next known** value. It is a backward-fill approach where the subsequent valid value is used to fill the gaps. The missing values are filled with the value that comes after them in the sequence.\n"
   ]
  },
  {
   "cell_type": "markdown",
   "id": "41e2d093",
   "metadata": {},
   "source": [
    "---"
   ]
  },
  {
   "cell_type": "markdown",
   "id": "30fc439f",
   "metadata": {},
   "source": [
    "**Question:**\n",
    "\n",
    "What does the `method=\"nearest\"` method do when used with the `reindex()` method in pandas?\n",
    "\n",
    "1. It fills missing values with the mean of the available values.\n",
    "2. It interpolates missing values based on a linear regression model.\n",
    "3. It ignores missing values and keeps them as NaN (missing values).\n",
    "4. It fills missing values with the nearest available value.\n",
    "\n",
    "**Answer:** 4\n",
    "\n",
    "When the `method=\"nearest\"` is specified, missing values are filled with the **nearest known** value. This means that the missing values are interpolated using the values that are closest to them, either before or after, depending on which one is closer. It can be useful when you want to fill missing values with values that are most similar to them in the dataset.\n"
   ]
  },
  {
   "cell_type": "markdown",
   "id": "be9e34dc",
   "metadata": {},
   "source": [
    "---"
   ]
  },
  {
   "cell_type": "markdown",
   "id": "b5a51166",
   "metadata": {},
   "source": [
    "**Question:**\n",
    "\n",
    "What is the use of the `drop()` method in pandas?\n",
    "\n",
    "1. It drops duplicate values from the DataFrame or Series.\n",
    "2. It drops rows or columns from the DataFrame or Series.\n",
    "3. It drops missing values (NaN) from the DataFrame or Series.\n",
    "4. It drops the entire DataFrame or Series from memory.\n",
    "\n",
    "**Answer:** 2\n",
    "\n",
    "The `drop()` method in pandas is used to eliminate specific rows or columns from a DataFrame or Series. It provides the flexibility to remove data based on specified labels or index positions. By default, the `drop()` method drops rows from the DataFrame or Series, but it can also drop columns by specifying the `axis` parameter.\n"
   ]
  },
  {
   "cell_type": "markdown",
   "id": "1794e57b",
   "metadata": {},
   "source": [
    "---"
   ]
  },
  {
   "cell_type": "markdown",
   "id": "1e9751b2",
   "metadata": {},
   "source": [
    "**Question:**\n",
    "\n",
    "How can you change the name of rows or columns in a pandas DataFrame?\n",
    "\n",
    "1. By using the `re_name()` method\n",
    "2. By using the `change_name()` method\n",
    "3. By using the `rename()` method\n",
    "4. By using the `replace()` method\n",
    "\n",
    "**Answer:**\n",
    "\n",
    "To change the name of rows or columns in a pandas DataFrame, the recommended approach is to use the `rename()` method. The `rename()` method allows you to relabel an axis based on some mapping (a dict or Series) or an arbitrary function. If you pass a function, it must return a value when called with any of the labels (and must produce a set of unique values)\n"
   ]
  },
  {
   "cell_type": "markdown",
   "id": "fb26d3c8",
   "metadata": {},
   "source": [
    "---"
   ]
  },
  {
   "cell_type": "markdown",
   "id": "1c39e544",
   "metadata": {},
   "source": [
    "**Question:**\n",
    "\n",
    "When using the `df.rename()` method in pandas, which parameters can be used together to specify the desired index or columns mapping/function? (select all that apply)\n",
    "\n",
    "1. mapper and axis\n",
    "2. index and axis\n",
    "3. index and columns\n",
    "4. columns and axis\n",
    "\n",
    "**Answer:** The options 1 and 3 are true.\n",
    "\n",
    "The `rename()` method allows you to relabel an axis based on some mapping (a dict or Series) or an arbitrary function. By passing the desired index mapping/function to the **\"index\"** parameter and desired columns mapping/function to the **\"columns\"** parameter.\n",
    "\n",
    "You can also use the **\"mapper\"** and **\"axis\"** parameter together, but you cannot use both \"axis\" and any of \"index\" or \"columns\" together.\n"
   ]
  },
  {
   "cell_type": "markdown",
   "id": "6668d906",
   "metadata": {},
   "source": [
    "---"
   ]
  }
 ],
 "metadata": {
  "kernelspec": {
   "display_name": "Python 3 (ipykernel)",
   "language": "python",
   "name": "python3"
  },
  "language_info": {
   "codemirror_mode": {
    "name": "ipython",
    "version": 3
   },
   "file_extension": ".py",
   "mimetype": "text/x-python",
   "name": "python",
   "nbconvert_exporter": "python",
   "pygments_lexer": "ipython3",
   "version": "3.10.12"
  }
 },
 "nbformat": 4,
 "nbformat_minor": 5
}
