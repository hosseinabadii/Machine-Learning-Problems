{
 "cells": [
  {
   "cell_type": "markdown",
   "id": "4a2a01cc-5649-4bab-92a2-6cdde0d9219a",
   "metadata": {},
   "source": [
    "# Array Shapes and Axes"
   ]
  },
  {
   "cell_type": "markdown",
   "id": "bc057e08-4e3a-4da0-af42-14d8866a9ec8",
   "metadata": {},
   "source": [
    "---"
   ]
  },
  {
   "attachments": {},
   "cell_type": "markdown",
   "id": "9f6a92f3-2e9b-4d9c-9935-ed8aa95b5ee1",
   "metadata": {
    "tags": []
   },
   "source": [
    "**Question:**  \n",
    "What does the term **axis** refer to in NumPy?\n",
    "\n",
    "1. The number of dimensions in an array.\n",
    "2. The total number of elements in an array.\n",
    "3. The direction along which an operation is performed on an array.\n",
    "4. The shape of an array.\n",
    "\n",
    "**Answer:**   3\n",
    "\n",
    "In NumPy, an axis refers to a specific dimension or direction along which operations can be applied to an array."
   ]
  },
  {
   "cell_type": "markdown",
   "id": "8fb93848-a11a-4346-9c39-7775530ecc10",
   "metadata": {},
   "source": [
    "---"
   ]
  },
  {
   "attachments": {},
   "cell_type": "markdown",
   "id": "b354de71",
   "metadata": {},
   "source": [
    "**Question:**  \n",
    "How many axes does a **1D array** have?\n",
    "1. 0\n",
    "2. 1\n",
    "3. 2\n",
    "4. It depends on the length of the array.\n",
    "\n",
    "**Answer:**   2\n",
    "\n",
    "A **1D array** has only a single axis, which represents the single dimension of the array."
   ]
  },
  {
   "cell_type": "markdown",
   "id": "4904633f",
   "metadata": {},
   "source": [
    "---"
   ]
  },
  {
   "attachments": {},
   "cell_type": "markdown",
   "id": "9d9da158",
   "metadata": {},
   "source": [
    "**Question:**  \n",
    "Which keyword argument is used to specify the axis along which a mathematical operation is performed in NumPy?\n",
    "\n",
    "1. axes\n",
    "2. direction\n",
    "3. axis\n",
    "4. dimension\n",
    "\n",
    "**Answer:**   3\n",
    "\n",
    "The **axis** keyword argument is used to specify the axis along which a mathematical operation is performed in NumPy functions."
   ]
  },
  {
   "cell_type": "markdown",
   "id": "6820a6cb",
   "metadata": {},
   "source": [
    "---"
   ]
  },
  {
   "attachments": {},
   "cell_type": "markdown",
   "id": "4c00a6d5",
   "metadata": {},
   "source": [
    "**Question:**  \n",
    "What is **broadcasting** in NumPy?\n",
    "1. The process of creating new elements in an array.\n",
    "2. The process of dividing one array into multiple smaller arrays.\n",
    "3. The process of collapsing an array into a single scalar value.\n",
    "4. The process of adjusting the shape of arrays to perform operations on them.\n",
    "\n",
    "**Answer:**   4\n",
    "\n",
    "**Broadcasting** is the process in NumPy where arrays with different shapes are transformed or adjusted suitably to perform operations on them."
   ]
  },
  {
   "cell_type": "markdown",
   "id": "1c16dc79",
   "metadata": {},
   "source": [
    "---"
   ]
  },
  {
   "attachments": {},
   "cell_type": "markdown",
   "id": "8428f0ec",
   "metadata": {},
   "source": [
    "**Question:**  \n",
    "In broadcasting, which dimension(s) of an array can be expanded to match the shape of another array?\n",
    "\n",
    "1. Only the dimensions with size 1\n",
    "2. Any dimension\n",
    "3. Dimensions with different names\n",
    "4. None of the above\n",
    "\n",
    "**Answer:**   1\n",
    "\n",
    "Broadcasting only allows dimensions with a **size of 1** to be expanded or replicated to match the shape of another array."
   ]
  },
  {
   "cell_type": "markdown",
   "id": "d3933a9f",
   "metadata": {},
   "source": [
    "---"
   ]
  },
  {
   "attachments": {},
   "cell_type": "markdown",
   "id": "50c2e1a5",
   "metadata": {},
   "source": [
    "**Question:**  \n",
    "Which function can be used to perform mathematical operations along a **specified axis** in an array?\n",
    "\n",
    "1. `numpy.sum()`\n",
    "2. `numpy.mean()`\n",
    "3. `numpy.max()`\n",
    "4. All of the above\n",
    "\n",
    "**Answer:**   4\n",
    "\n",
    "Functions like `numpy.sum()`, `numpy.mean()`, and `numpy.max()` can all be used with the axis parameter to perform mathematical operations along a specified axis in an array."
   ]
  },
  {
   "cell_type": "markdown",
   "id": "87e156d6",
   "metadata": {},
   "source": [
    "---"
   ]
  },
  {
   "attachments": {},
   "cell_type": "markdown",
   "id": "bedb695d-62f9-4ee2-8c04-50077e33ec6f",
   "metadata": {},
   "source": [
    "**Question:**  \n",
    "What is the output of the following snippet code?\n",
    "```python\n",
    "import numpy as np\n",
    "x = np.array([\n",
    "    [[5, 3, 7, 1, 2],\n",
    "     [2, 6, 4, 6 ,3]],\n",
    "    [[6, 1, 5, 1, 8],\n",
    "     [4, 3, 2, 0, 9],]\n",
    "])\n",
    "print(x.max(axis=2))\n",
    "```\n",
    "\n",
    "1.\n",
    "```python\n",
    "[[7 6]\n",
    " [8 9]]\n",
    "```\n",
    "2.\n",
    "```python\n",
    "[[7 6]\n",
    " [9 8]]\n",
    "```\n",
    "3.\n",
    "```python\n",
    "[[8 9]\n",
    " [7 6]]\n",
    "```\n",
    "4.\n",
    "```python\n",
    "[[9 8]\n",
    " [7 6]]\n",
    "```\n",
    "\n",
    "\n",
    "**Answer:**  1\n",
    "\n",
    "Shape of this array is (2, 2, 5). Method `x.max(axis=2)` collapse and delete the third dimension (axis=2) and result array has shape (2, 2) with each value in the new array equal to the max of the corresponding collapsed values."
   ]
  },
  {
   "cell_type": "markdown",
   "id": "4616239a",
   "metadata": {},
   "source": [
    "---"
   ]
  },
  {
   "attachments": {},
   "cell_type": "markdown",
   "id": "3cf5ad29",
   "metadata": {},
   "source": [
    "**Question:**  \n",
    "Why is the speed of `numpy.flatten()` generally slower than `numpy.ravel()`?\n",
    "\n",
    "1. `numpy.flatten()` creates a copy of the array and then flattens it, resulting in slower performance.\n",
    "2. `numpy.ravel()` creates a copy of the array and then flattens it, resulting in slower performance.\n",
    "3. `numpy.flatten()` operates in-place and modifies the original array, leading to slower performance.\n",
    "4. `numpy.ravel()` operates in-place and modifies the original array, leading to slower performance.\n",
    "\n",
    "**Answer:**   1\n",
    "\n",
    "The `numpy.flatten()` function creates a **copy** of the array and then flattens it. This extra step of making a copy results in slower performance compared to `numpy.ravel()`, which does not create a copy but instead returns a **flattened view** of the original array. As a result, `numpy.ravel()` is generally faster than `numpy.flatten()`."
   ]
  },
  {
   "cell_type": "markdown",
   "id": "9cbbfdd4",
   "metadata": {},
   "source": [
    "---"
   ]
  }
 ],
 "metadata": {
  "kernelspec": {
   "display_name": "Python 3 (ipykernel)",
   "language": "python",
   "name": "python3"
  },
  "language_info": {
   "codemirror_mode": {
    "name": "ipython",
    "version": 3
   },
   "file_extension": ".py",
   "mimetype": "text/x-python",
   "name": "python",
   "nbconvert_exporter": "python",
   "pygments_lexer": "ipython3",
   "version": "3.10.12"
  }
 },
 "nbformat": 4,
 "nbformat_minor": 5
}
