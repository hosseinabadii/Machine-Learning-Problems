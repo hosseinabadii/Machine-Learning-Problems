{
 "cells": [
  {
   "cell_type": "markdown",
   "id": "4e911cf4-85de-4446-911e-fd4ecf8e3379",
   "metadata": {
    "tags": []
   },
   "source": [
    "# Function Application (MCQ)"
   ]
  },
  {
   "cell_type": "markdown",
   "id": "887c69e0-3207-43d0-bd07-28c0c4e2f2de",
   "metadata": {},
   "source": [
    "---"
   ]
  },
  {
   "cell_type": "markdown",
   "id": "75208efd-9bee-4c75-a428-a41513ad1616",
   "metadata": {},
   "source": [
    "**Question:**\n",
    "\n",
    "Which method should be used if you want to apply a function to a DataFrame in a method chaining manner?\n",
    "\n",
    "1. `pipe()`\n",
    "2. `apply()`\n",
    "3. `agg()`\n",
    "4. `applymap()`\n",
    "\n",
    "**Answer:** 1\n",
    "\n",
    "The appropriate method to apply a function in a method chaining manner is `pipe()`. It allows you to use your own or another library's functions alongside pandas' methods."
   ]
  },
  {
   "cell_type": "markdown",
   "id": "4ad34f1e-0038-4f15-86c5-a1fe5d009686",
   "metadata": {},
   "source": [
    "---"
   ]
  },
  {
   "cell_type": "markdown",
   "id": "9e6c128d",
   "metadata": {},
   "source": [
    "**Question:**\n",
    "\n",
    "What does the `pipe()` method in pandas allow you to do?\n",
    "\n",
    "1. Apply a function to a DataFrame row-wise\n",
    "2. Apply a function to a DataFrame column-wise\n",
    "3. Apply a function to a DataFrame table-wise\n",
    "4. Apply a function element-wise to a DataFrame\n",
    "\n",
    "**Answer:** 3\n",
    "\n",
    "The `pipe()` method in pandas allows you to apply a function to a DataFrame in a **table-wise** manner. It is useful when you need to call functions in a chain."
   ]
  },
  {
   "cell_type": "markdown",
   "id": "39b8320b",
   "metadata": {},
   "source": [
    "---"
   ]
  },
  {
   "cell_type": "markdown",
   "id": "a6b8ccf2",
   "metadata": {},
   "source": [
    "**Question:**\n",
    "\n",
    "Which method should be used to apply functions along the axes (rows or columns) of a DataFrame?\n",
    "\n",
    "1. `pipe()`\n",
    "2. `apply()`\n",
    "3. `agg()`\n",
    "4. `applymap()`\n",
    "\n",
    "**Answer:** 2\n",
    "\n",
    "To apply functions along the axes (rows or columns) of a DataFrame, the appropriate method is `apply()`. It can apply arbitrary functions row-wise or column-wise."
   ]
  },
  {
   "cell_type": "markdown",
   "id": "1c383c7a",
   "metadata": {},
   "source": [
    "---"
   ]
  },
  {
   "cell_type": "markdown",
   "id": "e6413252",
   "metadata": {},
   "source": [
    "**Question:**\n",
    "\n",
    "What is the default behavior of the `apply()` method in terms of the return type?\n",
    "\n",
    "1. Series if the applied function returns a DataFrame, DataFrame otherwise\n",
    "2. DataFrame regardless of the return type of the applied function\n",
    "3. Series regardless of the return type of the applied function\n",
    "4. DataFrame if the applied function returns a Series, Series otherwise\n",
    "\n",
    "**Answer:** 4\n",
    "\n",
    "By default, if the applied function returns a Series, the final output of `apply()` is a DataFrame with columns matching the index of the returned Series. Otherwise, the final output is a Series."
   ]
  },
  {
   "cell_type": "markdown",
   "id": "f76471e6",
   "metadata": {},
   "source": [
    "---"
   ]
  },
  {
   "cell_type": "markdown",
   "id": "715819c4",
   "metadata": {},
   "source": [
    "**Question:**\n",
    "\n",
    "What is the purpose of the `agg()` method in pandas?\n",
    "\n",
    "1. To apply functions row-wise or column-wise to a DataFrame\n",
    "2. To transform data using user-defined functions\n",
    "3. To aggregate data based on specified operations in a single concise way\n",
    "4. To apply element-wise functions to a DataFrame\n",
    "\n",
    "**Answer:** 3\n",
    "\n",
    "The `agg()` method in pandas allows you to express multiple aggregation operations in a single concise way. It is commonly used for data aggregation tasks."
   ]
  },
  {
   "cell_type": "markdown",
   "id": "81459b1a",
   "metadata": {},
   "source": [
    "---"
   ]
  },
  {
   "cell_type": "markdown",
   "id": "7cfdb3ce",
   "metadata": {},
   "source": [
    "**Question:**\n",
    "\n",
    "What should a function passed to the `applymap()` method in pandas DataFrame accept and return?\n",
    "\n",
    "1. Accept a DataFrame and return a DataFrame\n",
    "2. Accept a DataFrame and return a Series\n",
    "3. Accept a single value and return a single value\n",
    "4. Accept a Series and return a Series\n",
    "\n",
    "**Answer:** 3\n",
    "\n",
    "The `applymap()` method in pandas is used to apply an element-wise function to a DataFrame. The function passed to `applymap()` should accept a single value and return a single value, not a Series or DataFrame."
   ]
  },
  {
   "cell_type": "markdown",
   "id": "a3e08d52",
   "metadata": {},
   "source": [
    "---"
   ]
  },
  {
   "cell_type": "markdown",
   "id": "f9631047",
   "metadata": {},
   "source": [
    "**Question:**\n",
    "\n",
    "What is the purpose of passing a dictionary of column names to a scalar or a list of scalars, to a `DataFrame.agg()` method in pandas?\n",
    "\n",
    "1. To apply custom functions selectively to specific columns\n",
    "2. To perform aggregation on multiple columns simultaneously\n",
    "3. To customize the order of the aggregation results\n",
    "4. To specfiy the data types for each column\n",
    "\n",
    "**Answer:** 1\n",
    "\n",
    "Passing a dictionary of column names to a scalar or a list of scalars, to `DataFrame.agg()` allows you to customize which functions are applied to which columns. It provides selective control over the aggregation process."
   ]
  },
  {
   "cell_type": "markdown",
   "id": "f62c186b",
   "metadata": {},
   "source": [
    "---"
   ]
  },
  {
   "cell_type": "markdown",
   "id": "1ee4e2cf",
   "metadata": {},
   "source": [
    "**Question:**\n",
    "\n",
    "When `df.agg()` is applied with a **list-like** object (e.g. `df.agg([\"mean\"])` instead of `df.agg(\"mean\")`) as an argument, what is the output type?\n",
    "\n",
    "1. Series\n",
    "2. Scalar value\n",
    "3. List\n",
    "4. DataFrame\n",
    "\n",
    "**Answer:** 4\n",
    "\n",
    "When `DataFrame.agg()` is applied with a list-like object as an argument, it generates a DataFrame output. The resulting DataFrame will include all unique functions and their corresponding aggregations."
   ]
  },
  {
   "cell_type": "markdown",
   "id": "099d6dc4",
   "metadata": {},
   "source": [
    "---"
   ]
  },
  {
   "cell_type": "markdown",
   "id": "c681db10",
   "metadata": {},
   "source": [
    "**Question:**\n",
    "\n",
    "Which of the following accurately describes the difference between the `apply()` method and the `agg()` method in pandas?\n",
    "\n",
    "1. The `apply()` method applies a function to each cell of a DataFrame, while the `agg()` method applies an aggregation function to each row or column of the DataFrame.\n",
    "\n",
    "2. The `apply()` method applies a function to each row or column of a DataFrame, while the `agg()` method applies an aggregation function to the entire DataFrame or each column.\n",
    "\n",
    "3. The `apply()` method takes one aggregation function or a list of aggregation functions as its argument, while the `agg()` method takes one function as its argument.\n",
    "\n",
    "4. The `apply()` method applies an aggregation function to the entire DataFrame or to each column of the DataFrame, while the `agg()` method applies a function to each row or column.\n",
    "\n",
    "**Answer:** 2\n",
    "\n",
    "The `apply()` method is used to apply a function to each row or column of a DataFrame, while the `agg()` method is used to apply an aggregation function (e.g., `sum()`, `mean()`, `max()`, `min()`) to the entire DataFrame or to each column of the DataFrame.\n",
    "\n",
    "The apply() method takes one function as its argument, but the agg() method takes one aggregation function or a list of aggregation functions as its argument."
   ]
  },
  {
   "cell_type": "markdown",
   "id": "b9e8dee6",
   "metadata": {},
   "source": [
    "---"
   ]
  },
  {
   "cell_type": "markdown",
   "id": "bcabb0e3",
   "metadata": {},
   "source": [
    "**Question:**\n",
    "\n",
    "How can you customize which function is applied to which column of the DataFrame when using the `agg()` method?\n",
    "\n",
    "1. By specifying the desired functions after the `agg()` method and before the column names.\n",
    "\n",
    "2. By using the `apply()` method instead of the `agg()` method.\n",
    "\n",
    "3. By passing a dictionary of column names and functions to the `agg()` method.\n",
    "\n",
    "4. You cannot customize which function is applied to which column of the DataFrame\n",
    "\n",
    "**Answer:** 3\n",
    "\n",
    "The `agg()` method allows you to apply different aggregation functions to different columns of a DataFrame by passing a dictionary of column names and functions to the `agg()` method. The keys of the dictionary represent the column names, and the values represent the aggregation functions to be applied to each column."
   ]
  },
  {
   "cell_type": "markdown",
   "id": "9ef6a613",
   "metadata": {},
   "source": [
    "---"
   ]
  },
  {
   "cell_type": "markdown",
   "id": "8d14f835",
   "metadata": {},
   "source": [
    "**Question:**\n",
    "\n",
    "Which of the following best describes the difference between the `apply()` and `map()` methods in pandas? (select all that apply)\n",
    "\n",
    "1. `apply()` works on both Series and DataFrames, while `map()` works only on Series.\n",
    "\n",
    "2. `apply()` is used for element-wise transformations, while `map()` is used for aggregations.\n",
    "\n",
    "3. `apply()` requires a function as an argument, while `map()` can accept a function or a mapping dictionary.\n",
    "\n",
    "4. There is no difference between `apply()` and `map()`; they can be used interchangeably.\n",
    "\n",
    "**Answer:** The options 1 and 3 are true.\n",
    "\n",
    "The main difference between the `apply()` and `map()` methods in pandas is that `apply()` requires a function as an argument, which is applied row-wise or column-wise to the Series or DataFrame. On the other hand, `map()` in addition to a function can accept a mapping dictionary as an argument, where the keys represent the values in the original Series, and the values represent the corresponding mappings. This allows for convenient value replacement or transformation based on the provided mapping.\n",
    "\n",
    "The other difference between the `apply()` and `map()` methods in pandas is that `apply()` works on both Series and DataFrames, while `map()` works only on Series."
   ]
  },
  {
   "cell_type": "markdown",
   "id": "cf37da2b",
   "metadata": {},
   "source": [
    "---"
   ]
  },
  {
   "cell_type": "markdown",
   "id": "eb374c3e",
   "metadata": {},
   "source": [
    "**Question:**\n",
    "\n",
    "What happens to the elements in the Series that do not have a corresponding mapping defined in the `map()` method?\n",
    "\n",
    "1. They are removed from the Series.\n",
    "2. They are replaced with NaN (missing) values.\n",
    "3. They remain unchanged in the resulting Series.\n",
    "4. An error is raised.\n",
    "\n",
    "**Answer:** 2\n",
    "\n",
    "When using the `map()` method, if an element in the Series does not have a corresponding mapping defined in the method, it will be replaced with a NaN (missing) value in the resulting Series. This behavior ensures that the length and alignment of the Series are preserved."
   ]
  },
  {
   "cell_type": "markdown",
   "id": "211135a5",
   "metadata": {},
   "source": [
    "---"
   ]
  }
 ],
 "metadata": {
  "kernelspec": {
   "display_name": "Python 3 (ipykernel)",
   "language": "python",
   "name": "python3"
  },
  "language_info": {
   "codemirror_mode": {
    "name": "ipython",
    "version": 3
   },
   "file_extension": ".py",
   "mimetype": "text/x-python",
   "name": "python",
   "nbconvert_exporter": "python",
   "pygments_lexer": "ipython3",
   "version": "3.10.12"
  }
 },
 "nbformat": 4,
 "nbformat_minor": 5
}
