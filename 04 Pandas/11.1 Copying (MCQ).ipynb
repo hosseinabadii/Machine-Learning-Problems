{
 "cells": [
  {
   "cell_type": "markdown",
   "id": "6a2696b6-577d-4990-8e81-4654389d0702",
   "metadata": {},
   "source": [
    "# Copying (MCQ)"
   ]
  },
  {
   "cell_type": "markdown",
   "id": "824aef58-fa7a-48cc-b0e0-797bc454d313",
   "metadata": {},
   "source": [
    "---"
   ]
  },
  {
   "cell_type": "markdown",
   "id": "8a3e9844",
   "metadata": {},
   "source": [
    "**Question:**\n",
    "\n",
    "By default, the `df.copy()` method in pandas returns a **deep copy** of the DataFrame.\n",
    "\n",
    "1. True\n",
    "2. False\n",
    "\n",
    "**Answer:** 1\n",
    "\n",
    "By default, the `df.copy()` method in pandas returns a deep copy of the DataFrame. A deep copy creates a completely independent copy of the DataFrame, including the data and the indices. Modifying the copied DataFrame will not affect the original DataFrame, and vice versa."
   ]
  },
  {
   "cell_type": "markdown",
   "id": "748fa21d",
   "metadata": {},
   "source": [
    "---"
   ]
  },
  {
   "cell_type": "markdown",
   "id": "dec7577e",
   "metadata": {},
   "source": [
    "**Question:**\n",
    "\n",
    "What is the relationship between df2 and df1 if you write `df2=df1` ?\n",
    "\n",
    "1. df2 is a copy of df1, and any modifications made to df2 will not affect df1.\n",
    "2. df2 is a reference to the same object as df1, and any modifications made to df2 will also affect df1.\n",
    "3. df2 is an empty DataFrame.\n",
    "4. df2 is a sorted version of df1.\n",
    "\n",
    "**Answer:** 2\n",
    "\n",
    "When we assign `df2 = df1`, df2 is not a copy of df1. Instead, df2 is a reference to the same object as df1. This means that any modifications made to df2 will also affect df1. In other words, df1 and df2 are two different names referring to the same DataFrame object in memory.\n"
   ]
  },
  {
   "cell_type": "markdown",
   "id": "5a0d663d",
   "metadata": {},
   "source": [
    "---"
   ]
  },
  {
   "cell_type": "markdown",
   "id": "fc3e77fa",
   "metadata": {},
   "source": [
    "**Question:**\n",
    "\n",
    "Which of the following codes is used to create a **shallow copy** of a DataFrame (`df`)?\n",
    "\n",
    "1. `df_copy = df.copy()`\n",
    "2. `df_copy = df.copy(shallow=True)`\n",
    "3. `df_copy = df.copy(deep=False)`\n",
    "4. `df_copy = df.deepcopy()`\n",
    "\n",
    "**Answer:** 3\n",
    "\n",
    "To create a **shallow copy** of a DataFrame `df`, you can use the `df.copy(deep=False)` method provided by pandas. This method creates a new DataFrame object that shares the same data and indices as the original DataFrame."
   ]
  },
  {
   "cell_type": "markdown",
   "id": "43575581",
   "metadata": {},
   "source": [
    "---"
   ]
  },
  {
   "cell_type": "markdown",
   "id": "75d2373e",
   "metadata": {},
   "source": [
    "**Question:**\n",
    "\n",
    "What are the advantages of using a **shallow copy** in pandas? (select all that apply)\n",
    "\n",
    "1. It enables easy sorting of the DataFrame in a specific order.\n",
    "2. It provides a way to create an empty DataFrame without any data.\n",
    "3. It allows having access to frames data without copying it (memory optimization, etc.)\n",
    "4. It allows modifying frames structure without reflecting it to the original dataframe.\n",
    "\n",
    "**Answer:** The options 3 and 4 are true.\n",
    "\n",
    "The advantages of using a shallow copy in pandas include:\n",
    "\n",
    "- It allows having access to frames data without copying it (memory optimization, etc.)\n",
    "\n",
    "- It allows modifying frames structure without reflecting it to the original dataframe."
   ]
  },
  {
   "cell_type": "markdown",
   "id": "5e4547d6",
   "metadata": {},
   "source": [
    "---"
   ]
  }
 ],
 "metadata": {
  "kernelspec": {
   "display_name": "Python 3 (ipykernel)",
   "language": "python",
   "name": "python3"
  },
  "language_info": {
   "codemirror_mode": {
    "name": "ipython",
    "version": 3
   },
   "file_extension": ".py",
   "mimetype": "text/x-python",
   "name": "python",
   "nbconvert_exporter": "python",
   "pygments_lexer": "ipython3",
   "version": "3.9.7"
  }
 },
 "nbformat": 4,
 "nbformat_minor": 5
}
