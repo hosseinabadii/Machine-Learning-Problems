{
 "cells": [
  {
   "cell_type": "markdown",
   "id": "676f0778-9e69-4d8b-ba64-41d5da3bea81",
   "metadata": {},
   "source": [
    "# Descriptive Statistics (MCQ)"
   ]
  },
  {
   "cell_type": "markdown",
   "id": "f3228621-7905-42bf-b1f9-7e5ebd57fdba",
   "metadata": {},
   "source": [
    "---"
   ]
  },
  {
   "cell_type": "markdown",
   "id": "1e14c4b8",
   "metadata": {},
   "source": [
    "**Question:**\n",
    "\n",
    "What does the `count()` method in pandas return by default?\n",
    "\n",
    "1. The sum of values in each column.\n",
    "2. The mean (average) of values in each column.\n",
    "3. The number of non-null values in each column.\n",
    "4. The maximum value in each column.\n",
    "\n",
    "**Answer:** 3\n",
    "\n",
    "The `count()` method returns the count of non-null values in each column of a DataFrame or a Series by default."
   ]
  },
  {
   "cell_type": "markdown",
   "id": "8a539d3c",
   "metadata": {},
   "source": [
    "---"
   ]
  },
  {
   "cell_type": "markdown",
   "id": "b56a5001",
   "metadata": {},
   "source": [
    "**Question:**\n",
    "\n",
    "Which method is used to compute the sum of values in each column (by default) of a DataFrame?\n",
    "\n",
    "1. `add()`\n",
    "2. `sum()`\n",
    "3. `mean()`\n",
    "4. `summation()`\n",
    "\n",
    "**Answer:** 2\n",
    "\n",
    "The `sum()` method computes the sum of values in each column (by default) of a DataFrame or a Series."
   ]
  },
  {
   "cell_type": "markdown",
   "id": "b60e4c2d",
   "metadata": {},
   "source": [
    "---"
   ]
  },
  {
   "cell_type": "markdown",
   "id": "0685a789",
   "metadata": {},
   "source": [
    "**Question:**\n",
    "\n",
    "Which method should you use to calculate the sum of values in a specific row of a DataFrame?\n",
    "\n",
    "1. `sum(axis=0)`\n",
    "2. `sum(axis=1)`\n",
    "3. `sum()`\n",
    "4. `max()`\n",
    "\n",
    "**Answer:** 2\n",
    "\n",
    "You should use the `sum(axis=1)` method to calculate the sum of values in a specific row of a DataFrame."
   ]
  },
  {
   "cell_type": "markdown",
   "id": "fa47558c",
   "metadata": {},
   "source": [
    "---"
   ]
  },
  {
   "cell_type": "markdown",
   "id": "e5c0db92",
   "metadata": {},
   "source": [
    "**Question:**\n",
    "\n",
    "What does the `mean()` method in pandas calculate by default?\n",
    "\n",
    "1. The sum of values in each column.\n",
    "2. The mean (average) of values in each column.\n",
    "3. The number of non-null values in each column.\n",
    "4. The minimum value in each column.\n",
    "\n",
    "**Answer:** 2\n",
    "\n",
    "The `mean()` method calculates the mean (average) of values in each column of a DataFrame or a Series by default."
   ]
  },
  {
   "cell_type": "markdown",
   "id": "02a8692f",
   "metadata": {},
   "source": [
    "---"
   ]
  },
  {
   "cell_type": "markdown",
   "id": "6c3ce821",
   "metadata": {},
   "source": [
    "**Question:**\n",
    "\n",
    "Which method returns the median (middle value) of values in each column/row of a DataFrame?\n",
    "\n",
    "1. `median()`\n",
    "2. `min()`\n",
    "3. `max()`\n",
    "4. `middle()`\n",
    "\n",
    "**Answer:** 1\n",
    "\n",
    "Explanation: The `median()` method returns the median (middle value) of values in each column (by default) of a DataFrame or a Series."
   ]
  },
  {
   "cell_type": "markdown",
   "id": "ebbdcca7",
   "metadata": {},
   "source": [
    "---"
   ]
  },
  {
   "cell_type": "markdown",
   "id": "73fd01f4",
   "metadata": {},
   "source": [
    "**Question:**\n",
    "\n",
    "What does the `min()` method in pandas return by default?\n",
    "\n",
    "1. The sum of values in each column.\n",
    "2. The mean (average) of values in each column.\n",
    "3. The minimum value in each column.\n",
    "4. The standard deviation of values in each column.\n",
    "\n",
    "**Answer:** 3\n",
    "\n",
    "The `min()` method returns the minimum value in each column (by default) of a DataFrame or a Series."
   ]
  },
  {
   "cell_type": "markdown",
   "id": "18f160ca",
   "metadata": {},
   "source": [
    "---"
   ]
  },
  {
   "cell_type": "markdown",
   "id": "e4227ea1",
   "metadata": {},
   "source": [
    "**Question:**\n",
    "\n",
    "Which method is used to calculate the maximum value in each column by default?\n",
    "\n",
    "1. `median()`\n",
    "2. `var()`\n",
    "3. `maximum()`\n",
    "4. `max()`\n",
    "\n",
    "**Answer:** 4\n",
    "\n",
    "The `max()` method calculates the maximum value in each column (by default) of a DataFrame or a Series."
   ]
  },
  {
   "cell_type": "markdown",
   "id": "b0a1ffbc",
   "metadata": {},
   "source": [
    "---"
   ]
  },
  {
   "cell_type": "markdown",
   "id": "d55f5c45",
   "metadata": {},
   "source": [
    "**Question:**\n",
    "\n",
    "What does the `std()` method in pandas compute by default?\n",
    "\n",
    "1. The standard deviation of values in each column.\n",
    "2. The variance of values in each column.\n",
    "3. The number of non-null values in each column.\n",
    "4. The specified quantile of values in each column.\n",
    "\n",
    "**Answer:** 1\n",
    "\n",
    "The `std()` method computes the standard deviation of values in each column (by default) of a DataFrame or a Series."
   ]
  },
  {
   "cell_type": "markdown",
   "id": "5ca10891",
   "metadata": {},
   "source": [
    "---"
   ]
  },
  {
   "cell_type": "markdown",
   "id": "469a4984",
   "metadata": {},
   "source": [
    "**Question:**\n",
    "\n",
    "Which method calculates the variance of values in each column/row of a DataFrame?\n",
    "\n",
    "1. `variance()`\n",
    "2. `std()`\n",
    "3. `var()`\n",
    "4. `std2()`\n",
    "\n",
    "**Answer:** 3\n",
    "\n",
    "The `var()` method is used to calculate the variance of values in each column/row of a DataFrame."
   ]
  },
  {
   "cell_type": "markdown",
   "id": "a9713b2c",
   "metadata": {},
   "source": [
    "---"
   ]
  },
  {
   "cell_type": "markdown",
   "id": "0aeda814",
   "metadata": {},
   "source": [
    "**Question:**\n",
    "\n",
    "What is the difference between `df.median()` and `df.quantile()` in pandas?\n",
    "\n",
    "1. Both methods calculate the same value: the median of the data.\n",
    "\n",
    "2. `df.median()` returns a specified quantile, while `df.quantile()` returns the median of the data.\n",
    "\n",
    "3. Both methods calculate the same value: a specified quantile of the data.\n",
    "\n",
    "4. `df.median()` returns the median, while `df.quantile()` returns a specified quantile of the data.\n",
    "\n",
    "**Answer:** 4\n",
    "\n",
    "In pandas, the `df.median()` method calculates the median (middle value) of the data in each column of a DataFrame, providing a measure of central tendency. On the other hand, the `df.quantile()` method is used to calculate specific quantiles (e.g., 0.25 for the 25th percentile, 0.5 for the median) of the data in each column of the DataFrame."
   ]
  },
  {
   "cell_type": "markdown",
   "id": "32dd3bb3",
   "metadata": {},
   "source": [
    "---"
   ]
  },
  {
   "cell_type": "markdown",
   "id": "608ea149",
   "metadata": {},
   "source": [
    "**Question:**\n",
    "\n",
    "Which method provides a summary of descriptive statistics for each column, including count, mean, standard deviation, minimum value, maximum value, and quartiles?\n",
    "\n",
    "1. `count()`\n",
    "2. `sum()`\n",
    "3. `describe()`\n",
    "4. `median()`\n",
    "\n",
    "**Answer:** 3\n",
    "\n",
    "The `describe()` method provides a summary of descriptive statistics for each column, including count, mean, standard deviation, minimum value, maximum value, and quartiles."
   ]
  },
  {
   "cell_type": "markdown",
   "id": "f07195f6",
   "metadata": {},
   "source": [
    "---"
   ]
  },
  {
   "cell_type": "markdown",
   "id": "f897ff0c",
   "metadata": {},
   "source": [
    "**Question:**\n",
    "\n",
    "Which method returns the number of unique values in each column of a DataFrame or a Series?\n",
    "\n",
    "1. `unique()`\n",
    "2. `nunique()`\n",
    "3. `count()`\n",
    "4. `unique_values()`\n",
    "\n",
    "**Answer:** 2\n",
    "\n",
    "The `nunique()` method returns the number of unique values in each column of a DataFrame or a Series."
   ]
  },
  {
   "cell_type": "markdown",
   "id": "872aefe3",
   "metadata": {},
   "source": [
    "---"
   ]
  },
  {
   "cell_type": "markdown",
   "id": "93238f08",
   "metadata": {},
   "source": [
    "**Question:**\n",
    "15. What does the `mode()` method in pandas calculate by default?\n",
    "\n",
    "1. The most frequent value in each column.\n",
    "2. The range of values in each column.\n",
    "3. The difference between the maximum and minimum values in each column.\n",
    "4. The difference between the 75th and 25th percentiles in each column.\n",
    "\n",
    "**Answer:** 1\n",
    "\n",
    "The `mode()` method calculates the most frequent value in each column (by default) of a DataFrame or a Series."
   ]
  },
  {
   "cell_type": "markdown",
   "id": "93b7f468",
   "metadata": {},
   "source": [
    "---"
   ]
  },
  {
   "cell_type": "markdown",
   "id": "f5a5bf9e",
   "metadata": {},
   "source": [
    "**Question:**\n",
    "\n",
    "How can you calculate the **correlation coefficients** between the columns of a DataFrame (`df`)?\n",
    "\n",
    "1. `df.cov()`\n",
    "2. `df.correlation()`\n",
    "3. `df.corr()`\n",
    "4. `df.corr_coef()`\n",
    "\n",
    "**Answer:** 3\n",
    "\n",
    "To calculate the correlation coefficients between the columns of a DataFrame `df`, you should use the `df.corr()` method."
   ]
  },
  {
   "cell_type": "markdown",
   "id": "9a0652c9",
   "metadata": {},
   "source": [
    "---"
   ]
  },
  {
   "cell_type": "markdown",
   "id": "d9ad45ff",
   "metadata": {},
   "source": [
    "**Question:**\n",
    "\n",
    "Which method is used to compute the **covariance** between the columns of a DataFrame (`df`)?\n",
    "\n",
    "1. `df.var()`\n",
    "2. `df.covariance()`\n",
    "3. `df.covar()`\n",
    "4. `df.cov()`\n",
    "\n",
    "**Answer:** 4\n",
    "\n",
    "The `df.cov()` method is used to compute the covariance between the columns of a DataFrame."
   ]
  },
  {
   "cell_type": "markdown",
   "id": "b1dc2bd7",
   "metadata": {},
   "source": [
    "---"
   ]
  },
  {
   "cell_type": "markdown",
   "id": "0be5c508",
   "metadata": {},
   "source": [
    "**Question:**\n",
    "\n",
    "When using the `describe()` method, which percentile values are displayed by default?\n",
    "\n",
    "1. 10th, 25th, 50th, 75th, and 90th.\n",
    "2. 25th, 50th, and 75th.\n",
    "3. 5th, 25th, 50th, 75th, and 95th.\n",
    "4. 1st, 10th, 50th, 90th, and 99th.\n",
    "\n",
    "**Answer:** 2\n",
    "\n",
    "Explanation: By default, the `describe()` method displays the 25th, 50th, and 75th percentile values for each column."
   ]
  },
  {
   "cell_type": "markdown",
   "id": "01a25fbd",
   "metadata": {},
   "source": [
    "---"
   ]
  },
  {
   "cell_type": "markdown",
   "id": "290fc10b-3012-49b1-8ba8-c75d7ee738fb",
   "metadata": {},
   "source": [
    "**Question:**\n",
    "\n",
    "How can you find the **index** of the maximum or minimum value of a DataFrame in pandas?\n",
    "\n",
    "1. By using the `df.max()` and `df.min()` methods.\n",
    "2. By using the `df.indexmax()` and `df.indexmin()` methods.\n",
    "3. By using the `df.idxmax()` and `df.idxmin()` methods.\n",
    "4. By using the `df.find_max()` and `df.find_min()` methods.\n",
    "\n",
    "**Answer:** 3\n",
    "\n",
    "In pandas, the `df.idxmax()` method returns the index of the maximum value in each column of a DataFrame, whereas the `df.idxmin()` method returns the index of the minimum value in each column."
   ]
  },
  {
   "cell_type": "markdown",
   "id": "4560f7e4-d98e-495e-90f7-f2e683092824",
   "metadata": {},
   "source": [
    "---"
   ]
  },
  {
   "cell_type": "markdown",
   "id": "4bbc078e",
   "metadata": {},
   "source": [
    "**Question:**\n",
    "\n",
    "What is the use of the `value_counts()` method in pandas?\n",
    "\n",
    "1. It returns the total count of unique values in a DataFrame column.\n",
    "2. It sorts the DataFrame column in ascending order.\n",
    "3. It computes the sum of all values in a DataFrame column.\n",
    "4. It calculates the average value of a DataFrame column.\n",
    "\n",
    "**Answer:** 1\n",
    "\n",
    "The `value_counts()` method in pandas is used to determine the frequency or count of each unique value in a DataFrame column. It returns a new Series object where the unique values in the column are the index labels, and the corresponding values represent the count of each unique value."
   ]
  },
  {
   "cell_type": "markdown",
   "id": "e181987e",
   "metadata": {},
   "source": [
    "---"
   ]
  },
  {
   "cell_type": "markdown",
   "id": "ee28d95a",
   "metadata": {},
   "source": [
    "**Question:**\n",
    "\n",
    "What is the use of `pd.cut()` and `pd.qcut()` in pandas?\n",
    "\n",
    "1. They are used to merge two or more DataFrames.\n",
    "2. They are used to filter rows based on a specific condition.\n",
    "3. They are used to transform numerical data into categorical bins.\n",
    "4. They are used to compute statistical measures like mean, median, and standard deviation.\n",
    "\n",
    "**Answer:** 3\n",
    "\n",
    "In pandas, `pd.cut()` and `pd.qcut()` are used to transform continuous numerical data into categorical bins."
   ]
  },
  {
   "cell_type": "markdown",
   "id": "82971bd4",
   "metadata": {},
   "source": [
    "---"
   ]
  },
  {
   "cell_type": "markdown",
   "id": "8fee20f9",
   "metadata": {},
   "source": [
    "**Question:**\n",
    "\n",
    "What is the main difference between `pd.cut()` and `pd.qcut()` in pandas?\n",
    "\n",
    "1. `pd.cut()` is used for numerical data, while `pd.qcut()` is used for categorical data.\n",
    "\n",
    "2. `pd.cut()` divides data into equal-sized bins, while `pd.qcut()` uses quantiles to divide data into bins.\n",
    "\n",
    "3. `pd.cut()` is used for creating new columns, while `pd.qcut()` is used for filtering rows.\n",
    "\n",
    "4. There is no difference between `pd.cut()` and `pd.qcut()`; they can be used interchangeably.\n",
    "\n",
    "\n",
    "**Answer:** 2\n",
    "\n",
    "The main difference between `pd.cut()` and `pd.qcut()` lies in how they divide data into bins.\n",
    "\n",
    "`pd.cut()` divides data into equal-sized bins based on the provided number of bins. You specify the range of values and the number of bins, and it evenly distributes the values across the bins. You can also customize the cut edges by proving an array of edges.\n",
    "\n",
    "On the other hand, `pd.qcut()` uses quantiles to divide data into bins. You specify the number of desired bins, and `pd.qcut()` assigns each value to a bin based on its quantile rank. This ensures that each bin contains approximately the same number of observations.\n"
   ]
  },
  {
   "cell_type": "markdown",
   "id": "fe462407",
   "metadata": {},
   "source": [
    "---"
   ]
  }
 ],
 "metadata": {
  "kernelspec": {
   "display_name": "Python 3 (ipykernel)",
   "language": "python",
   "name": "python3"
  },
  "language_info": {
   "codemirror_mode": {
    "name": "ipython",
    "version": 3
   },
   "file_extension": ".py",
   "mimetype": "text/x-python",
   "name": "python",
   "nbconvert_exporter": "python",
   "pygments_lexer": "ipython3",
   "version": "3.10.12"
  }
 },
 "nbformat": 4,
 "nbformat_minor": 5
}
