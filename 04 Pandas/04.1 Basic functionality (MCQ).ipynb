{
 "cells": [
  {
   "cell_type": "markdown",
   "id": "47e4f4de-d70b-4f94-888d-1fdffd89e9b2",
   "metadata": {},
   "source": [
    "# Essential Basic Functionality (MCQ)"
   ]
  },
  {
   "cell_type": "markdown",
   "id": "1f87e8da-8047-447f-b372-0d0cb4c52d2b",
   "metadata": {},
   "source": [
    "---"
   ]
  },
  {
   "cell_type": "markdown",
   "id": "f9b9c454",
   "metadata": {},
   "source": [
    "**Question:**\n",
    "\n",
    "How can you create a **range of dates** in pandas?\n",
    "\n",
    "1. Using the `np.arange()` function\n",
    "2. Using the `pd.date_range()` function\n",
    "3. Using the `pd.create_range()` function\n",
    "4. Using the `pd.range_of_dates()` function\n",
    "\n",
    "**Answer:** 2\n",
    "\n",
    "In Pandas, you can create a range of dates using the `date_range()` function. Here's an example:\n",
    "```python\n",
    "date_range = pd.date_range(start='2023-01-01', end='2023-01-31')\n",
    "print(date_range)\n",
    "```"
   ]
  },
  {
   "cell_type": "markdown",
   "id": "27c66da3",
   "metadata": {},
   "source": [
    "---"
   ]
  },
  {
   "cell_type": "markdown",
   "id": "92e64b57",
   "metadata": {},
   "source": [
    "**Question:**\n",
    "\n",
    "What does the `df.info()` method display in pandas?\n",
    "\n",
    "1. Basic information about the DataFrame, such as the number of rows and columns.\n",
    "\n",
    "2. Detailed summary statistics of the DataFrame, including the mean, min, max, and quartiles of each column.\n",
    "\n",
    "3. Visual representation of the DataFrame, including charts and graphs.\n",
    "\n",
    "4. A list of available methods and attributes for the DataFrame object.\n",
    "\n",
    "**Answer:** 1\n",
    "\n",
    "The `df.info()` method provides details such as the number of rows, the number of columns, column names, data types of columns, and the count of non-null values in each column."
   ]
  },
  {
   "cell_type": "markdown",
   "id": "b95f850d",
   "metadata": {},
   "source": [
    "---"
   ]
  },
  {
   "cell_type": "markdown",
   "id": "40476488",
   "metadata": {},
   "source": [
    "**Question:**\n",
    "\n",
    "How can you obtain detailed **summary statistics** of a DataFrame in pandas, including the mean, min, max, and quartiles of each column?\n",
    "\n",
    "1. By using the `df.info()` method.\n",
    "2. By using the `df.head()` method.\n",
    "3. By using the `df.describe()` method.\n",
    "4. By using the `df.columns()` method.\n",
    "\n",
    "**Answer:** 3\n",
    "\n",
    "To obtain detailed summary statistics of a DataFrame in pandas, you can use the `df.describe()` method. This method computes various summary statistics for each numerical column in the DataFrame, such as the count, mean, standard deviation, minimum value, 25th percentile (first quartile), median (second quartile), 75th percentile (third quartile), and maximum value."
   ]
  },
  {
   "cell_type": "markdown",
   "id": "e4659f5f",
   "metadata": {},
   "source": [
    "---"
   ]
  },
  {
   "cell_type": "markdown",
   "id": "bc69053e",
   "metadata": {},
   "source": [
    "**Question:**\n",
    "\n",
    "Which methods can be used to quickly examine the contents of a DataFrame in pandas by displaying the first few rows?\n",
    "\n",
    "1. `df.first()`\n",
    "2. `df.head()`\n",
    "3. `df.tail()`\n",
    "4. `df.main()`\n",
    "\n",
    "**Answer:** 2\n",
    "\n",
    "The `df.head()` method returns the first few rows of the DataFrame. By default, it returns the first 5 rows, but you can specify the number of rows to display by passing an integer parameter to the method (e.g., `df.head(10)` will display the first 10 rows)."
   ]
  },
  {
   "cell_type": "markdown",
   "id": "68fafba7",
   "metadata": {},
   "source": [
    "---"
   ]
  },
  {
   "cell_type": "markdown",
   "id": "6b8d6722",
   "metadata": {},
   "source": [
    "**Question:**\n",
    "\n",
    "In pandas, what is the primary use of the `df.tail()` method?\n",
    "\n",
    "1. It returns the first few rows of a DataFrame.\n",
    "2. It returns the last few rows of a DataFrame.\n",
    "3. It sorts the DataFrame in descending order.\n",
    "4. It calculates summary statistics for each column in the DataFrame.\n",
    "\n",
    "**Answer:** 2\n",
    "\n",
    "The primary use of the `df.tail()` method in pandas is to return the last few rows of a DataFrame. By default, it returns the last 5 rows, but you can specify the number of rows to display by passing an integer parameter to the method (e.g., `df.tail(10)` will display the last 10 rows)."
   ]
  },
  {
   "cell_type": "markdown",
   "id": "3d441545",
   "metadata": {},
   "source": [
    "---"
   ]
  },
  {
   "cell_type": "markdown",
   "id": "489e012c",
   "metadata": {},
   "source": [
    "**Question:**\n",
    "\n",
    "In binary operations between a Pandas DataFrame and a Pandas Series, what is the purpose of the `axis` parameter in methods like `df.add()`, `df.sub()`, and similar? (select all that apply)\n",
    "\n",
    "1. Performing an operation with `axis=0` means matching on columns.\n",
    "1. Performing an operation with `axis=0` means matching on index.\n",
    "2. performing an operation with `axis=1` means matching on index.\n",
    "2. performing an operation with `axis=1` means matching on columns.\n",
    "\n",
    "**Answer:** The options 2 and 4 are ture.\n",
    "\n",
    "When performing an operation with `axis=0` (matching on index), each element of the Series is aligned with a corresponding row in the DataFrame based on the Series index. This means that the Series values are repeated for each row and the operation is applied row-wise.\n",
    "\n",
    "When performing an operation with `axis=1` (matching on columns), each element of the Series is aligned with a corresponding column in the DataFrame based on the Series index. This means that the Series values are repeated for each column and the operation is applied column-wise."
   ]
  },
  {
   "cell_type": "markdown",
   "id": "0a85d16e",
   "metadata": {},
   "source": [
    "---"
   ]
  },
  {
   "cell_type": "markdown",
   "id": "a345ddde",
   "metadata": {},
   "source": [
    "**Question:**\n",
    "\n",
    "Which option in arithmetic functions allows you to specify a value to substitute for missing values when performing operations between Series or DataFrame objects?\n",
    "\n",
    "1. `axis`\n",
    "2. `fill_value`\n",
    "3. `inplace`\n",
    "4. `dropna`\n",
    "\n",
    "**Answer:** 2\n",
    "\n",
    "The `fill_value` option in arithmetic functions allows you to specify a value that will be used to substitute missing values during operations between Series or DataFrame objects."
   ]
  },
  {
   "cell_type": "markdown",
   "id": "6b815ee8",
   "metadata": {},
   "source": [
    "---"
   ]
  },
  {
   "cell_type": "markdown",
   "id": "fc81a99e",
   "metadata": {},
   "source": [
    "**Question:**\n",
    "\n",
    "What happens when you input a `fill_value` in arithmetic functions and only one of the values at a location is missing in a pandas DataFrame?\n",
    "\n",
    "1. The operation is performed normally with the `fill_value` used for the missing value.\n",
    "2. The operation returns `NaN`.\n",
    "3. The operation raises an error.\n",
    "4. The `fill_value` option is ignored in this case.\n",
    "\n",
    "**Answer:** 1\n",
    "\n",
    "When you input a `fill_value` in arithmetic functions and only one of the values at a location is missing, the operation will still be performed normally, and the `fill_value` will be used to substitute the missing value."
   ]
  },
  {
   "cell_type": "markdown",
   "id": "f3c61218",
   "metadata": {},
   "source": [
    "---"
   ]
  },
  {
   "cell_type": "markdown",
   "id": "13892d63",
   "metadata": {},
   "source": [
    "**Question:**\n",
    "\n",
    "When adding two DataFrame objects with `NaN` values and using a `fill_value`, what will be the result if both DataFrames have missing values at a particular location?\n",
    "\n",
    "1. The result will be the `fill_value`.\n",
    "2. The result will be `zero`.\n",
    "3. The result will depend on the values in the rest of the DataFrame.\n",
    "4. The result will be `NaN`.\n",
    "\n",
    "**Answer:** 4\n",
    "\n",
    "When adding two DataFrame objects with `NaN` values and using a `fill_value`, if both DataFrames have missing values at a particular location, the result will also be `NaN`."
   ]
  },
  {
   "cell_type": "markdown",
   "id": "555bae18",
   "metadata": {},
   "source": [
    "---"
   ]
  },
  {
   "cell_type": "markdown",
   "id": "21d79641",
   "metadata": {},
   "source": [
    "**Question:**\n",
    "\n",
    "What is the use of the `.fillna()` method in Pandas?\n",
    "\n",
    "1. It drops rows/columns with missing values.\n",
    "2. It replaces missing values with a specified value or method.\n",
    "3. It sorts the DataFrame in ascending order.\n",
    "4. It calculates descriptive statistics for the DataFrame.\n",
    "\n",
    "**Answer:** 2\n",
    "\n",
    "The `.fillna()` method in Pandas is used to replace missing or `NaN` (Not a Number) values in a DataFrame or Series. It allows you to substitute NaN values with a specified value, such as a `constant`, or using a method like `forward fill` or `backward fill`. This method is helpful in handling missing data and ensuring consistency in data analysis or further computations."
   ]
  },
  {
   "cell_type": "markdown",
   "id": "6239e361",
   "metadata": {},
   "source": [
    "---"
   ]
  },
  {
   "cell_type": "markdown",
   "id": "f9ea2f48",
   "metadata": {},
   "source": [
    "**Question:**\n",
    "\n",
    "What is the purpose of the `.any()` method in Pandas?\n",
    "\n",
    "1. It checks if all values in a DataFrame or Series are True.\n",
    "2. It calculates the sum of all values in a DataFrame or Series.\n",
    "3. It checks if any value in a DataFrame or Series is True.\n",
    "4. It calculates the mean of all values in a DataFrame or Series.\n",
    "\n",
    "**Answer:** 3\n",
    "\n",
    "The `.any()` method in Pandas is used to check if **any** value in a DataFrame or Series is `True`. It returns True if at least one value is True, otherwise returns False."
   ]
  },
  {
   "cell_type": "markdown",
   "id": "763f17cf",
   "metadata": {},
   "source": [
    "---"
   ]
  },
  {
   "cell_type": "markdown",
   "id": "f159e8a0",
   "metadata": {},
   "source": [
    "**Question:**\n",
    "\n",
    "What is the purpose of the `.all()` method in Pandas?\n",
    "\n",
    "1. It checks if any value in a DataFrame or Series is True.\n",
    "2. It calculates the sum of all values in a DataFrame or Series.\n",
    "3. It calculates the mean of all values in a DataFrame or Series.\n",
    "4. It checks if all values in a DataFrame or Series are True.\n",
    "\n",
    "**Answer:** 4\n",
    "\n",
    "The `.all()` method in Pandas is used to check if **all** values in a DataFrame or Series are True. It returns True only if all values in the object are True, otherwise returns False."
   ]
  },
  {
   "cell_type": "markdown",
   "id": "abc310a2",
   "metadata": {},
   "source": [
    "---"
   ]
  },
  {
   "cell_type": "markdown",
   "id": "a08b5145",
   "metadata": {},
   "source": [
    "**Question:**\n",
    "\n",
    "Which method can be used to check if two Pandas DataFrames or Series are **equivalent**?\n",
    "\n",
    "1. `.is_equal()`\n",
    "2. `.equals()`\n",
    "3. `.compare()`\n",
    "4. `.equivalent()`\n",
    "\n",
    "**Answer:** 2\n",
    "\n",
    "The `.equals()` method in Pandas is used to check if two DataFrames or Series are equivalent. It compares the values and the indices of the two objects and returns True if they are equal, otherwise returns False."
   ]
  },
  {
   "cell_type": "markdown",
   "id": "2933ddf5",
   "metadata": {},
   "source": [
    "---"
   ]
  },
  {
   "cell_type": "markdown",
   "id": "2b0a957f",
   "metadata": {},
   "source": [
    "**Question:**\n",
    "\n",
    "What is the meaning of **data alignment** in pandas?\n",
    "\n",
    "1. Data alignment refers to the process of formatting data in a tabular structure.\n",
    "\n",
    "2. Data alignment is the arrangement of data values in a sequential manner.\n",
    "\n",
    "3. Data alignment in pandas refers to matching indexes before performing operations.\n",
    "\n",
    "4. Data alignment is the process of merging multiple datasets into a single dataset.\n",
    "\n",
    "**Answer:** 3\n",
    "\n",
    "**Data alignment** in pandas refers to the process of matching the indexes of two or more pandas objects (Series or DataFrames) before performing an operation between them. This means that when two objects have the same index, the operation is performed on the corresponding elements of the objects. If the objects have different indexes, pandas aligns them by matching the labels of the indexes and performs the operation only on the matching elements."
   ]
  },
  {
   "cell_type": "markdown",
   "id": "7c2b4289",
   "metadata": {},
   "source": [
    "---"
   ]
  },
  {
   "cell_type": "markdown",
   "id": "4756e8cc",
   "metadata": {},
   "source": [
    "**Question:**\n",
    "\n",
    "What is the result of the following code?\n",
    "\n",
    "```python\n",
    "df1 = pd.DataFrame([10, 20, None])\n",
    "df2 = df1\n",
    "print((df2 == df1).all())\n",
    "```\n",
    "\n",
    "1. `True`\n",
    "2. `False`\n",
    "3. `None`\n",
    "4. `Error`\n",
    "\n",
    "\n",
    "**Answer:** 2\n",
    "\n",
    "The result is `False` because `NaNs` do not compare as equals. You can use .`equals()` method for testing equality, with `NaNs` in corresponding locations treated as equal."
   ]
  },
  {
   "cell_type": "markdown",
   "id": "e097c1c2",
   "metadata": {},
   "source": [
    "---"
   ]
  },
  {
   "cell_type": "markdown",
   "id": "1e19b0bc",
   "metadata": {},
   "source": [
    "**Question:**\n",
    "\n",
    "How can you detect `missing values` in a pandas DataFrame (`df`)? (select all that apply)\n",
    "\n",
    "1. Using the `df.isnull()` function\n",
    "2. Using the `df.isna()` function\n",
    "3. Using the `pd.isna(df)` function\n",
    "4. Using the `pd.isnull(df)` function\n",
    "\n",
    "**Answer:** All the options are true\n",
    "\n",
    "To detect missing values in a pandas DataFrame, you can use **all of the above** methods or functions. They return a data frame consisting of True and False values. A True value indicates data is null or missing, while False indicates that data is not null and not missing."
   ]
  },
  {
   "cell_type": "markdown",
   "id": "a3cca0d3",
   "metadata": {},
   "source": [
    "---"
   ]
  },
  {
   "cell_type": "markdown",
   "id": "82861bcc",
   "metadata": {},
   "source": [
    "**Question:**\n",
    "\n",
    "What does the `combine_first()` method in pandas do? (choose the best answer)\n",
    "\n",
    "1. Combines two DataFrames by merging them.\n",
    "\n",
    "2. Combines two DataFrames by concatenating them.\n",
    "\n",
    "3. Combines two DataFrame objects by filling null values in one DataFrame with non-null values from another DataFrame.\n",
    "\n",
    "4. Combines two DataFrames by dropping all null values.\n",
    "\n",
    "**Answer:** 3\n",
    "\n",
    "The `combine_first()` method in pandas combines two DataFrame objects by filling null values in one DataFrame with non-null values from another DataFrame."
   ]
  },
  {
   "cell_type": "markdown",
   "id": "8bd5c3a4",
   "metadata": {},
   "source": [
    "---"
   ]
  }
 ],
 "metadata": {
  "kernelspec": {
   "display_name": "Python 3 (ipykernel)",
   "language": "python",
   "name": "python3"
  },
  "language_info": {
   "codemirror_mode": {
    "name": "ipython",
    "version": 3
   },
   "file_extension": ".py",
   "mimetype": "text/x-python",
   "name": "python",
   "nbconvert_exporter": "python",
   "pygments_lexer": "ipython3",
   "version": "3.10.12"
  }
 },
 "nbformat": 4,
 "nbformat_minor": 5
}
