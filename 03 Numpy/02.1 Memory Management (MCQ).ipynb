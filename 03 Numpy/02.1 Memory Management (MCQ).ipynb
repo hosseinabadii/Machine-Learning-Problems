{
 "cells": [
  {
   "attachments": {},
   "cell_type": "markdown",
   "id": "fa6a3366-c165-446b-96b8-6e4aee5f92a5",
   "metadata": {},
   "source": [
    "# Memory Management in NumPy (MCQ)"
   ]
  },
  {
   "cell_type": "markdown",
   "id": "f6cce05b-71d5-42a2-bcf9-5f7d05c759e2",
   "metadata": {},
   "source": [
    "---"
   ]
  },
  {
   "attachments": {},
   "cell_type": "markdown",
   "id": "fc9137b0",
   "metadata": {},
   "source": [
    "**Question:**  \n",
    "How can you check if a NumPy ndarray is `C_CONTIGUOUS` or `F_CONTIGUOUS`?\n",
    "\n",
    "1. By using the `np.is_contiguous(arr)` function\n",
    "\n",
    "2. By checking the value of the `arr.flags.c_contiguous` and `arr.flags.f_contiguous` attributes\n",
    "3. By comparing the shape of the array to its strides\n",
    "4. By checking if the array has the `np.C_CONTIGUOUS` or `np.F_CONTIGUOUS` flag set\n",
    "\n",
    "**Answer:**  2\n",
    "\n",
    "NumPy arrays have a flags attribute that provides information about the memory layout and properties of the array. The values of the `arr.flags.c_contiguous` and `arr.flags.f_contiguous` attributes indicate whether the array is `C_CONTIGUOUS` (row-major) or `F_CONTIGUOUS` (column-major), respectively."
   ]
  },
  {
   "cell_type": "markdown",
   "id": "38e88228",
   "metadata": {},
   "source": [
    "---"
   ]
  },
  {
   "attachments": {},
   "cell_type": "markdown",
   "id": "b955bf5f-8741-43d5-86ae-ef6972038077",
   "metadata": {},
   "source": [
    "**Question:**  \n",
    "What is the difference between `C_CONTIGUOUS` and `F_CONTIGUOUS` flags of a NumPy array? (more than one answer is true)\n",
    "\n",
    "1. `C_CONTIGUOUS` indicates that the array is stored in row-major order, while `F_CONTIGUOUS` indicates column-major order.\n",
    "\n",
    "2. `C_CONTIGUOUS` and `F_CONTIGUOUS` flags have the same meaning.\n",
    "3. `C_CONTIGUOUS` refers to arrays stored in continuous memory blocks, while `F_CONTIGUOUS` refers to arrays stored in fragmented memory blocks.\n",
    "4. `C_CONTIGUOUS` allows faster row-wise operations, while `F_CONTIGUOUS` allows faster column-wise operations.\n",
    "\n",
    "**Answer:**  Both options 1 and 4 are true.\n",
    "\n",
    "- `C_CONTIGUOUS` flag means **row-major** order, where adjacent memory addresses are used for elements in **each row**. It allows faster row-wise operations.\n",
    "\n",
    "- `F_CONTIGUOUS` flag means **column-major** order, where adjacent memory addresses are used for elements in **each column**. It allows faster column-wise operations."
   ]
  },
  {
   "cell_type": "markdown",
   "id": "e11d161b-0ee5-418c-b8e9-549519c6173c",
   "metadata": {},
   "source": [
    "---"
   ]
  },
  {
   "attachments": {},
   "cell_type": "markdown",
   "id": "3a7ecb40",
   "metadata": {},
   "source": [
    "**Question:**  \n",
    "What happens when you modify a **view** of a NumPy array?\n",
    "\n",
    "1. The modifications have no effect on the original array.\n",
    "2. The view becomes a copy of the original array.\n",
    "3. The modifications affect the original array.\n",
    "4. The original array becomes read-only.\n",
    "\n",
    "**Answer:**  3\n",
    "\n",
    "Views are references to the original array, so modifying a view will also modify the original array."
   ]
  },
  {
   "cell_type": "markdown",
   "id": "1986a5ab",
   "metadata": {},
   "source": [
    "---"
   ]
  },
  {
   "attachments": {},
   "cell_type": "markdown",
   "id": "ff139420",
   "metadata": {},
   "source": [
    "**Question:**  \n",
    "How can you determine whether two NumPy arrays are **copies** or **views** of each other?\n",
    "\n",
    "1. Using the `np.may_share_memory()` function\n",
    "2. Checking if their memory addresses are the same\n",
    "3. Using the `np.same()` function\n",
    "4. Checking if their shapes are equal\n",
    "\n",
    "**Answer:**  1\n",
    "\n",
    "The `np.may_share_memory()` function checks if two arrays share the same memory block, indicating whether they are views or copies of each other."
   ]
  },
  {
   "cell_type": "markdown",
   "id": "803bff57",
   "metadata": {},
   "source": [
    "---"
   ]
  },
  {
   "attachments": {},
   "cell_type": "markdown",
   "id": "c09813b7",
   "metadata": {},
   "source": [
    "**Question:**  \n",
    "What do **strides** represent in a numpy.ndarray?\n",
    "1. The number of elements in the array\n",
    "2. The dimensions and size of the array\n",
    "3. The memory layout and byte offsets to reach the next element\n",
    "4. The data type of the elements in the array\n",
    "\n",
    "**Answer:**  3\n",
    "\n",
    "**Strides** in NumPy arrays represent the memory layout and byte offsets needed to move from one element to another in each dimension."
   ]
  },
  {
   "cell_type": "markdown",
   "id": "77e1ec1c",
   "metadata": {},
   "source": [
    "---"
   ]
  },
  {
   "attachments": {},
   "cell_type": "markdown",
   "id": "4b464521",
   "metadata": {},
   "source": [
    "**Question:**  \n",
    "Which of the following options does NumPy offer to **optimize memory** usage?\n",
    "\n",
    "1. array views\n",
    "2. memory sharing\n",
    "3. array strides\n",
    "4. All of the above\n",
    "\n",
    "**Answer:**  4\n",
    "\n",
    "NumPy offers various functions and options to optimize memory usage, including array views, memory sharing, and strides."
   ]
  },
  {
   "cell_type": "markdown",
   "id": "08feef67",
   "metadata": {},
   "source": [
    "---"
   ]
  },
  {
   "attachments": {},
   "cell_type": "markdown",
   "id": "1fb63cdc",
   "metadata": {},
   "source": [
    "**Question:**  \n",
    "Which NumPy function can be used to create a **copy** of a given array?\n",
    "\n",
    "1. `np.view()`\n",
    "2. `np.reshape()`\n",
    "3. `np.split()`\n",
    "4. `np.copy()`\n",
    "\n",
    "**Answer:**  4\n",
    "\n",
    "The `np.copy()` function creates a new copy of the given array."
   ]
  },
  {
   "cell_type": "markdown",
   "id": "6756a77c",
   "metadata": {},
   "source": [
    "---"
   ]
  },
  {
   "attachments": {},
   "cell_type": "markdown",
   "id": "26d14c89",
   "metadata": {},
   "source": [
    "**Question:**  \n",
    "What does **contiguous memory** mean in the context of NumPy arrays?\n",
    "1. Memory that is allocated in a continuous block for the array elements.\n",
    "2. Memory that is allocated in a fragmented manner for the array elements.\n",
    "3. Memory that is allocated with irregular spacing between the array elements.\n",
    "4. Memory that is deallocated and freed up after the array is no longer needed.\n",
    "\n",
    "**Answer:**  1\n",
    "\n",
    "**Contiguous memory** means that the elements of the array are stored in a continuous block of memory, enabling efficient access."
   ]
  },
  {
   "cell_type": "markdown",
   "id": "e4a0ceaa",
   "metadata": {},
   "source": [
    "---"
   ]
  },
  {
   "attachments": {},
   "cell_type": "markdown",
   "id": "c4736f5d-4da6-4533-97f4-efda5ef27c57",
   "metadata": {},
   "source": [
    "**Question:**  \n",
    "What's the output of the following code snippet?\n",
    "```\n",
    "import numpy as np\n",
    "x = np.arange(24, dtype=\"int16\").reshape(2, 3, 4)\n",
    "print(x.strides)\n",
    "```\n",
    "\n",
    "1. --> `(2, 8, 24)`\n",
    "2. --> `(24, 8, 2)`\n",
    "3. --> `(2, 3, 4)`\n",
    "4. --> `(4, 3, 2)`\n",
    "\n",
    "**Answer:**  2\n",
    "\n",
    "The data type of this array is `int16`, which means each element in the array is an 16-bit (2-byte) integer, therefore:\n",
    "- The elements in the **last dimension** are **2 bytes** apart and the array need to jump 2 bytes to find the next element in this dimension.\n",
    "\n",
    "- The elements in the **second dimension** are **8 bytes** apart (4*2) and the array need to jump 8 bytes to find the next element in this dimension.\n",
    "\n",
    "- The elements in the **first dimension** are **24 bytes** apart (8*3) and the array need to jump 24 bytes to find the next element in this dimension."
   ]
  },
  {
   "cell_type": "markdown",
   "id": "7440fd19-9f9a-4014-97e0-9a864bcbef3c",
   "metadata": {},
   "source": [
    "---"
   ]
  }
 ],
 "metadata": {
  "kernelspec": {
   "display_name": "Python 3 (ipykernel)",
   "language": "python",
   "name": "python3"
  },
  "language_info": {
   "codemirror_mode": {
    "name": "ipython",
    "version": 3
   },
   "file_extension": ".py",
   "mimetype": "text/x-python",
   "name": "python",
   "nbconvert_exporter": "python",
   "pygments_lexer": "ipython3",
   "version": "3.10.12"
  }
 },
 "nbformat": 4,
 "nbformat_minor": 5
}
