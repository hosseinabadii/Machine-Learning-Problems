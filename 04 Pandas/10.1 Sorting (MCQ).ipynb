{
 "cells": [
  {
   "cell_type": "markdown",
   "id": "fd8a9701-0b35-4a61-b2d0-029d7fcfdabb",
   "metadata": {},
   "source": [
    "# Sorting (MCQ)"
   ]
  },
  {
   "cell_type": "markdown",
   "id": "c3952bc6-b945-4e46-8007-59a83e8ebe76",
   "metadata": {},
   "source": [
    "---"
   ]
  },
  {
   "cell_type": "markdown",
   "id": "84f34b32",
   "metadata": {},
   "source": [
    "**Question:**\n",
    "\n",
    "Which method in pandas is used to sort a DataFrame or Series by its **index**?\n",
    "\n",
    "1. `sort_values()`\n",
    "2. `sort_index()`\n",
    "3. `nsmallest()`\n",
    "4. `nlargest()`\n",
    "\n",
    "**Answer:** 2\n",
    "\n",
    "The `sort_index()` method in pandas is used to sort a DataFrame or Series by its **index**. It rearranges the rows of the DataFrame or Series based on the sorted index values.\n"
   ]
  },
  {
   "cell_type": "markdown",
   "id": "b3bb87b0",
   "metadata": {},
   "source": [
    "---"
   ]
  },
  {
   "cell_type": "markdown",
   "id": "a6409f46",
   "metadata": {},
   "source": [
    "**Question:**\n",
    "\n",
    "Which method in pandas is used to sort a DataFrame or Series by its **values**?\n",
    "\n",
    "1. `sort_index()`\n",
    "2. `sort_values()`\n",
    "3. `nsmallest()`\n",
    "4. `nlargest()`\n",
    "\n",
    "**Answer:** 2\n",
    "\n",
    "The method in pandas used to sort a DataFrame or Series by its **values** is the `sort_values()` method. This method rearranges the rows of the DataFrame or Series based on the sorted values of a specific column or columns.\n"
   ]
  },
  {
   "cell_type": "markdown",
   "id": "3520a5e8",
   "metadata": {},
   "source": [
    "---"
   ]
  },
  {
   "cell_type": "markdown",
   "id": "23a1da1f",
   "metadata": {},
   "source": [
    "**Question:**\n",
    "\n",
    "Is it possible to use the `sort_index()` method for sorting the **column labels** in a DataFrame?\n",
    "\n",
    "1. No, `sort_index()` can only be used to sort the row labels in a DataFrame.\n",
    "\n",
    "2. Yes, `sort_index()` can be used to sort the column labels in a DataFrame if you specify the `axis=0`.\n",
    "\n",
    "3. No, you have to use `sort_values()` method for sorting the column labels in a DataFrame.\n",
    "\n",
    "4. Yes, `sort_index()` can be used to sort the column labels in a DataFrame if you specify the `axis=1`.\n",
    "\n",
    "**Answer:** 4\n",
    "\n",
    "The `sort_index()` method in pandas can be used to sort both the row labels (index) and the column labels of a DataFrame. By default, it sorts the DataFrame based on the row labels (index), but you can specify the `axis=1` parameter to sort the column labels as well.\n"
   ]
  },
  {
   "cell_type": "markdown",
   "id": "0898ffab",
   "metadata": {},
   "source": [
    "---"
   ]
  },
  {
   "cell_type": "markdown",
   "id": "65da7417",
   "metadata": {},
   "source": [
    "**Question:**\n",
    "\n",
    "Which parameter is used to specify the **sorting order** (ascending or descending) in both `sort_index()` and `sort_values()` methods?\n",
    "\n",
    "1. ascending\n",
    "2. axis\n",
    "3. order\n",
    "4. sort_order\n",
    "\n",
    "**Answer:** 1\n",
    "\n",
    "The `ascending` parameter is used in both `sort_index()` and `sort_values()` methods to specify the sorting order. When set to True, the sorting is done in ascending order, and when set to False, it sorts in descending order.\n"
   ]
  },
  {
   "cell_type": "markdown",
   "id": "d4e4c208",
   "metadata": {},
   "source": [
    "---"
   ]
  },
  {
   "cell_type": "markdown",
   "id": "ecbcd070",
   "metadata": {},
   "source": [
    "**Question:**\n",
    "\n",
    "Which of the following values are available for the `na_position` parameter in the `sort_values()` method in pandas? (select all that apply)\n",
    "\n",
    "1. \"first\"\n",
    "2. \"last\"\n",
    "3. \"middle\"\n",
    "4. \"none\"\n",
    "\n",
    "**Answer:** The options 1 and 2 are true.\n",
    "\n",
    "In the `sort_values()` method, you can specify either **\"first\"** or **\"last\"** for the `na_position` parameter. These values determine the placement of missing values in the sorted DataFrame or Series. Choosing \"first\" will put missing values at the beginning, while choosing \"last\" will place them at the end.\n"
   ]
  },
  {
   "cell_type": "markdown",
   "id": "a230f2c9",
   "metadata": {},
   "source": [
    "---"
   ]
  },
  {
   "cell_type": "markdown",
   "id": "e9d4afe5",
   "metadata": {},
   "source": [
    "**Question:**\n",
    "\n",
    "What is the default value for the `na_position` parameter in both `sort_index()` and `sort_values()` methods?\n",
    "\n",
    "1. \"first\"\n",
    "2. None\n",
    "3. True\n",
    "4. \"last\"\n",
    "\n",
    "**Answer:** 4\n",
    "\n",
    "The default value for the `na_position` parameter in both `sort_index()` and `sort_values()` methods is **\"last\"**. It means that missing values are placed at the end of the sorted DataFrame or Series.\n"
   ]
  },
  {
   "cell_type": "markdown",
   "id": "6b9ac3a4",
   "metadata": {},
   "source": [
    "---"
   ]
  },
  {
   "cell_type": "markdown",
   "id": "db8ee686",
   "metadata": {},
   "source": [
    "**Question:**\n",
    "\n",
    "What is the use of the `by` parameter in the `sort_values()` method in pandas?\n",
    "\n",
    "1. It specifies the sorting order (ascending or descending).\n",
    "2. It specifies where to place missing values.\n",
    "3. It specifies the column or columns to use for sorting.\n",
    "4. It applies a custom function to the values before sorting.\n",
    "\n",
    "**Answer:** 3\n",
    "\n",
    "The `by` parameter in the `sort_values()` method in pandas is used to specify the column or columns to use for sorting. By default, the sort_values() method sorts the DataFrame or Series by the values of a single column. However, by specifying the `by` parameter, you can sort based on one or more columns.\n"
   ]
  },
  {
   "cell_type": "markdown",
   "id": "37559ace",
   "metadata": {},
   "source": [
    "---"
   ]
  },
  {
   "cell_type": "markdown",
   "id": "109e57e7",
   "metadata": {},
   "source": [
    "**Question:**\n",
    "\n",
    "What does the `key` parameter do in `sort_values()` method?\n",
    "\n",
    "1. Specifies the sorting order (ascending or descending)\n",
    "2. Specifies where to place missing values\n",
    "3. Applies a custom function to the values before sorting (only used for sorting, not modify the original values.)\n",
    "4. Sorts by multiple levels of a multi-level index\n",
    "\n",
    "**Answer:** 3\n",
    "\n",
    "The `key` parameter in the `sort_values()` method is used to apply a custom function to the values before sorting. It is only used for sorting, not modify the original values. It allows you to transform the values in a column using a callable function before the sorting operation.\n"
   ]
  },
  {
   "cell_type": "markdown",
   "id": "f512e1fc",
   "metadata": {},
   "source": [
    "---"
   ]
  },
  {
   "cell_type": "markdown",
   "id": "f486931c",
   "metadata": {},
   "source": [
    "**Question:**\n",
    "\n",
    "What is the purpose of the `nsmallest()` and `nlargest()` methods in pandas?\n",
    "\n",
    "1. Sorting a DataFrame or Series by multiple columns\n",
    "2. Sorting a DataFrame or Series in ascending order\n",
    "3. Returning the smallest or largest values from a DataFrame or Series\n",
    "4. Sorting a DataFrame or Series by its index\n",
    "\n",
    "**Answer:** 3\n",
    "\n",
    "The `nsmallest()` and `nlargest()` methods in pandas are used to return the `n` smallest or largest values from a DataFrame or Series. They allow you to retrieve a specified number of top or bottom values based on a particular column or columns.\n"
   ]
  },
  {
   "cell_type": "markdown",
   "id": "bcbf0568",
   "metadata": {},
   "source": [
    "---"
   ]
  },
  {
   "cell_type": "markdown",
   "id": "b138c7c1",
   "metadata": {},
   "source": [
    "**Question:**\n",
    "\n",
    "What is the use of the `searchsorted()` method in pandas?\n",
    "\n",
    "1. It searches for a specified value in a DataFrame or Series.\n",
    "2. It returns the indices where values should be inserted to maintain sorted order.\n",
    "3. It sorts the DataFrame or Series in ascending order.\n",
    "4. It calculates descriptive statistics for the DataFrame or Series.\n",
    "\n",
    "**Answer:** 2\n",
    "\n",
    "The `searchsorted()` method in pandas is used to return the indices where values should be inserted to maintain a sorted order. It is particularly useful when you have a sorted DataFrame or Series and want to find the insertion points for new values.\n"
   ]
  },
  {
   "cell_type": "markdown",
   "id": "db34cc73",
   "metadata": {},
   "source": [
    "---"
   ]
  }
 ],
 "metadata": {
  "kernelspec": {
   "display_name": "Python 3 (ipykernel)",
   "language": "python",
   "name": "python3"
  },
  "language_info": {
   "codemirror_mode": {
    "name": "ipython",
    "version": 3
   },
   "file_extension": ".py",
   "mimetype": "text/x-python",
   "name": "python",
   "nbconvert_exporter": "python",
   "pygments_lexer": "ipython3",
   "version": "3.10.12"
  }
 },
 "nbformat": 4,
 "nbformat_minor": 5
}
