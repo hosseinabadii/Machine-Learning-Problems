{
 "cells": [
  {
   "attachments": {},
   "cell_type": "markdown",
   "id": "b9c2b9a0-059e-4788-82eb-aff8bda4a488",
   "metadata": {},
   "source": [
    "# Order and Aggregate (MCQ)"
   ]
  },
  {
   "cell_type": "markdown",
   "id": "b7f3becb-0ef4-4a31-ac5c-632fff8fe500",
   "metadata": {},
   "source": [
    "---"
   ]
  },
  {
   "attachments": {},
   "cell_type": "markdown",
   "id": "01db971b-1835-416f-a463-b6aeb8b5d89d",
   "metadata": {},
   "source": [
    "**Question:**\n",
    "\n",
    "What does the function `np.sort()` do by default?\n",
    "\n",
    "1. Returns a sorted copy of an array in ascending order\n",
    "2. Returns a sorted copy of an array in descending order\n",
    "3. Sorts the array in ascending order in-place\n",
    "4. Sorts the array in descending order in-place\n",
    "\n",
    "**Answer:**  1\n",
    "\n",
    "The `np.sort()` function returns a sorted copy of an array in ascending order by default."
   ]
  },
  {
   "cell_type": "markdown",
   "id": "051ad9fa-a286-40b8-b31a-78335ab77436",
   "metadata": {},
   "source": [
    "---"
   ]
  },
  {
   "attachments": {},
   "cell_type": "markdown",
   "id": "bef587dc",
   "metadata": {},
   "source": [
    "**Question:**\n",
    "\n",
    "What is the default axis in `np.sort()` function?\n",
    "\n",
    "1. --> None\n",
    "2. --> 0\n",
    "3. --> 1\n",
    "4. --> -1\n",
    "\n",
    "**Answer:** 4\n",
    "\n",
    "The default axis in `np.sort()` function is -1, which corresponds to the last axis (the innermost dimension) of the array."
   ]
  },
  {
   "cell_type": "markdown",
   "id": "9673b46e",
   "metadata": {},
   "source": [
    "---"
   ]
  },
  {
   "attachments": {},
   "cell_type": "markdown",
   "id": "150263fc",
   "metadata": {},
   "source": [
    "**Question:**\n",
    "\n",
    "What is the difference between `np.sort()` function and `.sort()` method?\n",
    "\n",
    "1. `np.sort()` sorts the array in-place, while `.sort()` returns a sorted copy of the array.\n",
    "2. `np.sort()` returns a sorted copy of the array, while `.sort()` sorts the array in-place.\n",
    "3. `np.sort()` sorts the array in descending order, while `.sort()` sorts it in ascending order.\n",
    "4. There is no difference between them; they are two different names for the same functionality.\n",
    "\n",
    "**Answer:** 2\n",
    "\n",
    "The `np.sort()` function returns a sorted copy of the array without modifying the original array, while the `.sort()` method sorts the array in-place, modifying the original array directly."
   ]
  },
  {
   "cell_type": "markdown",
   "id": "4af1fade",
   "metadata": {},
   "source": [
    "---"
   ]
  },
  {
   "attachments": {},
   "cell_type": "markdown",
   "id": "aff9f138",
   "metadata": {},
   "source": [
    "**Question:**\n",
    "\n",
    "What happens when you use `np.sort(x, axis=0)` on the given 2D array `x`?\n",
    "\n",
    "1. The rows of the array are sorted in ascending order.\n",
    "2. The rows of the array are sorted in descending order.\n",
    "3. The columns of the array are sorted in ascending order.\n",
    "4. The columns of the array are sorted in descending order.\n",
    "\n",
    "**Answer:**  3\n",
    "\n",
    "When `np.sort(x, axis=0)` is used, the function sorts the columns of the array `x` in ascending order, while keeping the elements within each column intact. (row-wise sorting)"
   ]
  },
  {
   "cell_type": "markdown",
   "id": "7c77c055",
   "metadata": {},
   "source": [
    "---"
   ]
  },
  {
   "attachments": {},
   "cell_type": "markdown",
   "id": "d937c421",
   "metadata": {},
   "source": [
    "**Question:**\n",
    "\n",
    "What is the purpose of the `np.concatenate()` function in NumPy?\n",
    "\n",
    "1. To split an array into multiple smaller arrays.\n",
    "2. To create a copy of an array with the same elements.\n",
    "3. To reshape an array into a different size or shape.\n",
    "4. To join two or more arrays along a specified axis.\n",
    "\n",
    "**Answer:**  4\n",
    "\n",
    "The `np.concatenate()` function in NumPy is used to combine or join two or more arrays along a specified axis. It creates a new array that contains the concatenated elements of the input arrays.\n",
    "- The arrays must have the same shape, except in the dimension corresponding to axis.\n",
    "- If axis=None then the input arrays are flattened before concatenation."
   ]
  },
  {
   "cell_type": "markdown",
   "id": "c02dbae9",
   "metadata": {},
   "source": [
    "---"
   ]
  },
  {
   "attachments": {},
   "cell_type": "markdown",
   "id": "d4588adf",
   "metadata": {},
   "source": [
    "**Question:**\n",
    "\n",
    "What is the difference between `np.hstack()` and `np.vstack()` functions in NumPy?\n",
    "\n",
    "1. `np.hstack()` stacks arrays horizontally, while `np.vstack()` stacks arrays vertically.\n",
    "2. `np.hstack()` stacks arrays vertically, while `np.vstack()` stacks arrays horizontally.\n",
    "3. `np.hstack()` stacks arrays along the first axis, while `np.vstack()` stacks arrays along the second axis.\n",
    "4. `np.hstack()` and `np.vstack()` are two different names for the same functionality.\n",
    "\n",
    "**Answer:** 1\n",
    "\n",
    "The `np.hstack()` function in NumPy is used to stack arrays **horizontally**, which means combining them along the **second axis**. On the other hand, the `np.vstack()` function stacks arrays **vertically**, combining them along the **first axis**."
   ]
  },
  {
   "cell_type": "markdown",
   "id": "58753369",
   "metadata": {},
   "source": [
    "---"
   ]
  },
  {
   "attachments": {},
   "cell_type": "markdown",
   "id": "2e1793b0",
   "metadata": {},
   "source": [
    "**Question:**\n",
    "\n",
    "Which of the following are examples of **aggregating** functions in NumPy? (Select all that apply)\n",
    "\n",
    "1. `np.mean()`\n",
    "2. `np.shuffle()`\n",
    "3. `np.flatten()`\n",
    "4. `np.argmin()`\n",
    "5. `np.percentile()`\n",
    "6. `np.hstack()`\n",
    "7. `np.vstack()`\n",
    "8. `np.std()`\n",
    "\n",
    "**Answer:**  Options 1, 4, 5 and 8 are true.\n",
    "\n",
    "Aggregating functions are used to perform operations on arrays that aggregate the elements along one or more axes, resulting in a single value or a smaller array.\n",
    "\n",
    "Here are some of the aggregating functions in NumPy:\n",
    "\n",
    "- `np.sum()`\n",
    "- `np.mean()`\n",
    "- `np.min()`\n",
    "- `np.max()`\n",
    "- `np.prod()`\n",
    "- `np.std()`\n",
    "- `np.var()`\n",
    "- `np.argmin()`\n",
    "- `np.argmax()`\n",
    "- `np.median()`\n",
    "- `np.percentile()`\n",
    "- `np.quantile()`\n",
    "- `np.any()`\n",
    "- `np.all()`"
   ]
  },
  {
   "cell_type": "markdown",
   "id": "57149170",
   "metadata": {},
   "source": [
    "---"
   ]
  },
  {
   "attachments": {},
   "cell_type": "markdown",
   "id": "9a454f60",
   "metadata": {},
   "source": [
    "**Question:**\n",
    "\n",
    "What does `np.std()` compute?\n",
    "\n",
    "1. Mean absolute deviation\n",
    "2. Variance\n",
    "3. Median\n",
    "4. Standard deviation\n",
    "\n",
    "**Answer:**  4\n",
    "\n",
    "The `np.std()` function in NumPy calculates the **standard deviation** of an array, which measures the spread or dispersion of the data from the mean."
   ]
  },
  {
   "cell_type": "markdown",
   "id": "e54a559f",
   "metadata": {},
   "source": [
    "---"
   ]
  },
  {
   "attachments": {},
   "cell_type": "markdown",
   "id": "151a2fd8",
   "metadata": {},
   "source": [
    "**Question:**\n",
    "\n",
    "What does `np.argmin()` return?\n",
    "\n",
    "1. The minimum value in the array\n",
    "2. The maximum value in the array\n",
    "3. The index of the minimum value in the array\n",
    "4. The index of the maximum value in the array\n",
    "\n",
    "**Answer:** 3\n",
    "\n",
    "The `np.argmin()` function returns the **index** of the array's minimum value, not the minimum value itself."
   ]
  },
  {
   "cell_type": "markdown",
   "id": "9dd56630",
   "metadata": {},
   "source": [
    "---"
   ]
  },
  {
   "attachments": {},
   "cell_type": "markdown",
   "id": "5f721d44",
   "metadata": {},
   "source": [
    "**Question:**\n",
    "\n",
    "What is the purpose of the `np.median()` function?\n",
    "\n",
    "1. To compute the mean value of an array\n",
    "2. To calculate the median absolute deviation\n",
    "3. To find the index of the median value in an array\n",
    "4. To compute the median value of an array\n",
    "\n",
    "**Answer:**  4\n",
    "\n",
    "The `np.median()` function in NumPy is used to calculate the **median value** of an array, which represents the middle value when the data is sorted in ascending or descending order."
   ]
  },
  {
   "cell_type": "markdown",
   "id": "c1f1e914",
   "metadata": {},
   "source": [
    "---"
   ]
  }
 ],
 "metadata": {
  "kernelspec": {
   "display_name": "Python 3 (ipykernel)",
   "language": "python",
   "name": "python3"
  },
  "language_info": {
   "codemirror_mode": {
    "name": "ipython",
    "version": 3
   },
   "file_extension": ".py",
   "mimetype": "text/x-python",
   "name": "python",
   "nbconvert_exporter": "python",
   "pygments_lexer": "ipython3",
   "version": "3.10.12"
  }
 },
 "nbformat": 4,
 "nbformat_minor": 5
}
