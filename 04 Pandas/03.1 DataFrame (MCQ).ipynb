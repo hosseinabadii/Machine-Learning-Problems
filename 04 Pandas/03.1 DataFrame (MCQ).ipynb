{
 "cells": [
  {
   "cell_type": "markdown",
   "id": "8fb7f7de-5213-4c81-a20e-52184145ec9a",
   "metadata": {},
   "source": [
    "# DataFrame (MCQ)"
   ]
  },
  {
   "cell_type": "markdown",
   "id": "9f60e7cb-0ab8-46dc-bc7e-21bdc8d30108",
   "metadata": {},
   "source": [
    "---"
   ]
  },
  {
   "cell_type": "markdown",
   "id": "6803fa23",
   "metadata": {},
   "source": [
    "**Question:**\n",
    "\n",
    "What is the main difference between the `.insert()` and `.assign()` methods in pandas?\n",
    "\n",
    "1. `.assign()` modifies the DataFrame in-place, while `.insert()` returns a copy of the DataFrame with new columns.\n",
    "\n",
    "2. Both methods modify the DataFrame in-place, but `.insert()` allows inserting columns at specified locations unlike `.assign()`.\n",
    "\n",
    "3. Both methods return a copy of the DataFrame with new columns, but `.insert()` allows inserting columns at specified locations unlike `.assign()`.\n",
    "\n",
    "4. `.insert()` modifies the DataFrame in-place, while `.assign()` returns a copy of the DataFrame with new columns.\n",
    "\n",
    "\n",
    "**Answer:** 4\n",
    "\n",
    "The `.insert()` method inserts a new column into the DataFrame at a specified location and modifies the DataFrame directly, in-place. This means that the original DataFrame is changed.\n",
    "\n",
    "On the other hand, the `.assign()` method creates new columns that are potentially derived from existing columns, but it always returns a copy of the DataFrame with the new columns added. It does not modify the original DataFrame, allowing you to chain multiple operations together without affecting the original data."
   ]
  },
  {
   "cell_type": "markdown",
   "id": "dda502f2",
   "metadata": {},
   "source": [
    "---"
   ]
  },
  {
   "cell_type": "markdown",
   "id": "492bd0f0",
   "metadata": {},
   "source": [
    "**Question:**\n",
    "\n",
    "What are the basic ways to perform indexing in pandas?\n",
    "\n",
    "1. Using square brackets\n",
    "2. Using `loc`\n",
    "3. Using `iloc`\n",
    "4. All of the above\n",
    "\n",
    "**Answer:** 4\n",
    "\n",
    "The basic ways to perform indexing in pandas are:\n",
    "\n",
    "- Using `square brackets`: Square brackets can be used to select a single column or a subset of columns from a DataFrame.\n",
    "\n",
    "- Using `iloc`: The iloc indexer is used to select rows and columns by integer position. It allows you to access data based on its numerical index.\n",
    "\n",
    "- Using `loc`: The loc indexer is used to select rows and columns by label. It allows you to access data based on its label or index name.\n",
    "\n"
   ]
  },
  {
   "cell_type": "markdown",
   "id": "7f4a26f5",
   "metadata": {},
   "source": [
    "---"
   ]
  },
  {
   "cell_type": "markdown",
   "id": "7fb74fcc",
   "metadata": {},
   "source": [
    "**Question:**\n",
    "\n",
    "What does data alignment do automatically when you perform arithmetic operations on pandas DataFrame objects?\n",
    "\n",
    "1. It applies the arithmetic operation to all elements in the DataFrame.\n",
    "2. It aligns the DataFrame objects only based on their column labels.\n",
    "3. It aligns the DataFrame objects based on both their column and row labels.\n",
    "4. It aligns the DataFrame objects only based on their row labels.\n",
    "\n",
    "**Answer:** 3\n",
    "\n",
    "When performing arithmetic operations on pandas DataFrame objects, data alignment automatically aligns the objects based on both their **column** and **row** labels. This means that the operation is applied to elements that have matching labels, and any elements without matching labels are treated as missing `NaN` values.\n",
    "\n"
   ]
  },
  {
   "cell_type": "markdown",
   "id": "3a2d9715",
   "metadata": {},
   "source": [
    "---"
   ]
  },
  {
   "cell_type": "markdown",
   "id": "00d756cf",
   "metadata": {},
   "source": [
    "**Question:**\n",
    "\n",
    "Which parameter can be used to control the alignment when performing an operation between a DataFrame and a Series?\n",
    "\n",
    "1. `index`\n",
    "2. `axis`\n",
    "3. `columns`\n",
    "4. `align`\n",
    "\n",
    "**Answer:** 2\n",
    "\n",
    "The `axis` parameter controls the alignment when performing an operation between a DataFrame and a Series."
   ]
  },
  {
   "cell_type": "markdown",
   "id": "cf43657a",
   "metadata": {},
   "source": [
    "---"
   ]
  },
  {
   "cell_type": "markdown",
   "id": "fd6e7bfb",
   "metadata": {},
   "source": [
    "**Question:**\n",
    "\n",
    "What is the **default** behavior of Pandas when performing operations between a DataFrame and a Series?\n",
    "\n",
    "1. Align the Series index with the DataFrame columns, performing row-wise broadcasting (axis=1)\n",
    "1. Align the Series index with the DataFrame index, performing column-wise broadcasting (axis=0)\n",
    "1. Ignore the Series index and perform element-wise operations on the DataFrame and Series\n",
    "1. Raise an error, as operations between a DataFrame and a Series are not supported\n",
    "\n",
    "**Answer:** 1\n",
    "\n",
    "By default, when performing operations between a DataFrame and a Series, Pandas aligns the Series index with the DataFrame columns (axis=1). This means that the operation is broadcasted row-wise."
   ]
  },
  {
   "cell_type": "markdown",
   "id": "859de82f",
   "metadata": {},
   "source": [
    "---"
   ]
  },
  {
   "cell_type": "markdown",
   "id": "7e0099b1",
   "metadata": {},
   "source": [
    "**Question:**\n",
    "\n",
    "Which of the following statements is true regarding using universal functions in NumPy with a Pandas DataFrame or Series?\n",
    "\n",
    "1. Universal functions in NumPy cannot be applied directly to a Pandas DataFrame or Series.\n",
    "\n",
    "2. Pandas automatically converts NumPy universal functions into equivalent functions for DataFrame and Series objects.\n",
    "\n",
    "3. Universal functions in NumPy can be directly applied to a Pandas DataFrame, but not to a Series.\n",
    "\n",
    "4. Universal functions in NumPy can be directly applied to both Pandas DataFrame and Series objects.\n",
    "\n",
    "**Answer:** 4\n",
    "\n",
    "Pandas is built on top of NumPy, and it provides seamless integration with the NumPy library. Universal functions from NumPy can be directly applied to both Pandas DataFrames and Series, as Pandas supports the underlying mathematical operations and broadcasting behavior provided by NumPy. This allows for efficient and vectorized computations on Pandas data structures using universal functions."
   ]
  },
  {
   "cell_type": "markdown",
   "id": "04acd1f8",
   "metadata": {},
   "source": [
    "---"
   ]
  },
  {
   "cell_type": "markdown",
   "id": "27b19cdd",
   "metadata": {},
   "source": [
    "**Question:**\n",
    "\n",
    "In pandas, what is the primary use of the `pd.set_option()` function?\n",
    "\n",
    "1. Modifying the data type of a column\n",
    "2. Setting display options for pandas objects\n",
    "3. Sorting rows in a DataFrame\n",
    "4. Filtering rows based on a condition\n",
    "\n",
    "\n",
    "**Answer:** 2\n",
    "\n",
    "The `pd.set_option()` function in the pandas library is primarily used to set or modify the display options for pandas objects, such as DataFrames and Series. It allows you to customize how the data is presented or displayed when you print or view these objects in your Python code."
   ]
  },
  {
   "cell_type": "markdown",
   "id": "318c4848",
   "metadata": {},
   "source": [
    "---"
   ]
  },
  {
   "cell_type": "markdown",
   "id": "0322c0e6",
   "metadata": {},
   "source": [
    "**Question:**\n",
    "\n",
    "Which of the following codes is **NOT** correct for customizing the console display in pandas?\n",
    "\n",
    "1. `pd.set_option('display.max_columns', 10)`\n",
    "2. `pd.set_option('display.max_rows', 100)`\n",
    "3. `pd.set_option('display.line_width', 80)`\n",
    "4. `pd.set_option('display.width', 120)`\n",
    "\n",
    "**Answer:** 3\n",
    "\n",
    "`display.line_width` is not a valid option for customizing the console display in pandas.\n",
    "\n",
    "Some useful options are:\n",
    "- max_rows\n",
    "- max_columns\n",
    "- max_colwidth\n",
    "- precision\n",
    "- width\n",
    "\n",
    "To see all available options for console display, run the following code in your Python interpreter:\n",
    "```python\n",
    "print(dir(pd.options.display))\n",
    "```"
   ]
  },
  {
   "cell_type": "markdown",
   "id": "9b4c1442",
   "metadata": {},
   "source": [
    "---"
   ]
  },
  {
   "cell_type": "markdown",
   "id": "6cf6f5f8",
   "metadata": {},
   "source": [
    "**Question:**\n",
    "\n",
    "The column of a DataFrame can always be accessed like an attribute.\n",
    "\n",
    "1. True\n",
    "2. False\n",
    "\n",
    "**Answer:** 2\n",
    "\n",
    "If a DataFrame column label is a **valid Python variable** name, the column can be accessed like an attribute.\n"
   ]
  },
  {
   "cell_type": "markdown",
   "id": "dee300e2",
   "metadata": {},
   "source": [
    "---"
   ]
  },
  {
   "cell_type": "markdown",
   "id": "20e3f855",
   "metadata": {},
   "source": [
    "**Question:**\n",
    "\n",
    "Which of the following is **NOT** a universal function, so it cannot be used with a pandas DataFrame or Series?\n",
    "\n",
    "1. `np.sin()`\n",
    "2. `np.exp()`\n",
    "3. `np.concatenate()`\n",
    "4. `np.sqrt()`\n",
    "\n",
    "**Answer:** 3\n",
    "\n",
    "A universal function (ufunc) in NumPy is a function that operates **element-wise** on arrays, performing the same operation on each element independently. Option 3, `np.concatenate()` is not an ufunc in NumPy."
   ]
  },
  {
   "cell_type": "markdown",
   "id": "496ff34f",
   "metadata": {},
   "source": [
    "---"
   ]
  },
  {
   "cell_type": "markdown",
   "id": "3cf97a8c",
   "metadata": {},
   "source": [
    "**Question:**\n",
    "\n",
    "Which of the following methods can be used to **transpose** a Pandas DataFrame? (select all that apply)\n",
    "\n",
    "1. `.transpose()`\n",
    "2. `.tpose()`\n",
    "3. `.T()`\n",
    "4. `.t()`\n",
    "\n",
    "**Answer:** The correct options are 1 and 3\n",
    "\n",
    "To transpose a Pandas DataFrame, you can use either the `.transpose()` method or the `.T` attribute. Both methods perform the same operation, which is to swap the rows and columns of the DataFrame."
   ]
  },
  {
   "cell_type": "markdown",
   "id": "0fb508ab",
   "metadata": {},
   "source": [
    "---"
   ]
  }
 ],
 "metadata": {
  "kernelspec": {
   "display_name": "Python 3 (ipykernel)",
   "language": "python",
   "name": "python3"
  },
  "language_info": {
   "codemirror_mode": {
    "name": "ipython",
    "version": 3
   },
   "file_extension": ".py",
   "mimetype": "text/x-python",
   "name": "python",
   "nbconvert_exporter": "python",
   "pygments_lexer": "ipython3",
   "version": "3.10.12"
  }
 },
 "nbformat": 4,
 "nbformat_minor": 5
}
