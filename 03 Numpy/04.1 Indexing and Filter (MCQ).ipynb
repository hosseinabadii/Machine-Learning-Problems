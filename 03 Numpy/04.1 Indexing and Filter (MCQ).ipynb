{
 "cells": [
  {
   "attachments": {},
   "cell_type": "markdown",
   "id": "f378450a-615b-49b8-8be2-588e7213142c",
   "metadata": {
    "tags": []
   },
   "source": [
    "# Indexing and Filter (MCQ)"
   ]
  },
  {
   "cell_type": "markdown",
   "id": "cc7952cc-4808-4a5b-8914-2083e7b458e4",
   "metadata": {},
   "source": [
    "---"
   ]
  },
  {
   "attachments": {},
   "cell_type": "markdown",
   "id": "479df46c-98c9-471c-b4d8-cd1d3d56a743",
   "metadata": {},
   "source": [
    "**Question:**\n",
    "\n",
    "Accessing a single element or a group of elements in an array by specifying their index or indices in NumPy, it is referred to as:\n",
    "\n",
    "1. Indexing\n",
    "2. Slicing\n",
    "3. Advanced indexing\n",
    "4. Field access\n",
    "\n",
    "**Answer:**  1\n",
    "\n",
    "**Indexing** in NumPy involves accessing elements by specifying their indices using square brackets."
   ]
  },
  {
   "cell_type": "markdown",
   "id": "4d3404c3-a53e-4e18-aa34-5c8af78132ef",
   "metadata": {},
   "source": [
    "---"
   ]
  },
  {
   "attachments": {},
   "cell_type": "markdown",
   "id": "83da9ba8",
   "metadata": {},
   "source": [
    "**Question:**\n",
    "\n",
    "**Slicing** in NumPy refers to:\n",
    "\n",
    "1. Accessing a single element of an array\n",
    "2. Accessing a subset of elements in an array by specifying a range of indices using the colon `(:)` operator.\n",
    "3. Accessing a field within a structured array\n",
    "4. Accessing elements based on Boolean mask\n",
    "\n",
    "**Answer:**  2\n",
    "\n",
    "**Slicing** involves specifying a range of indices to access a subset of elements in an array using the colon `(:)` operator."
   ]
  },
  {
   "cell_type": "markdown",
   "id": "9096fc91",
   "metadata": {},
   "source": [
    "---"
   ]
  },
  {
   "attachments": {},
   "cell_type": "markdown",
   "id": "40092deb",
   "metadata": {},
   "source": [
    "**Question:**\n",
    "\n",
    "NumPy **basic slicing** creates a:\n",
    "\n",
    "1. Copy of the array\n",
    "2. New array with flattened dimensions\n",
    "3. Boolean mask\n",
    "4. View of the array\n",
    "\n",
    "**Answer:**  4\n",
    "\n",
    "**Basic slicing** in NumPy creates a **view** (not a copy) of the original array."
   ]
  },
  {
   "cell_type": "markdown",
   "id": "9960de6f",
   "metadata": {},
   "source": [
    "---"
   ]
  },
  {
   "attachments": {},
   "cell_type": "markdown",
   "id": "91bc0190",
   "metadata": {},
   "source": [
    "**Question:**\n",
    "\n",
    "What is the difference between `x[2]` and `x[0:2]` (`x` is a numpy ndarray)?\n",
    "\n",
    "1. Indexing `x[2]` returns the entire **column** with index 2 of the array, while slicing `x[0:2]` returns a specific subset of rows from index 0 to 1.\n",
    "\n",
    "2. Slicing `x[2]` returns the entire **column** with index 2 of the array, while indexing `x[0:2]` returns a specific subset of rows from index 0 to 1.\n",
    "\n",
    "3. Indexing `x[2]` returns the entire **row** with index 2 of the array, while slicing `x[0:2]` returns a specific subset of rows from index 0 to 1.\n",
    "\n",
    "4. Slicing `x[2]` returns the entire **row** with index 2 of the array, while indexing `x[0:2]` returns a specific subset of rows from index 0 to 1.\n",
    "\n",
    "\n",
    "**Answer:** 3\n",
    "\n",
    "Indexing `x[2]` returns the entire **row** with index 2 of the array, while slicing `x[0:2]` returns a specific subset of rows from index 0 to 1."
   ]
  },
  {
   "cell_type": "markdown",
   "id": "9712935a",
   "metadata": {},
   "source": [
    "---"
   ]
  },
  {
   "attachments": {},
   "cell_type": "markdown",
   "id": "be8d93d7",
   "metadata": {},
   "source": [
    "**Question:**\n",
    "\n",
    "NumPy **Boolean** array indexing always returns:\n",
    "\n",
    "1. A view of the data\n",
    "2. A copy of the data\n",
    "3. A flattened array\n",
    "4. A Boolean mask\n",
    "\n",
    "**Answer:** 2\n",
    "\n",
    "Boolean array indexing in NumPy always returns a **copy** of the data, unlike basic slicing which returns a view."
   ]
  },
  {
   "cell_type": "markdown",
   "id": "3a391bd0",
   "metadata": {},
   "source": [
    "---"
   ]
  },
  {
   "attachments": {},
   "cell_type": "markdown",
   "id": "8e6f4e00",
   "metadata": {},
   "source": [
    "**Question:**\n",
    "\n",
    "How many types of **advanced indexin**g are there in NumPy?\n",
    "\n",
    "1. One\n",
    "2. Two\n",
    "3. Three\n",
    "4. Four\n",
    "\n",
    "**Answer:** 2\n",
    "\n",
    "The two types of advanced indexing in NumPy are **integer array** indexing and **Boolean array** indexing."
   ]
  },
  {
   "cell_type": "markdown",
   "id": "93d1a7a4",
   "metadata": {},
   "source": [
    "---"
   ]
  },
  {
   "attachments": {},
   "cell_type": "markdown",
   "id": "56e701c6",
   "metadata": {},
   "source": [
    "**Question:**\n",
    "\n",
    "In NumPy, which operators can be used to combine Boolean arrays to create complex masks?\n",
    "\n",
    "1. `and, or, not`\n",
    "2. `+, -`\n",
    "3. `*, /`\n",
    "4. `&, |, ~`\n",
    "\n",
    "**Answer:** 4\n",
    "\n",
    "In NumPy, the binary operators `&`, `|` and `~` can be used to combine Boolean arrays **element-wise** to create complex masks."
   ]
  },
  {
   "cell_type": "markdown",
   "id": "86894b25",
   "metadata": {},
   "source": [
    "---"
   ]
  },
  {
   "attachments": {},
   "cell_type": "markdown",
   "id": "de996268",
   "metadata": {},
   "source": [
    "**Question:**\n",
    "\n",
    "Which of the following statements is **true**?\n",
    "\n",
    "1. Basic slicing always returns a **copy** of the array.\n",
    "2. Advanced indexing always returns a **view** of the array.\n",
    "3. Advanced indexing always returns a **copy** of the array.\n",
    "4. Both basic slicing and advanced indexing always return a **view** of the array.\n",
    "\n",
    "**Answer:**  3\n",
    "\n",
    "Advanced indexing always returns a copy of the data contrast with basic slicing that returns a view."
   ]
  },
  {
   "cell_type": "markdown",
   "id": "4f74aa61",
   "metadata": {},
   "source": [
    "---"
   ]
  },
  {
   "attachments": {},
   "cell_type": "markdown",
   "id": "cdf37c75",
   "metadata": {},
   "source": [
    "**Question:**\n",
    "\n",
    "Consider the following snippet code:\n",
    "```python\n",
    "x = np.array([[1, 2, 3], [4, 5, 6], [7, 8, 9]])\n",
    "print(x[[0, 2]])\n",
    "```\n",
    "Which of the following is the result of the above code?\n",
    "\n",
    "1.\n",
    "```python\n",
    "30\n",
    "```\n",
    "\n",
    "2.\n",
    "```python\n",
    "[[10 20 30]\n",
    " [40 50 60]\n",
    " [70 80 90]]\n",
    "```\n",
    "\n",
    "3.\n",
    "```python\n",
    "[[10 20 30]\n",
    " [40 50 60]]\n",
    "```\n",
    "\n",
    "4.\n",
    "```python\n",
    "[[10 20 30]\n",
    " [70 80 90]]\n",
    "```\n",
    "\n",
    "**Answer:** 4\n",
    "\n",
    "`x[[0, 2]]` is advanced indexing and returns a copy of row 0 and row 2 of array `x`:\n",
    "\n",
    "```python\n",
    "[[10 20 30]\n",
    " [70 80 90]]\n",
    " ```"
   ]
  },
  {
   "cell_type": "markdown",
   "id": "19826276",
   "metadata": {},
   "source": [
    "---"
   ]
  }
 ],
 "metadata": {
  "kernelspec": {
   "display_name": "Python 3 (ipykernel)",
   "language": "python",
   "name": "python3"
  },
  "language_info": {
   "codemirror_mode": {
    "name": "ipython",
    "version": 3
   },
   "file_extension": ".py",
   "mimetype": "text/x-python",
   "name": "python",
   "nbconvert_exporter": "python",
   "pygments_lexer": "ipython3",
   "version": "3.10.12"
  }
 },
 "nbformat": 4,
 "nbformat_minor": 5
}
