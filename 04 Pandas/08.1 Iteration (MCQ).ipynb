{
 "cells": [
  {
   "cell_type": "markdown",
   "id": "c67debf7-f0de-4fb4-9359-5465e97ab520",
   "metadata": {},
   "source": [
    "# Iteration (MCQ)"
   ]
  },
  {
   "cell_type": "markdown",
   "id": "dbc67696-25a9-46d9-b179-fbef0683c6b5",
   "metadata": {},
   "source": [
    "---"
   ]
  },
  {
   "cell_type": "markdown",
   "id": "2f3a0b0b",
   "metadata": {},
   "source": [
    "**Question:**\n",
    "\n",
    "What does basic iteration (`for i in object`) produce when iterating over Series and DataFrames in pandas?\n",
    "\n",
    "1. Series: column labels, DataFrame: values\n",
    "2. Series: index labels, DataFrame: values\n",
    "3. Series: values, DataFrame: row labels\n",
    "4. Series: values, DataFrame: column labels\n",
    "\n",
    "**Answer:** 4\n",
    "\n",
    "When iterating over a Series in pandas, it is regarded as **array-like**, and basic iteration produces the **values** of the Series.\n",
    "\n",
    "On the other hand, when iterating over a DataFrame, pandas follows the **dict-like** convention. Basic iteration over a DataFrame produces the \"keys\" of the objects, which in the case of a DataFrame are the **column labels**.\n"
   ]
  },
  {
   "cell_type": "markdown",
   "id": "3a70695d",
   "metadata": {},
   "source": [
    "---"
   ]
  },
  {
   "cell_type": "markdown",
   "id": "d56f2c87",
   "metadata": {},
   "source": [
    "**Question:**\n",
    "\n",
    "When iterating through pandas objects like DataFrames and Series, which approach is recommended to avoid manual iteration over rows or columns and improve performance? (select all that apply)\n",
    "\n",
    "1. Look for a vectorized solution: many operations can be performed using built-in methods or NumPy functions, (boolean) indexing, …\n",
    "\n",
    "2. Manual iteration over rows or columns always provide the best performance.\n",
    "\n",
    "3. When you have a function that cannot work on the full DataFrame/Series at once, it is better to use `apply()` instead of iterating over the values.\n",
    "\n",
    "4. Utilize nested loops for row iteration\n",
    "\n",
    "**Answer:** The options 1 and 3 are true.\n",
    "\n",
    "Using **vectorized** operations can significantly improve performance as they are optimized for efficient computation. They operate on the entire dataset rather than iterating element by element, resulting in faster execution.\n",
    "\n",
    "When you have a function that cannot work on the full DataFrame/Series at once, it is better to use `apply()` instead of iterating over the values."
   ]
  },
  {
   "cell_type": "markdown",
   "id": "b7309594",
   "metadata": {},
   "source": [
    "---"
   ]
  },
  {
   "cell_type": "markdown",
   "id": "15fc53ab",
   "metadata": {},
   "source": [
    "**Question:**\n",
    "\n",
    "What does the method `df.items()` return when applied to a pandas DataFrame?\n",
    "\n",
    "1. It returns an iterator of column names and corresponding columns.\n",
    "2. It returns an iterator of row indices and corresponding rows.\n",
    "3. It returns an iterator of column names and corresponding row indices.\n",
    "4. It returns an iterator of row indices and corresponding cell values.\n",
    "\n",
    "**Answer:** 1\n",
    "\n",
    "The `df.items()` method in pandas returns an iterator over the column names and corresponding columns of a DataFrame. It allows you to loop over the columns of a DataFrame easily and perform operations on each column individually.\n",
    "\n"
   ]
  },
  {
   "cell_type": "markdown",
   "id": "8e9d75f2",
   "metadata": {},
   "source": [
    "---"
   ]
  },
  {
   "cell_type": "markdown",
   "id": "cb06c1f8",
   "metadata": {},
   "source": [
    "**Question:**\n",
    "\n",
    "How can you use `df.items()` to iterate over columns in a pandas DataFrame?\n",
    "\n",
    "1. By using a while loop and accessing the values using column indices.\n",
    "2. By using a while loop and accessing the values using row indices.\n",
    "3. By using a for loop and unpacking the column name and column values.\n",
    "4. By using a for loop and unpacking the column name and row index.\n",
    "\n",
    "**Answer:** 3\n",
    "\n",
    "To iterate over columns in a pandas DataFrame using `df.items()`, you can use a for loop and unpack the column name and column values.\n"
   ]
  },
  {
   "cell_type": "markdown",
   "id": "a1799927",
   "metadata": {},
   "source": [
    "---"
   ]
  },
  {
   "cell_type": "markdown",
   "id": "e143ce09",
   "metadata": {},
   "source": [
    "**Question:**\n",
    "\n",
    "What is the main use of `df.items()` in pandas?\n",
    "\n",
    "1. To access specific row indices and their corresponding row values.\n",
    "2. To modify the DataFrame structure by adding or removing rows.\n",
    "3. To access specific column indices and their corresponding column values.\n",
    "4. To iterate over columns for performing column-wise calculations or transformations.\n",
    "\n",
    "**Answer:** 4\n",
    "\n",
    "The primary use of `df.items()` in pandas is to iterate over the columns of a DataFrame. This allows you to perform column-wise calculations, transformations, or any other operations on each column individually.\n"
   ]
  },
  {
   "cell_type": "markdown",
   "id": "6e3e142b",
   "metadata": {},
   "source": [
    "---"
   ]
  },
  {
   "cell_type": "markdown",
   "id": "4c66227b",
   "metadata": {},
   "source": [
    "**Question:**\n",
    "\n",
    "What does the method `df.iterrows()` return when applied to a pandas DataFrame?\n",
    "\n",
    "1. It returns an iterator of column names and corresponding columns.\n",
    "2. It returns an iterator of row indices and corresponding rows.\n",
    "3. It returns an iterator of row indices and corresponding column names.\n",
    "4. It returns an iterator of column names and corresponding cell values.\n",
    "\n",
    "**Answer:** 2\n",
    "\n",
    "The `df.iterrows()` method in pandas returns an iterator yielding index and row data for each row in the DataFrame. It allows you to loop over the rows of a DataFrame easily and perform operations on each row individually.\n"
   ]
  },
  {
   "cell_type": "markdown",
   "id": "eec4f471",
   "metadata": {},
   "source": [
    "---"
   ]
  },
  {
   "cell_type": "markdown",
   "id": "38eec9da",
   "metadata": {},
   "source": [
    "**Question:**\n",
    "\n",
    "How can you use `df.iterrows()` to access rows in a pandas DataFrame?\n",
    "\n",
    "1. By using a for loop and unpacking the row index and column names.\n",
    "2. By using a for loop and unpacking the row index and row values.\n",
    "3. By using a while loop and accessing the values using column indices.\n",
    "4. By using a while loop and accessing the values using row indices.\n",
    "\n",
    "**Answer:** 2\n",
    "\n",
    "To access rows in a pandas DataFrame using `df.iterrows()`, you can use a for loop and unpack the row index and row values.\n"
   ]
  },
  {
   "cell_type": "markdown",
   "id": "9d58650a",
   "metadata": {},
   "source": [
    "---"
   ]
  },
  {
   "cell_type": "markdown",
   "id": "3abd55e6",
   "metadata": {},
   "source": [
    "**Question:**\n",
    "\n",
    "What is the main use of `df.iterrows()` in pandas?\n",
    "\n",
    "1. To iterate over columns for performing column-wise calculations or transformations.\n",
    "2. To access specific column indices and their corresponding column values.\n",
    "3. To modify the DataFrame structure by adding or removing columns.\n",
    "4. To iterate over rows for performing row-wise calculations or transformations.\n",
    "\n",
    "**Answer:** 4\n",
    "\n",
    "The primary use of `df.iterrows()` in pandas is to iterate over the rows of a DataFrame. This allows you to perform row-wise calculations, transformations, or any other operations on each row individually.\n"
   ]
  },
  {
   "cell_type": "markdown",
   "id": "df48f61d",
   "metadata": {},
   "source": [
    "---"
   ]
  },
  {
   "cell_type": "markdown",
   "id": "05d0e705",
   "metadata": {},
   "source": [
    "**Question:**\n",
    "\n",
    "What does the method `df.itertuples()` return when applied to a pandas DataFrame?\n",
    "\n",
    "1. It returns a tuple containing the index and values of each column.\n",
    "2. It returns a named tuple containing the column names and values of each row.\n",
    "3. It returns a tuple containing the column names and values of each column.\n",
    "4. It returns a named tuple containing the index and values of each row.\n",
    "\n",
    "**Answer:** 4\n",
    "\n",
    "The `df.itertuples()` method in pandas returns an iterator yielding named tuples for each row in the DataFrame. Each named tuple contains the row index along with the corresponding row values. It provides a convenient way to iterate over rows and access both the index and values together.\n"
   ]
  },
  {
   "cell_type": "markdown",
   "id": "2971aee2",
   "metadata": {},
   "source": [
    "---"
   ]
  },
  {
   "cell_type": "markdown",
   "id": "673ec045",
   "metadata": {},
   "source": [
    "**Question:**\n",
    "\n",
    "What is the main difference between the `df.iterrows()` and `df.itertuples()` methods in pandas?\n",
    "\n",
    "1. `df.iterrows()` returns named tuples while `df.itertuples()` returns regular tuples.\n",
    "\n",
    "2. `df.iterrows()` provides row-wise access to both index and values while `df.itertuples()` provides column-wise access to values.\n",
    "\n",
    "3. `df.iterrows()` iterates over rows as (index, Series) pairs while `df.itertuples()` iterates over rows as named tuples.\n",
    "\n",
    "4. There is no difference between `df.iterrows()` and `df.itertuples()`.\n",
    "\n",
    "**Answer:** 3\n",
    "\n",
    "Explanation:\n",
    "The main difference between `df.iterrows()` and `df.itertuples()` lies in the way they provide access to rows of a pandas DataFrame.\n",
    "\n",
    "`df.iterrows()` method iterates over the DataFrame's rows as (index, Series) pairs. In each iteration, it returns the row index and a pandas Series object containing the row values.\n",
    "\n",
    "`df.itertuples()` method iterates over the DataFrame's rows as named tuples. Each named tuple contains the row index along with the corresponding row values. It provides a more memory-efficient way to iterate over rows since it returns regular tuples rather than Series objects, making it faster in most cases."
   ]
  },
  {
   "cell_type": "markdown",
   "id": "f5bf7ccc",
   "metadata": {},
   "source": [
    "---"
   ]
  },
  {
   "cell_type": "markdown",
   "id": "e8a3fc40",
   "metadata": {},
   "source": [
    "**Question:**\n",
    "\n",
    "What is the main difference between the `df.iterrows()` and `df.items()` methods in pandas? (select all that apply)\n",
    "\n",
    "1. `df.iterrows()` iterates over rows of a DataFrame, while `df.items()` iterates over columns of a DataFrame.\n",
    "\n",
    "2. `df.iterrows()` returns (index, row Series) pairs, while `df.items()` returns (column name, column Series) pairs.\n",
    "\n",
    "3. `df.iterrows()` provides access to column names and values, while `df.items()` provides access to row indices and values.\n",
    "\n",
    "4. There is no difference between `df.iterrows()` and `df.items()`.\n",
    "\n",
    "**Answer:** The options 1 and 2 are true.\n",
    "\n",
    "`df.iterrows()` method iterates over the rows of a DataFrame. In each iteration, it returns a tuple containing the row index and a pandas Series object containing the values of that row. Therefore, it provides access to row indices and row values.\n",
    "\n",
    "`df.items()` method iterates over the columns of a DataFrame. In each iteration, it returns a tuple containing the column name and a pandas Series object containing the values of that column. This allows for access to column names and column values.\n"
   ]
  },
  {
   "cell_type": "markdown",
   "id": "b3ff56e1",
   "metadata": {},
   "source": [
    "---"
   ]
  },
  {
   "cell_type": "markdown",
   "id": "6e8cbb4e",
   "metadata": {},
   "source": [
    "**Question:**\n",
    "\n",
    "Which of the following statements is true regarding the `iterrows()` method in pandas?\n",
    "\n",
    "1. `iterrows()` returns a DataFrame for each row and preserves dtypes across the rows.\n",
    "2. `iterrows()` returns a NumPy array for each row, preserving dtypes across the rows.\n",
    "3. `iterrows()` returns a Series for each row, but it does not preserve dtypes across the rows.\n",
    "4. `iterrows()` returns a list for each row, preserving dtypes across the rows.\n",
    "\n",
    "**Answer:** 3\n",
    "\n",
    "The `iterrows()` method in pandas is used to iterate over the rows of a DataFrame. However, it does not preserve dtypes across the rows. In each iteration, `iterrows()` returns a tuple containing the index of the row and a pandas Series object representing that row.\n",
    "\n",
    "The Series object returned by `iterrows()` converts all values to Python objects, which may result in the loss of specific data types.\n"
   ]
  },
  {
   "cell_type": "markdown",
   "id": "e54b470d",
   "metadata": {},
   "source": [
    "---"
   ]
  }
 ],
 "metadata": {
  "kernelspec": {
   "display_name": "Python 3 (ipykernel)",
   "language": "python",
   "name": "python3"
  },
  "language_info": {
   "codemirror_mode": {
    "name": "ipython",
    "version": 3
   },
   "file_extension": ".py",
   "mimetype": "text/x-python",
   "name": "python",
   "nbconvert_exporter": "python",
   "pygments_lexer": "ipython3",
   "version": "3.10.12"
  }
 },
 "nbformat": 4,
 "nbformat_minor": 5
}
