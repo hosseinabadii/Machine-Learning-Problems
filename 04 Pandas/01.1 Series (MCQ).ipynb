{
 "cells": [
  {
   "attachments": {},
   "cell_type": "markdown",
   "id": "9585c6c5-08c6-4791-b876-168befa52ce4",
   "metadata": {},
   "source": [
    "# Series (MCQ)"
   ]
  },
  {
   "cell_type": "markdown",
   "id": "34d72e81-6ddf-471d-9c38-14f3e443626e",
   "metadata": {},
   "source": [
    "---"
   ]
  },
  {
   "attachments": {},
   "cell_type": "markdown",
   "id": "571b298f",
   "metadata": {},
   "source": [
    "**Question:**\n",
    "Which of the following is used to create a **Pandas Series**?\n",
    "\n",
    "1. `pd.DataFrame()`\n",
    "2. `pd.Series()`\n",
    "3. `pd.array()`\n",
    "4. `pd.Index()`\n",
    "\n",
    "**Answer:** 2\n",
    "\n",
    "The `pd.Series()` is used to create a Pandas Series object. It takes the data and an optional index as parameters to create the Series."
   ]
  },
  {
   "cell_type": "markdown",
   "id": "903fbe11",
   "metadata": {},
   "source": [
    "---"
   ]
  },
  {
   "attachments": {},
   "cell_type": "markdown",
   "id": "486007c1",
   "metadata": {},
   "source": [
    "**Question:**\n",
    "\n",
    "What are the possible data types that can be stored in a Pandas Series?\n",
    "\n",
    "1. Only integers\n",
    "2. Only floating-point numbers\n",
    "3. Only strings\n",
    "4. Any data type\n",
    "\n",
    "**Answer:** 4\n",
    "\n",
    "A Pandas Series can hold **any data type**, including integers, floating-point numbers, strings, Python objects, etc."
   ]
  },
  {
   "cell_type": "markdown",
   "id": "234d6ef3",
   "metadata": {},
   "source": [
    "---"
   ]
  },
  {
   "attachments": {},
   "cell_type": "markdown",
   "id": "20419625",
   "metadata": {},
   "source": [
    "**Question:**\n",
    "\n",
    "How can you get the actual underlying NumPy array from a Pandas Series named `s`?\n",
    "\n",
    "1. `s.get_array()`\n",
    "2. `s.to_list()`\n",
    "3. `s.data`\n",
    "4. `s.to_numpy()`\n",
    "\n",
    "**Answer:** 4\n",
    "\n",
    "The `s.to_numpy()` method is used to retrieve the actual underlying NumPy array from a Pandas Series. It returns a NumPy ndarray object containing the data of the Series."
   ]
  },
  {
   "cell_type": "markdown",
   "id": "669770a4",
   "metadata": {},
   "source": [
    "---"
   ]
  },
  {
   "attachments": {},
   "cell_type": "markdown",
   "id": "c64cc7f8",
   "metadata": {},
   "source": [
    "**Question:**\n",
    "\n",
    "From which of the following data types can you create a Pandas Series? (select all that apply)\n",
    "\n",
    "1. Python dictionary\n",
    "2. Python set\n",
    "3. NumPy ndarray\n",
    "4. Scalar value\n",
    "5. Python list\n",
    "\n",
    "**Answer:**  The correct options are 1, 3, 4, and 5.\n",
    "\n",
    "You can create a Pandas Series from the following data types:\n",
    "\n",
    "- Python dictionary\n",
    "- Python list\n",
    "- NumPy ndarray\n",
    "- Scalar value"
   ]
  },
  {
   "cell_type": "markdown",
   "id": "c9ea5d51",
   "metadata": {},
   "source": [
    "---"
   ]
  },
  {
   "attachments": {},
   "cell_type": "markdown",
   "id": "eae876ea",
   "metadata": {},
   "source": [
    "**Question:**\n",
    "\n",
    "What does it mean when we say that a Pandas Series is **ndarray-like**?\n",
    "\n",
    "1. A Pandas Series is an exact replica of a NumPy ndarray, with no additional functionality.\n",
    "\n",
    "2. A Pandas Series behaves similarly to a NumPy ndarray, but with additional features and methods specific to Series objects.\n",
    "\n",
    "3. A Pandas Series is a subclass of a NumPy ndarray, inheriting all its properties and methods.\n",
    "\n",
    "4. A Pandas Series is a Python list that has been transformed into a NumPy ndarray for performance optimization.\n",
    "\n",
    "**Answer:** 2\n",
    "\n",
    "A Pandas Series behaves similarly to a NumPy ndarray, but with additional features and methods specific to Series objects."
   ]
  },
  {
   "cell_type": "markdown",
   "id": "374282d0",
   "metadata": {},
   "source": [
    "---"
   ]
  },
  {
   "attachments": {},
   "cell_type": "markdown",
   "id": "27758ec8",
   "metadata": {},
   "source": [
    "**Question:**\n",
    "\n",
    "What does it mean when we say that a Pandas Series is **dict-like**?\n",
    "\n",
    "1. A Pandas Series is an exact replica of a Python dictionary, with the same structure and functionality.\n",
    "\n",
    "2. A Pandas Series is a subclass of a Python dictionary, inheriting all its properties and methods.\n",
    "\n",
    "3. A Pandas Series is a Python dictionary that has been converted into a specialized Series object for improved performance.\n",
    "\n",
    "4. A Pandas Series behaves similarly to a Python dictionary, allowing you to access and modify values using index labels.\n",
    "\n",
    "**Answer:** 4\n",
    "\n",
    "A Pandas Series behaves similarly to a Python dictionary, allowing you to access and modify values using index labels."
   ]
  },
  {
   "cell_type": "markdown",
   "id": "700ae44d",
   "metadata": {},
   "source": [
    "---"
   ]
  },
  {
   "attachments": {},
   "cell_type": "markdown",
   "id": "510633ce",
   "metadata": {},
   "source": [
    "**Question:**\n",
    "\n",
    "What will happen when you create a Pandas Series with a **Python dictionary**?\n",
    "\n",
    "1. The dictionary keys will become the index labels of the Series and the values will become the corresponding elements.\n",
    "\n",
    "2. The dictionary will be converted into a DataFrame instead of a Series.\n",
    "\n",
    "3. An error will occur because Pandas does not support creating a Series from a dictionary.\n",
    "\n",
    "4. The dictionary will be transformed into a Series, but the index labels will be randomly assigned.\n",
    "\n",
    "**Answer:**  1\n",
    "\n",
    "The dictionary keys will become the index labels of the Series and the values will become the corresponding elements.\n",
    "\n",
    "\n",
    "\n"
   ]
  },
  {
   "cell_type": "markdown",
   "id": "86392d22",
   "metadata": {},
   "source": [
    "---"
   ]
  },
  {
   "attachments": {},
   "cell_type": "markdown",
   "id": "3652ee1f",
   "metadata": {},
   "source": [
    "**Question:**\n",
    "\n",
    "What is a key difference between **Pandas Series** and **NumPy ndarray**?\n",
    "\n",
    "1. Series allows for automatic data alignment based on **values**, while ndarray requires explicit data alignment.\n",
    "\n",
    "2. Series and ndarray have the same behavior regarding data alignment based on **values**.\n",
    "\n",
    "3. Series allows for automatic data alignment based on **index**, while ndarray requires explicit data alignment.\n",
    "\n",
    "4. Series and ndarray both require explicit data alignment based on **index**.\n",
    "\n",
    "**Answer:** 3\n",
    "\n",
    "Pandas Series automatically aligns the data based on **index** labels, while ndarray requires explicit data alignment. This means that when performing operations on Series, you don't need to consider whether the Series have the same labels. The data alignment feature of Series allows for greater flexibility and convenience in interactive data analysis."
   ]
  },
  {
   "cell_type": "markdown",
   "id": "124cdb91",
   "metadata": {},
   "source": [
    "---"
   ]
  },
  {
   "attachments": {},
   "cell_type": "markdown",
   "id": "8f4aed8b",
   "metadata": {},
   "source": [
    "**Question:**\n",
    "\n",
    "What happens when performing an operation between **unaligned Series** in Pandas?\n",
    "\n",
    "1. The operation will raise an error due to unaligned data.\n",
    "\n",
    "2. The operation will result in missing values (NaN) for index labels that are not found in both Series.\n",
    "\n",
    "3. The operation will randomly assign new index labels to unaligned data.\n",
    "\n",
    "4. The operation will automatically drop the values for index labels that are not found in both Series.\n",
    "\n",
    "**Answer:**  2\n",
    "\n",
    "When performing operations between unaligned Series in Pandas, the resulting Series will have the union of the indexes involved. Any index labels that are not found in both Series will be marked as missing values (NaN). This behavior ensures consistent handling of data alignment in Pandas operations."
   ]
  },
  {
   "cell_type": "markdown",
   "id": "36d321a2",
   "metadata": {},
   "source": [
    "---"
   ]
  },
  {
   "attachments": {},
   "cell_type": "markdown",
   "id": "86629f4e",
   "metadata": {},
   "source": [
    "**Question:**\n",
    "\n",
    "Consider the following code:\n",
    "\n",
    "```python\n",
    "s = pd.Series([10, 20, 30], name=\"books\")\n",
    "s.rename(\"cars\")\n",
    "print(s.name)\n",
    "# output:\n",
    "# books\n",
    "```\n",
    "\n",
    "Why does the name of the pandas series **NOT** change in the output? (select all that apply)\n",
    "\n",
    "1. By default the `rename()` method does not modify the series in-place; it returns a new series with the updated name.\n",
    "\n",
    "2. The `rename()` method works only with index labels and not with the name property of a series.\n",
    "\n",
    "3. The `rename()` method requires the `inplace=True` argument to modify the series name.\n",
    "\n",
    "4. The name property of a series is read-only and cannot be modified directly.\n",
    "\n",
    "**Answer:** The correct options are 1 and 3.\n",
    "\n",
    "By default the `rename()` method does not modify the series in-place; instead, it returns a new series with the updated name. Since the code does not assign the returned series back to `s`, the original series `s` with the name 'books' remains unchanged. You can also use `inplace=True` argument to modify the series name in-place."
   ]
  },
  {
   "cell_type": "markdown",
   "id": "0c59939c",
   "metadata": {},
   "source": [
    "---"
   ]
  }
 ],
 "metadata": {
  "kernelspec": {
   "display_name": "Python 3 (ipykernel)",
   "language": "python",
   "name": "python3"
  },
  "language_info": {
   "codemirror_mode": {
    "name": "ipython",
    "version": 3
   },
   "file_extension": ".py",
   "mimetype": "text/x-python",
   "name": "python",
   "nbconvert_exporter": "python",
   "pygments_lexer": "ipython3",
   "version": "3.10.12"
  }
 },
 "nbformat": 4,
 "nbformat_minor": 5
}
