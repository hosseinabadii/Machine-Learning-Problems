{
 "cells": [
  {
   "attachments": {},
   "cell_type": "markdown",
   "id": "81f17e7b-cb36-4b01-94ba-858451312081",
   "metadata": {
    "tags": []
   },
   "source": [
    "# File I/O and NumPy (MCQ)"
   ]
  },
  {
   "cell_type": "markdown",
   "id": "7b36a5df-d6e7-4f4e-a32e-ebaf2b098889",
   "metadata": {},
   "source": [
    "---"
   ]
  },
  {
   "attachments": {},
   "cell_type": "markdown",
   "id": "6dd7ec62",
   "metadata": {},
   "source": [
    "**Question:**\n",
    "\n",
    "Which function is used to save a NumPy array to a **text or CSV** file?\n",
    "\n",
    "1. `numpy.loadtxt()`\n",
    "2. `numpy.genfromtxt()`\n",
    "3. `numpy.savez()`\n",
    "4. `numpy.savetxt()`\n",
    "\n",
    "**Answer:** 4\n",
    "\n",
    "The `numpy.savetxt()` function is used to save a NumPy array to a text or CSV file."
   ]
  },
  {
   "cell_type": "markdown",
   "id": "734c8eaa",
   "metadata": {},
   "source": [
    "---"
   ]
  },
  {
   "attachments": {},
   "cell_type": "markdown",
   "id": "e07f0209",
   "metadata": {},
   "source": [
    "**Question:**\n",
    "\n",
    "What does the `fmt` argument in `numpy.savetxt()` specify?\n",
    "\n",
    "1. The file name\n",
    "2. The delimiter in the file\n",
    "3. The format of the values in the file\n",
    "4. The names of the fields in the record array\n",
    "\n",
    "**Answer:** 3\n",
    "\n",
    "The `fmt` argument in `numpy.savetxt()` specifies the format of the values in the file."
   ]
  },
  {
   "cell_type": "markdown",
   "id": "0ca2a0be",
   "metadata": {},
   "source": [
    "---"
   ]
  },
  {
   "attachments": {},
   "cell_type": "markdown",
   "id": "3c126385",
   "metadata": {},
   "source": [
    "**Question:**\n",
    "\n",
    "Which function is used to read a text or CSV file into a NumPy array?\n",
    "\n",
    "1. `numpy.save()`\n",
    "2. `numpy.genfromtxt()`\n",
    "3. `numpy.loadtxt()`\n",
    "4. `numpy.fromfile()`\n",
    "\n",
    "\n",
    "**Answer:** 2\n",
    "\n",
    "The `numpy.genfromtxt()` function is used to read a text or CSV file into a NumPy array."
   ]
  },
  {
   "cell_type": "markdown",
   "id": "d5e65fa1",
   "metadata": {},
   "source": [
    "---"
   ]
  },
  {
   "attachments": {},
   "cell_type": "markdown",
   "id": "a279ecb9",
   "metadata": {},
   "source": [
    "**Question:**\n",
    "\n",
    "Which file format is used by NumPy to store a **single** array in a binary file?\n",
    "\n",
    "1. `.txt`\n",
    "2. `.npy`\n",
    "3. `.npz`\n",
    "4. `.csv`\n",
    "\n",
    "**Answer:** 2\n",
    "\n",
    "The `.npy` file format is used by NumPy to store a single array. It is a binary file format specifically designed for efficiently storing and retrieving NumPy arrays. It preserves the array's metadata, including shape, data type, and other attributes, making it easy to load and work with the array."
   ]
  },
  {
   "cell_type": "markdown",
   "id": "4fa03258",
   "metadata": {},
   "source": [
    "---"
   ]
  },
  {
   "attachments": {},
   "cell_type": "markdown",
   "id": "a292c94e",
   "metadata": {},
   "source": [
    "**Question:**\n",
    "\n",
    "Which function is used to **save** an array as a **NumPy binary** file?\n",
    "\n",
    "1. `numpy.write()`\n",
    "2. `numpy.store()`\n",
    "3. `numpy.save()`\n",
    "4. `numpy.binary()`\n",
    "\n",
    "**Answer:** 3\n",
    "\n",
    "The `numpy.save()` function is used to save an array as a NumPy binary file."
   ]
  },
  {
   "cell_type": "markdown",
   "id": "96d06575",
   "metadata": {},
   "source": [
    "---"
   ]
  },
  {
   "attachments": {},
   "cell_type": "markdown",
   "id": "4af57aa3",
   "metadata": {},
   "source": [
    "**Question:**\n",
    "\n",
    "Which function is used to **load a NumPy binary** file?\n",
    "\n",
    "1. `numpy.read()`\n",
    "2. `numpy.load()`\n",
    "3. `numpy.retrieve()`\n",
    "4. `numpy.binary()`\n",
    "\n",
    "**Answer:** 2\n",
    "\n",
    "The `numpy.load()` function is used to load a NumPy binary file."
   ]
  },
  {
   "cell_type": "markdown",
   "id": "1db76026",
   "metadata": {},
   "source": [
    "---"
   ]
  },
  {
   "cell_type": "markdown",
   "id": "643d720d",
   "metadata": {},
   "source": [
    "**Question:**\n",
    "\n",
    "What is the output of the `np.load()` function when you open a `.npy` file?\n",
    "\n",
    "1. A plain Python list containing the data.\n",
    "2. A NumPy ndarray object containing the data.\n",
    "3. A `NpzFile` object containing the data.\n",
    "4. A `NpyFile` object containing the data.\n",
    "\n",
    "**Answer:** 2\n",
    "\n",
    "When you open a `.npy` file using `np.load()`, the output is a **NumPy ndarray** object. This object preserves the original shape, data type, and dimensionality of the array that was saved in the `.npy` file."
   ]
  },
  {
   "cell_type": "markdown",
   "id": "9ce2fdb1",
   "metadata": {},
   "source": [
    "---"
   ]
  },
  {
   "attachments": {},
   "cell_type": "markdown",
   "id": "94b0345d",
   "metadata": {},
   "source": [
    "**Question:**\n",
    "\n",
    "Which file format is used by NumPy to store **several** arrays in a binary file?\n",
    "\n",
    "1. `.npz`\n",
    "2. `.txt`\n",
    "3. `.csv`\n",
    "4. `.npy`\n",
    "\n",
    "**Answer:** 1\n",
    "\n",
    "The `.npz` file format is used by NumPy to store several arrays. It is a compressed archive format that can store multiple NumPy arrays along with their associated metadata. This format is useful when you want to save and load multiple arrays together."
   ]
  },
  {
   "cell_type": "markdown",
   "id": "18d4b3a3",
   "metadata": {},
   "source": [
    "---"
   ]
  },
  {
   "attachments": {},
   "cell_type": "markdown",
   "id": "8ca6d187",
   "metadata": {},
   "source": [
    "**Question:**\n",
    "\n",
    "Which function is used to save **several** arrays into a single file?\n",
    "\n",
    "1. `numpy.savez()`\n",
    "2. `numpy.save_several()`\n",
    "3. `numpy.storez()`\n",
    "4. `numpy.compress()`\n",
    "\n",
    "**Answer:** 1\n",
    "\n",
    "The `numpy.savez()` function is used to save several arrays into a single file."
   ]
  },
  {
   "cell_type": "markdown",
   "id": "550929ea",
   "metadata": {},
   "source": [
    "---"
   ]
  },
  {
   "cell_type": "markdown",
   "id": "058c4b95",
   "metadata": {},
   "source": [
    "**Question:**\n",
    "\n",
    "What is an `NpzFile` object in NumPy?\n",
    "\n",
    "1. A file format for storing compressed numerical data.\n",
    "2. A data structure representing a NumPy array.\n",
    "3. A dictionary-like object that contains arrays saved in `.npz` format.\n",
    "4. An algorithm for numerical computation.\n",
    "\n",
    "**Answer:** 3\n",
    "\n",
    "In NumPy, an `NpzFile` object is a dictionary-like object that represents arrays stored in the `.npz` format. `.npz` files are a common file format used in NumPy to store multiple arrays in a single file."
   ]
  },
  {
   "cell_type": "markdown",
   "id": "e3907428",
   "metadata": {},
   "source": [
    "---"
   ]
  },
  {
   "cell_type": "markdown",
   "id": "89a5220a",
   "metadata": {},
   "source": [
    "**Question:**\n",
    "\n",
    "What attribute can be used to get the list of arrays stored in an `NpzFile` object?\n",
    "\n",
    "1. `.files`\n",
    "2. `.lists`\n",
    "3. `.values`\n",
    "4. `.items`\n",
    "\n",
    "**Answer:**  1\n",
    "\n",
    "When opening a saved `.npz` file using the `load()` function in NumPy, it returns an `NpzFile` object. This object is dictionary-like and can be queried for its list of arrays using the `.files` attribute. The `.files` attribute provides a list of keys that can be used to access the individual arrays stored in the NpzFile object."
   ]
  },
  {
   "cell_type": "markdown",
   "id": "4fa552b6",
   "metadata": {},
   "source": [
    "---"
   ]
  },
  {
   "attachments": {},
   "cell_type": "markdown",
   "id": "5dc70916",
   "metadata": {},
   "source": [
    "**Question:**\n",
    "\n",
    "Which data type is **not** directly JSON serializable?\n",
    "\n",
    "1. Strings\n",
    "2. NumPy arrays\n",
    "3. Integers\n",
    "4. Dictionaries\n",
    "\n",
    "**Answer:** 2\n",
    "\n",
    "**NumPy arrays** are not directly JSON serializable."
   ]
  },
  {
   "cell_type": "markdown",
   "id": "41513ac1",
   "metadata": {},
   "source": [
    "---"
   ]
  },
  {
   "attachments": {},
   "cell_type": "markdown",
   "id": "0520dc7b",
   "metadata": {},
   "source": [
    "**Question:**\n",
    "\n",
    "Which function is used to access saved arrays from a compressed NumPy binary file?\n",
    "\n",
    "1. `numpy.get_arrays()`\n",
    "2. `numpy.download()`\n",
    "3. `numpy.files()`\n",
    "4. `numpy.load()`\n",
    "\n",
    "**Answer:** 4\n",
    "\n",
    "The `numpy.load()` function is used to access saved arrays from a compressed NumPy binary file."
   ]
  },
  {
   "cell_type": "markdown",
   "id": "0940d749",
   "metadata": {},
   "source": [
    "---"
   ]
  },
  {
   "attachments": {},
   "cell_type": "markdown",
   "id": "66baee6c",
   "metadata": {},
   "source": [
    "**Question:**\n",
    "\n",
    "Why is it recommended to use `numpy.save()` instead of `numpy.ndarray.tofile()` when saving arrays?\n",
    "\n",
    "1. The `numpy.save()` function is faster and more efficient.\n",
    "2. The `numpy.save()` function preserves the array's metadata and structure.\n",
    "3. The `numpy.save()` function allows for easy loading and manipulation of saved arrays.\n",
    "4. All of the above.\n",
    "\n",
    "**Answer:** 4\n",
    "\n",
    "\n",
    "Using `numpy.save()` instead of `numpy.ndarray.tofile()` provides advantages in terms of speed, efficient storage, preservation of metadata, and easier loading and manipulation of saved arrays."
   ]
  },
  {
   "cell_type": "markdown",
   "id": "f207ab53",
   "metadata": {},
   "source": [
    "---"
   ]
  }
 ],
 "metadata": {
  "kernelspec": {
   "display_name": "Python 3 (ipykernel)",
   "language": "python",
   "name": "python3"
  },
  "language_info": {
   "codemirror_mode": {
    "name": "ipython",
    "version": 3
   },
   "file_extension": ".py",
   "mimetype": "text/x-python",
   "name": "python",
   "nbconvert_exporter": "python",
   "pygments_lexer": "ipython3",
   "version": "3.10.12"
  }
 },
 "nbformat": 4,
 "nbformat_minor": 5
}
