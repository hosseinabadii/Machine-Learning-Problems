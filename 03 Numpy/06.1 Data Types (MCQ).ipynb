{
 "cells": [
  {
   "attachments": {},
   "cell_type": "markdown",
   "id": "f6d95ada-1c09-4517-880b-0dd3933d8b36",
   "metadata": {
    "tags": []
   },
   "source": [
    "# NumPy Data Types (MCQ)"
   ]
  },
  {
   "cell_type": "markdown",
   "id": "eb58038f-11df-436b-a652-ffeb0d7ba636",
   "metadata": {},
   "source": [
    "---"
   ]
  },
  {
   "attachments": {},
   "cell_type": "markdown",
   "id": "967ba0ea",
   "metadata": {},
   "source": [
    "**Question:**\n",
    "\n",
    "What are **structured** arrays in NumPy used for?\n",
    "\n",
    "1. Storing homogeneous data efficiently\n",
    "2. Storing compound, heterogeneous data\n",
    "3. Storing text data only\n",
    "4. Storing numeric data only\n",
    "\n",
    "**Answer:** 2\n",
    "\n",
    "The **structured** arrays in NumPy are used for storing compound, heterogeneous data. Structured arrays in NumPy allow efficient storage for data consisting of different types and can be used to store related information together."
   ]
  },
  {
   "cell_type": "markdown",
   "id": "9a223bf7",
   "metadata": {},
   "source": [
    "---"
   ]
  },
  {
   "attachments": {},
   "cell_type": "markdown",
   "id": "b6652367",
   "metadata": {},
   "source": [
    "**Question:**\n",
    "\n",
    "Which of the following NumPy functions is used to create a structured data type?\n",
    "\n",
    "1. `np.array()`\n",
    "2. `np.zeros()`\n",
    "3. `np.dtype()`\n",
    "4. `np.append()`\n",
    "\n",
    "**Answer:** 3\n",
    "\n",
    "A structured data type can be created using the `np.dtype()` function, where you specify the **names** and **formats** of the fields in the array."
   ]
  },
  {
   "cell_type": "markdown",
   "id": "2844c4cb",
   "metadata": {},
   "source": [
    "---"
   ]
  },
  {
   "attachments": {},
   "cell_type": "markdown",
   "id": "d5d0d934",
   "metadata": {},
   "source": [
    "**Question:**\n",
    "\n",
    "What does the expression `\"U10\"` represent in a structured array's dtype specification?\n",
    "\n",
    "1. 10-byte floating-point number\n",
    "2. Unicode string of maximum length 10\n",
    "3. 10-bit integer\n",
    "4. Unspecified type of length 10\n",
    "\n",
    "**Answer:** 2\n",
    "\n",
    "In a structured array's dtype specification, `\"U10\"` represents a Unicode string with a maximum length of 10 characters.\n"
   ]
  },
  {
   "cell_type": "markdown",
   "id": "456a1318",
   "metadata": {},
   "source": [
    "---"
   ]
  },
  {
   "attachments": {},
   "cell_type": "markdown",
   "id": "ff24be77",
   "metadata": {},
   "source": [
    "**Question:**\n",
    "\n",
    "```python\n",
    "import numpy as np\n",
    "x = np.array([\"help\", \"name\", \"book\"])\n",
    "x[0] = \"working\"\n",
    "print(x)\n",
    "```\n",
    "What is the result of the above code?\n",
    "\n",
    "1.\n",
    "```python\n",
    "['working' 'name' 'book']\n",
    "```\n",
    "2.\n",
    "```python\n",
    "['work' 'name' 'book']\n",
    "```\n",
    "3.\n",
    "```python\n",
    "['working']\n",
    "```\n",
    "4.\n",
    "```python\n",
    "['help working' 'name' 'book']\n",
    "```\n",
    "\n",
    "**Answer:** 2\n",
    "\n",
    "NumPy truncates \"working\" to get four characters, and the rest get lost in the void. The result of the code is:\n",
    "```python\n",
    "['work' 'name' 'book']\n",
    "```"
   ]
  },
  {
   "cell_type": "markdown",
   "id": "f94b9d95",
   "metadata": {},
   "source": [
    "---"
   ]
  },
  {
   "attachments": {},
   "cell_type": "markdown",
   "id": "8caf0f1a",
   "metadata": {},
   "source": [
    "**Question:**\n",
    "\n",
    "Which of the following is **NOT** a part of a structured data type in NumPy?\n",
    "\n",
    "1. Names of the fields\n",
    "2. Size of the fields\n",
    "3. Byte order of the data\n",
    "4. All of the above\n",
    "\n",
    "**Answer:** 4\n",
    "\n",
    "A structured data type includes **names** and **sizes** of fields, as well as **byte order** of the data."
   ]
  },
  {
   "cell_type": "markdown",
   "id": "4bb73f0a",
   "metadata": {},
   "source": [
    "---"
   ]
  },
  {
   "attachments": {},
   "cell_type": "markdown",
   "id": "8960cb11",
   "metadata": {},
   "source": [
    "**Question:**\n",
    "\n",
    "Which statement about **scalar types** and **dtype objects** in NumPy is **true**?\n",
    "\n",
    "1. Scalar types are instances of the dtype class.\n",
    "2. Scalar types are only used for integer numbers.\n",
    "3. Scalar types can be used in place of dtype objects.\n",
    "4. Scalar types are only used for floating-point numbers.\n",
    "\n",
    "**Answer:** 3\n",
    "\n",
    "Scalar types in NumPy are not dtype objects themselves, but they can be used interchangeably with dtype objects whenever a data type specification is needed. Scalar types cover various precisions of integers, floating-point numbers, etc."
   ]
  },
  {
   "cell_type": "markdown",
   "id": "b5ea1a38",
   "metadata": {},
   "source": [
    "---"
   ]
  },
  {
   "attachments": {},
   "cell_type": "markdown",
   "id": "7290f515",
   "metadata": {},
   "source": [
    "**Question:**\n",
    "\n",
    "What is the primary difference between the `np.datetime64()` and `np.timedelta64()` functions in NumPy?\n",
    "\n",
    "1. The `np.datetime64()` function represents specific dates and times, while `np.timedelta64()` represents durations or differences between dates and times.\n",
    "\n",
    "2. The `np.datetime64()` function represents durations or differences between dates and times, while `np.timedelta64()` represents specific dates and times.\n",
    "\n",
    "3. Both `np.datetime64()` and `np.timedelta64()` represent specific dates and times, but `np.datetime64()` provides higher precision than `np.timedelta64()`.\n",
    "\n",
    "4. Both `np.datetime64()` and `np.timedelta64()` represent durations or differences between dates and times, but `np.datetime64()` allows arithmetic operations while `np.timedelta64()` does not.\n",
    "\n",
    "**Answer:** 1\n",
    "\n",
    "The `np.datetime64()` function in NumPy is used to represent specific dates and times with a given precision. It allows you to work with individual points in time, like a particular date, hour, minute, and second.\n",
    "\n",
    "On the other hand, the `np.timedelta64()` function is used to represent durations or differences between dates and times. It stores a duration in a compact format, such as the number of days, hours, minutes, or seconds between two `np.datetime64` instances."
   ]
  },
  {
   "cell_type": "markdown",
   "id": "fb9ffc9c",
   "metadata": {},
   "source": [
    "---"
   ]
  }
 ],
 "metadata": {
  "kernelspec": {
   "display_name": "Python 3 (ipykernel)",
   "language": "python",
   "name": "python3"
  },
  "language_info": {
   "codemirror_mode": {
    "name": "ipython",
    "version": 3
   },
   "file_extension": ".py",
   "mimetype": "text/x-python",
   "name": "python",
   "nbconvert_exporter": "python",
   "pygments_lexer": "ipython3",
   "version": "3.10.12"
  }
 },
 "nbformat": 4,
 "nbformat_minor": 5
}
