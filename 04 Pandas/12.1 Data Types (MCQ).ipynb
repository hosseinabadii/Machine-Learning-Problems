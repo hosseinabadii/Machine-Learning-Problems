{
 "cells": [
  {
   "cell_type": "markdown",
   "id": "bbeed492-eb3e-4b85-b17b-35355fcf2ec3",
   "metadata": {
    "tags": []
   },
   "source": [
    "# Data Types (MCQ)"
   ]
  },
  {
   "cell_type": "markdown",
   "id": "2003ed69-e358-42d5-a39a-b124d3c95ae4",
   "metadata": {},
   "source": [
    "---"
   ]
  },
  {
   "cell_type": "markdown",
   "id": "2f1c2798",
   "metadata": {},
   "source": [
    "**Question:**\n",
    "\n",
    "What is the difference between `dtype` attribute and `dtypes` attribute in pandas?\n",
    "\n",
    "1. `dtype` returns the data types of all columns in a DataFrame, while `dtypes` returns the data type of a single Series or column.\n",
    "\n",
    "2. `dtype` and `dtypes` are the same attribute, used interchangeably in pandas.\n",
    "\n",
    "3. `dtype` and `dtypes` both return the data types of all columns in a DataFrame, but with slightly different formats.\n",
    "\n",
    "4. `dtype` returns the data type of a single Series or column, while `dtypes` returns the data types of all columns in a DataFrame.\n",
    "\n",
    "**Answer:** 4\n",
    "\n",
    "The `dtype` attribute is used to retrieve the data type of a single Series or column in a DataFrame. It returns the data type of the values in that particular Series or column.\n",
    "\n",
    "The `dtypes` attribute is used with a DataFrame and returns a Series containing the data types of all the columns in the DataFrame. It provides an overview of the data types for each column.\n"
   ]
  },
  {
   "cell_type": "markdown",
   "id": "85d2c78a",
   "metadata": {},
   "source": [
    "---"
   ]
  },
  {
   "cell_type": "markdown",
   "id": "ad5cef5a",
   "metadata": {},
   "source": [
    "**Question:**\n",
    "\n",
    "What is the meaning of **upcasting** in pandas?\n",
    "\n",
    "1. Upcasting refers to the process of converting data of a higher precision or larger size to a lower precision or smaller size.\n",
    "\n",
    "2. Upcasting refers to the process of automatically converting data of a lower precision or smaller size to a higher precision or larger size.\n",
    "\n",
    "3. Upcasting refers to the process of converting categorical data to numerical data in pandas.\n",
    "\n",
    "4. Upcasting refers to the process of converting numerical data to categorical data in pandas.\n",
    "\n",
    "**Answer:** 2\n",
    "\n",
    "In pandas, **upcasting** refers to the process of converting data of a lower precision or smaller size to a higher precision or larger size. This automatic conversion occurs when performing operations or computations on data with different data types.\n",
    "\n"
   ]
  },
  {
   "cell_type": "markdown",
   "id": "940588f8",
   "metadata": {},
   "source": [
    "---"
   ]
  },
  {
   "cell_type": "markdown",
   "id": "26a517b8",
   "metadata": {},
   "source": [
    "**Question:**\n",
    "\n",
    "What is the **default dtype** in pandas for integers, floating-point numbers, and strings?\n",
    "\n",
    "1. Integers: `int32`, Floating-point numbers: `float32`, Strings: `str`\n",
    "2. Integers: `int8`, Floating-point numbers: `float16`, Strings: `str`\n",
    "3. Integers: `int64`, Floating-point numbers: `float64`, Strings: `object`\n",
    "4. Integers: `int64`, Floating-point numbers: `float32`, Strings: `object`\n",
    "\n",
    "**Answer:** 3\n",
    "\n",
    "In pandas, the default data type (dtype) for integers is `int64`, which represents a 64-bit signed integer. For floating-point numbers, the default dtype is `float64`, which represents a 64-bit floating-point number. And for strings, the default dtype is `object`, which can hold any Python object and is commonly used to store strings.\n"
   ]
  },
  {
   "cell_type": "markdown",
   "id": "a0f06c4b",
   "metadata": {},
   "source": [
    "---"
   ]
  },
  {
   "cell_type": "markdown",
   "id": "8af8f5bf",
   "metadata": {},
   "source": [
    "**Question:**\n",
    "\n",
    "What is the use of the `astype()` method in pandas?\n",
    "\n",
    "1. It is used to specify the data type of a Series or DataFrame during object creation.\n",
    "\n",
    "2. It is used to convert the data type of a Series or DataFrame to a different data type.\n",
    "\n",
    "3. It is used to perform arithmetic operations on numerical data in pandas.\n",
    "\n",
    "4. It is used to filter rows based on specified criteria in pandas.\n",
    "\n",
    "**Answer:** 2\n",
    "\n",
    "The `astype()` method in pandas is used to convert the data type of a Series or DataFrame to a different data type. It allows you to explicitly specify the desired data type for the elements in the Series or DataFrame.\n"
   ]
  },
  {
   "cell_type": "markdown",
   "id": "49eb608b",
   "metadata": {},
   "source": [
    "---"
   ]
  },
  {
   "cell_type": "markdown",
   "id": "c4d79c69",
   "metadata": {},
   "source": [
    "**Question:**\n",
    "\n",
    "How can you specify the type of each column when using the `astype()` method on a DataFrame in pandas?\n",
    "\n",
    "1. By using the `dtype` parameter when creating the DataFrame.\n",
    "\n",
    "2. By using the `convert_dtypes()` method before applying the `astype()` method.\n",
    "\n",
    "3. By using the `select_dtypes()` method to filter columns based on data types.\n",
    "\n",
    "4. By passing a dictionary to the `astype()` method with column names as keys and desired data types as values.\n",
    "\n",
    "**Answer:** 4\n",
    "\n",
    "To specify the type of each column when using the `astype()` method on a DataFrame in pandas, you can pass a dictionary to the `astype()` method with column names as keys and the desired data types as values.\n"
   ]
  },
  {
   "cell_type": "markdown",
   "id": "c0fff0a7",
   "metadata": {},
   "source": [
    "---"
   ]
  },
  {
   "cell_type": "markdown",
   "id": "27a2ee12",
   "metadata": {},
   "source": [
    "**Question:**\n",
    "\n",
    "Which of the following **accurately** describe the use of the `convert_dtypes()` method in pandas?\n",
    "\n",
    "1. It is used to convert a Series or DataFrame to a different data type.\n",
    "2. It is used to convert categorical data to numerical data in pandas.\n",
    "3. It is used to convert a Series or DataFrame to the most appropriate data types that support `pd.NA` based on the data.\n",
    "4. It is used to convert string data to datetime data in pandas.\n",
    "\n",
    "**Answer:** 3\n",
    "\n",
    "The `convert_dtypes()` method in pandas is used to automatically convert a Series or DataFrame to the most appropriate data types that support `pd.NA` based on the data present in the object. It performs an intelligent type conversion, inferring and converting the data to more specific data types when possible.\n"
   ]
  },
  {
   "cell_type": "markdown",
   "id": "d5167f9e",
   "metadata": {},
   "source": [
    "---"
   ]
  },
  {
   "cell_type": "markdown",
   "id": "27ab9204",
   "metadata": {},
   "source": [
    "**Question:**\n",
    "\n",
    "Which of the following **accurately** describe the use of the `infer_objects()` method in pandas?\n",
    "\n",
    "\n",
    "1. It automatically detects and converts string-based columns to the object data type in a DataFrame.\n",
    "\n",
    "2. It attempts to infer better data types for object columns in a DataFrame.\n",
    "\n",
    "3. It converts a DataFrame to a new DataFrame with inferred data types.\n",
    "\n",
    "4. It converts numerical columns to their appropriate data types in a DataFrame.\n",
    "\n",
    "**Answer:** 2\n",
    "\n",
    "The `infer_objects()` method in pandas attempts to infer better data types for object columns in a DataFrame. It analyzes the data within each object column and tries to identify more appropriate and specific data types based on the values present.\n"
   ]
  },
  {
   "cell_type": "markdown",
   "id": "6f7181da",
   "metadata": {},
   "source": [
    "---"
   ]
  },
  {
   "cell_type": "markdown",
   "id": "60961531",
   "metadata": {},
   "source": [
    "**Question:**\n",
    "\n",
    "Which of the following does **NOT** correctly describe the use of specified method in pandas?\n",
    "\n",
    "1. `to_datetime`: Convert argument to datetime.\n",
    "2. `to_timedelta`: Convert argument to timedelta.\n",
    "3. `to_numeric`: Convert argument to numeric type.\n",
    "4. `convert_dtypes`: Convert argument to boolean type.\n",
    "\n",
    "**Answer:** 4\n",
    "\n",
    "The correct description of the `convert_dtypes` method is not \"to convert the argument to a boolean type\", but rather \"to convert the argument to the best possible dtype\"."
   ]
  },
  {
   "cell_type": "markdown",
   "id": "6a646a71",
   "metadata": {},
   "source": [
    "---"
   ]
  },
  {
   "cell_type": "markdown",
   "id": "d2f247bf",
   "metadata": {},
   "source": [
    "**Question:**\n",
    "\n",
    "What is the purpose of the **categorical** data type in pandas?\n",
    "\n",
    "1. It represents numerical data with a limited range of values.\n",
    "\n",
    "2. It enables efficient storage and manipulation of numerical data.\n",
    "\n",
    "3. It provides a way to handle missing values in a dataset.\n",
    "\n",
    "4. It represents data with a limited and predefined set of values.\n",
    "\n",
    "**Answer:** 4\n",
    "\n",
    "The **categorical** data type in pandas is designed to represent data with a limited and predefined set of values. It is particularly useful when working with variables that have a finite number of distinct categories or levels.\n"
   ]
  },
  {
   "cell_type": "markdown",
   "id": "20b013bf",
   "metadata": {},
   "source": [
    "---"
   ]
  },
  {
   "cell_type": "markdown",
   "id": "be9314fc",
   "metadata": {},
   "source": [
    "**Question:**\n",
    "\n",
    "What are the two data types for **textual** data in pandas?\n",
    "\n",
    "1. `int` and `float`\n",
    "2. `text` and `StringDtype`\n",
    "3. `object` and `StringDtype`\n",
    "4. `text` and `String`\n",
    "\n",
    "**Answer:** 3\n",
    "\n",
    "The two data types for textual data in pandas are `\"object\"` and `\"StringDtype\"`.\n"
   ]
  },
  {
   "cell_type": "markdown",
   "id": "6be26474",
   "metadata": {},
   "source": [
    "---"
   ]
  },
  {
   "cell_type": "markdown",
   "id": "384fd08f",
   "metadata": {},
   "source": [
    "**Question:**\n",
    "\n",
    "What is one drawback of using the **\"object\"** datatype to store strings?\n",
    "\n",
    "1. It cannot perform string operations.\n",
    "2. It cannot store non-string data.\n",
    "3. It requires explicit conversion to perform string operations.\n",
    "4. It has a broader scope and can store various data types.\n",
    "\n",
    "**Answer:** 4\n",
    "\n",
    "One drawback of using the **\"object\"** datatype to store strings is that it has a broader scope and can store any data type, not just strings.\n"
   ]
  },
  {
   "cell_type": "markdown",
   "id": "62e88011",
   "metadata": {},
   "source": [
    "---"
   ]
  },
  {
   "cell_type": "markdown",
   "id": "c9831579",
   "metadata": {},
   "source": [
    "**Question:**\n",
    "\n",
    "How can you explicitly specify the \"StringDtype\" in pandas?\n",
    "\n",
    "1. By setting the **dtype** parameter to `pd.StringDtype()`.\n",
    "\n",
    "2. By using the `astype(\"string\")` function.\n",
    "\n",
    "3. By setting the **dtype** parameter to **\"string\"**.\n",
    "\n",
    "4. All of the above\n",
    "\n",
    "**Answer:** 4\n",
    "\n",
    "We can pass **\"string\"** or `pd.StringDtype()` argument to dtype parameter to select string datatype.\n",
    "We can also convert from \"object\" to \"string\" data type using `astype` function."
   ]
  },
  {
   "cell_type": "markdown",
   "id": "701867f9",
   "metadata": {},
   "source": [
    "---"
   ]
  },
  {
   "cell_type": "markdown",
   "id": "453b1ced",
   "metadata": {},
   "source": [
    "**Question:**\n",
    "\n",
    "When should you consider using the **\"string\"** datatype instead of **\"object\"** for textual data?\n",
    "\n",
    "1. When you want to store non-string data.\n",
    "2. When you need a broader scope for data storage.\n",
    "3. When you want to perform data type-specific operations.\n",
    "4. When you prioritize performance and memory consumption.\n",
    "\n",
    "**Answer:** 3\n",
    "\n",
    "The \"string\" datatype should be considered when you want to perform data type-specific operations and manipulate textual data, such as using data type-specific selection methods.\n"
   ]
  },
  {
   "cell_type": "markdown",
   "id": "b047aeb5",
   "metadata": {},
   "source": [
    "---"
   ]
  },
  {
   "cell_type": "markdown",
   "id": "499973d4",
   "metadata": {},
   "source": [
    "**Question:**\n",
    "\n",
    "What is the purpose of the **\"nullable integer\"** data type in pandas?\n",
    "\n",
    "1. It provides a way to handle complex mathematical calculations.\n",
    "2. It represents integer values that can be null or missing.\n",
    "3. It is a synonym for the \"float\" data type in pandas.\n",
    "4. It is used to store only positive integer values.\n",
    "\n",
    "**Answer:** 2\n",
    "\n",
    "The **\"nullable integer\"** data type in pandas allows for the representation of integer values that can be null or missing. It is an extension of the traditional integer data type that supports the presence of missing values, denoted as `pandas.NA`\n"
   ]
  },
  {
   "cell_type": "markdown",
   "id": "fe9f8e7e",
   "metadata": {},
   "source": [
    "---"
   ]
  },
  {
   "cell_type": "markdown",
   "id": "71956c80",
   "metadata": {},
   "source": [
    "**Question:**\n",
    "\n",
    "What is the primary use of the `select_dtypes()` method in pandas?\n",
    "\n",
    "1. It selects specific columns from a DataFrame based on their data types.\n",
    "2. It performs mathematical calculations on numerical columns.\n",
    "3. It filters rows based on specific conditions.\n",
    "4. It sorts the DataFrame based on column values.\n",
    "\n",
    "**Answer:** 1\n",
    "\n",
    "The primary use of the `select_dtypes()` method in pandas is to select specific columns from a DataFrame based on their data types. By specifying the desired data types, you can extract only the columns that match those types, allowing for easier analysis and manipulation of specific subsets of data.\n"
   ]
  },
  {
   "cell_type": "markdown",
   "id": "e48c4f3c",
   "metadata": {},
   "source": [
    "---"
   ]
  },
  {
   "cell_type": "markdown",
   "id": "530032c3",
   "metadata": {},
   "source": [
    "**Question:**\n",
    "\n",
    "What are the parameters `include` and `exclude` used for in the `select_dtypes()` method?\n",
    "\n",
    "1. They specify the columns to include or exclude from the selection.\n",
    "2. They define the data types to include or exclude from the selection.\n",
    "3. They determine the sorting order of the selected columns.\n",
    "4. They filter rows based on specific conditions.\n",
    "\n",
    "**Answer:** 2\n",
    "\n",
    "The `include` and `exclude` parameters in the `select_dtypes()` method are used to define the data types to include or exclude from the selection. These parameters allow you to specify the data types of interest, either by explicitly including them or excluding them from the selection.\n"
   ]
  },
  {
   "cell_type": "markdown",
   "id": "1ea12416",
   "metadata": {},
   "source": [
    "---"
   ]
  }
 ],
 "metadata": {
  "kernelspec": {
   "display_name": "Python 3 (ipykernel)",
   "language": "python",
   "name": "python3"
  },
  "language_info": {
   "codemirror_mode": {
    "name": "ipython",
    "version": 3
   },
   "file_extension": ".py",
   "mimetype": "text/x-python",
   "name": "python",
   "nbconvert_exporter": "python",
   "pygments_lexer": "ipython3",
   "version": "3.10.12"
  }
 },
 "nbformat": 4,
 "nbformat_minor": 5
}
