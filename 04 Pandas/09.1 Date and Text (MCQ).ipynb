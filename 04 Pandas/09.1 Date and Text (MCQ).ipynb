{
 "cells": [
  {
   "cell_type": "markdown",
   "id": "03e999ed-4b29-425f-be02-56cdd7834060",
   "metadata": {},
   "source": [
    "# Date and Text with `.dt` and `.str` (MCQ)"
   ]
  },
  {
   "cell_type": "markdown",
   "id": "4b6fcf25-5a2c-4425-94bc-59312b0f4d14",
   "metadata": {},
   "source": [
    "---"
   ]
  },
  {
   "cell_type": "markdown",
   "id": "44147524",
   "metadata": {},
   "source": [
    "**Question:**\n",
    "\n",
    "What does the `.dt` accessor in Pandas allow you to access?\n",
    "\n",
    "1. Data type of a column\n",
    "2. Date and time properties of a column\n",
    "3. Descriptive statistics of a column\n",
    "4. Mathematical operations on a column\n",
    "\n",
    "**Answer:** 2\n",
    "\n",
    "The `.dt` accessor in Pandas allows you to access various **date and time** properties of a datetime column. These properties include year, month, day, hour, minute, second, etc. It provides convenient methods to perform operations and extract specific components from datetime data.\n"
   ]
  },
  {
   "cell_type": "markdown",
   "id": "99ca8956",
   "metadata": {},
   "source": [
    "---"
   ]
  },
  {
   "cell_type": "markdown",
   "id": "cfa7830f",
   "metadata": {},
   "source": [
    "**Question:**\n",
    "\n",
    "Which statement is **true** about the `.dt` accessor in Pandas?\n",
    "\n",
    "1. It works only with string columns.\n",
    "2. It works only with numerical columns.\n",
    "3. It works only with datetime columns.\n",
    "4. It works with categorical columns.\n",
    "\n",
    "**Answer:** 3\n",
    "\n",
    "The `.dt` accessor in Pandas is primarily designed to work with **datetime** columns\n"
   ]
  },
  {
   "cell_type": "markdown",
   "id": "2c9dfb3d",
   "metadata": {},
   "source": [
    "---"
   ]
  },
  {
   "cell_type": "markdown",
   "id": "3781843b",
   "metadata": {},
   "source": [
    "**Question:**\n",
    "\n",
    "What does the `.dt.day` property return when used with the `.dt` accessor?\n",
    "\n",
    "1. Year of the date\n",
    "2. Month of the date\n",
    "3. Day of the date\n",
    "4. Hour of the date\n",
    "\n",
    "**Answer:** 3\n",
    "\n",
    "The `.dt.day` property, when used with the `.dt` accessor, returns the **day component** of a datetime column. It extracts the day value from the date and returns it as a separate column or as part of a computation."
   ]
  },
  {
   "cell_type": "markdown",
   "id": "0988b377",
   "metadata": {},
   "source": [
    "---"
   ]
  },
  {
   "cell_type": "markdown",
   "id": "ac1eb2bc",
   "metadata": {},
   "source": [
    "**Question:**\n",
    "\n",
    "How can you extract the **hour** component from a datetime column using the `.dt` accessor?\n",
    "\n",
    "1. `.dt.year`\n",
    "2. `.dt.month`\n",
    "3. `.dt.day`\n",
    "4. `.dt.hour`\n",
    "\n",
    "**Answer:** 4\n",
    "\n",
    "To extract the **hour** component from a datetime column, you can use the `.dt.hour` property. It returns the hour value from the datetime column as a separate column or as part of a computation.\n"
   ]
  },
  {
   "cell_type": "markdown",
   "id": "e79024e0",
   "metadata": {},
   "source": [
    "---"
   ]
  },
  {
   "cell_type": "markdown",
   "id": "24eea51b",
   "metadata": {},
   "source": [
    "**Question:**\n",
    "\n",
    "Which of the following functions are examples of datetime functions that can be used with the `.dt` accessor in Pandas?\n",
    "\n",
    "1. `pd.date_range()`\n",
    "2. `pd.period_range()`\n",
    "3. `pd.timedelta_range()`\n",
    "4. All of the above\n",
    "\n",
    "**Answer:** 4\n",
    "\n",
    "The `.dt` accessor in Pandas allows you to access the datetime properties of a column. It can be used with various datetime functions such as:\n",
    "\n",
    "- `pd.date_range()`\n",
    "- `pd.period_range()`\n",
    "- `pd.timedelta_range()`"
   ]
  },
  {
   "cell_type": "markdown",
   "id": "d4c80236",
   "metadata": {},
   "source": [
    "---"
   ]
  },
  {
   "cell_type": "markdown",
   "id": "e0d34c97",
   "metadata": {},
   "source": [
    "**Question:**\n",
    "\n",
    "What does the `.str` accessor in Pandas allow you to access?\n",
    "\n",
    "1. Numeric properties of a column\n",
    "2. String properties and methods of a column\n",
    "3. Date and time properties of a column\n",
    "4. Categorical properties of a column\n",
    "\n",
    "**Answer:** 2\n",
    "\n",
    "The `.str` accessor in Pandas allows you to access **string** properties and methods of a column. It is used to perform various operations on string data within a column, such as extracting substrings, replacing values, converting case, and more.\n"
   ]
  },
  {
   "cell_type": "markdown",
   "id": "880add2e",
   "metadata": {},
   "source": [
    "---"
   ]
  },
  {
   "cell_type": "markdown",
   "id": "dc8ab872",
   "metadata": {},
   "source": [
    "**Question:**\n",
    "\n",
    "Which of the following is an example of using the `.str` accessor in Pandas?\n",
    "\n",
    "1. `.str.mean()`\n",
    "2. `.str.unique()`\n",
    "3. `.str.max()`\n",
    "4. `.str.len()`\n",
    "\n",
    "**Answer:** 4\n",
    "\n",
    "The `.len()` method is used with the `.str` accessor to compute the length of strings and return the result as a new column or as part of a computation.\n"
   ]
  },
  {
   "cell_type": "markdown",
   "id": "9df1544b",
   "metadata": {},
   "source": [
    "---"
   ]
  },
  {
   "cell_type": "markdown",
   "id": "6704b8c1",
   "metadata": {},
   "source": [
    "**Question:**\n",
    "\n",
    "Which statement is true about the `.str` accessor in Pandas?\n",
    "\n",
    "1. It works only with numerical columns.\n",
    "2. It works only with datetime columns.\n",
    "3. It works only with string columns.\n",
    "4. It works with both numerical and string columns.\n",
    "\n",
    "**Answer:** 3\n",
    "\n",
    "Explanation: The `.str` accessor in Pandas is specifically designed to work with **string** columns. It provides a wide range of string-specific methods and functions to manipulate and analyze string data.\n"
   ]
  },
  {
   "cell_type": "markdown",
   "id": "c064ef83",
   "metadata": {},
   "source": [
    "---"
   ]
  },
  {
   "cell_type": "markdown",
   "id": "a4727454",
   "metadata": {},
   "source": [
    "**Question:**\n",
    "\n",
    "What does the `.str.contains()` method do when used with the `.str` accessor?\n",
    "\n",
    "1. Checks if a string column contains a specific substring\n",
    "2. Counts the occurrences of a specific substring in a string column\n",
    "3. Replaces a specific substring with another value in a string column\n",
    "4. Converts the strings in a column to uppercase or lowercase\n",
    "\n",
    "**Answer:** 1\n",
    "\n",
    "The `.str.contains()` method, when used with the `.str` accessor, checks if a string column contains a specific substring and returns a Boolean series indicating the presence or absence of the substring in each string element of the column.\n"
   ]
  },
  {
   "cell_type": "markdown",
   "id": "c9178a9f",
   "metadata": {},
   "source": [
    "---"
   ]
  },
  {
   "cell_type": "markdown",
   "id": "5764e7a5",
   "metadata": {},
   "source": [
    "**Question:**\n",
    "\n",
    "How can you convert the strings in a string column to uppercase using the `.str` accessor?\n",
    "\n",
    "1. `.str.len()`\n",
    "2. `.str.contains()`\n",
    "3. `.str.upper()`\n",
    "4. `.str.replace()`\n",
    "\n",
    "**Answer:** 3\n",
    "\n",
    "To convert the strings in a string column to uppercase, you can use the `.str.upper()` method with the `.str` accessor. It will transform all the strings in the column to uppercase characters.\n"
   ]
  },
  {
   "cell_type": "markdown",
   "id": "f2664876",
   "metadata": {},
   "source": [
    "---"
   ]
  }
 ],
 "metadata": {
  "kernelspec": {
   "display_name": "Python 3 (ipykernel)",
   "language": "python",
   "name": "python3"
  },
  "language_info": {
   "codemirror_mode": {
    "name": "ipython",
    "version": 3
   },
   "file_extension": ".py",
   "mimetype": "text/x-python",
   "name": "python",
   "nbconvert_exporter": "python",
   "pygments_lexer": "ipython3",
   "version": "3.10.12"
  }
 },
 "nbformat": 4,
 "nbformat_minor": 5
}
